{
 "cells": [
  {
   "cell_type": "code",
   "execution_count": 296,
   "metadata": {},
   "outputs": [],
   "source": [
    "import pandas as pd"
   ]
  },
  {
   "cell_type": "code",
   "execution_count": 363,
   "metadata": {},
   "outputs": [
    {
     "data": {
      "text/html": [
       "<div>\n",
       "<style scoped>\n",
       "    .dataframe tbody tr th:only-of-type {\n",
       "        vertical-align: middle;\n",
       "    }\n",
       "\n",
       "    .dataframe tbody tr th {\n",
       "        vertical-align: top;\n",
       "    }\n",
       "\n",
       "    .dataframe thead th {\n",
       "        text-align: right;\n",
       "    }\n",
       "</style>\n",
       "<table border=\"1\" class=\"dataframe\">\n",
       "  <thead>\n",
       "    <tr style=\"text-align: right;\">\n",
       "      <th></th>\n",
       "      <th>id</th>\n",
       "      <th>dateTime</th>\n",
       "      <th>userName</th>\n",
       "      <th>content</th>\n",
       "      <th>clean_text</th>\n",
       "      <th>clean_text_stem</th>\n",
       "    </tr>\n",
       "  </thead>\n",
       "  <tbody>\n",
       "    <tr>\n",
       "      <th>0</th>\n",
       "      <td>1599288083807371264</td>\n",
       "      <td>2022-12-04 06:22:47+00:00</td>\n",
       "      <td>AzzahraMasyitah</td>\n",
       "      <td>ada aja nih, yang menyebar kan hoax di kala be...</td>\n",
       "      <td>aja nih menyebar hoax bencana kepentingan pribada</td>\n",
       "      <td>aja nih sebar hoax bencana penting pribada</td>\n",
       "    </tr>\n",
       "    <tr>\n",
       "      <th>1</th>\n",
       "      <td>1599286914049536000</td>\n",
       "      <td>2022-12-04 06:18:08+00:00</td>\n",
       "      <td>AzzahraMasyitah</td>\n",
       "      <td>Pak Ridwan Kamil terpilih pasti nya kedepannya...</td>\n",
       "      <td>ridwan kamil terpilih kedepannya</td>\n",
       "      <td>ridwan kamil pilih depan</td>\n",
       "    </tr>\n",
       "    <tr>\n",
       "      <th>2</th>\n",
       "      <td>1599286895095451649</td>\n",
       "      <td>2022-12-04 06:18:03+00:00</td>\n",
       "      <td>AzzahraMasyitah</td>\n",
       "      <td>@ihdanziga Pak Ridwan Kamil terpilih pasti nya...</td>\n",
       "      <td>ridwan kamil terpilih kedepannya</td>\n",
       "      <td>ridwan kamil pilih depan</td>\n",
       "    </tr>\n",
       "    <tr>\n",
       "      <th>3</th>\n",
       "      <td>1599286252549050369</td>\n",
       "      <td>2022-12-04 06:15:30+00:00</td>\n",
       "      <td>AzzahraMasyitah</td>\n",
       "      <td>Menurut saya dari kerja dan pengalaman banyak ...</td>\n",
       "      <td>pengalaman</td>\n",
       "      <td>alam</td>\n",
       "    </tr>\n",
       "    <tr>\n",
       "      <th>4</th>\n",
       "      <td>1599286207154126849</td>\n",
       "      <td>2022-12-04 06:15:19+00:00</td>\n",
       "      <td>AzzahraMasyitah</td>\n",
       "      <td>@aku_penggembira Menurut saya dari kerja dan p...</td>\n",
       "      <td>pengalaman</td>\n",
       "      <td>alam</td>\n",
       "    </tr>\n",
       "    <tr>\n",
       "      <th>...</th>\n",
       "      <td>...</td>\n",
       "      <td>...</td>\n",
       "      <td>...</td>\n",
       "      <td>...</td>\n",
       "      <td>...</td>\n",
       "      <td>...</td>\n",
       "    </tr>\n",
       "    <tr>\n",
       "      <th>926</th>\n",
       "      <td>1596106148746493953</td>\n",
       "      <td>2022-11-25 11:38:54+00:00</td>\n",
       "      <td>humas_jogja</td>\n",
       "      <td>Selengkapnya di https://t.co/5jnCSluqAZ\\nhttps...</td>\n",
       "      <td>selengkapnya</td>\n",
       "      <td>lengkap</td>\n",
       "    </tr>\n",
       "    <tr>\n",
       "      <th>927</th>\n",
       "      <td>1596106145781149698</td>\n",
       "      <td>2022-11-25 11:38:54+00:00</td>\n",
       "      <td>humas_jogja</td>\n",
       "      <td>Menurutnya Pemerintah Jepang selain memberikan...</td>\n",
       "      <td>menurutnya pemerintah jepang bantuan materi ba...</td>\n",
       "      <td>turut perintah jepang bantu materi bantu tahu ...</td>\n",
       "    </tr>\n",
       "    <tr>\n",
       "      <th>928</th>\n",
       "      <td>1596106142165643264</td>\n",
       "      <td>2022-11-25 11:38:53+00:00</td>\n",
       "      <td>humas_jogja</td>\n",
       "      <td>Secara khusus, Ridwan Kamil menyampaikan terim...</td>\n",
       "      <td>ridwan kamil meny aikan terima kasihnya anggot...</td>\n",
       "      <td>ridwan kamil meny aikan terima kasih anggota k...</td>\n",
       "    </tr>\n",
       "    <tr>\n",
       "      <th>929</th>\n",
       "      <td>1596106135492497408</td>\n",
       "      <td>2022-11-25 11:38:51+00:00</td>\n",
       "      <td>humas_jogja</td>\n",
       "      <td>Kongres ini digelar tahunan namun sempat absen...</td>\n",
       "      <td>kongres digelar tahunan absen pandemi tahun ko...</td>\n",
       "      <td>kongres gelar tahun absen pandemi tahun kongre...</td>\n",
       "    </tr>\n",
       "    <tr>\n",
       "      <th>930</th>\n",
       "      <td>1596106132132868096</td>\n",
       "      <td>2022-11-25 11:38:50+00:00</td>\n",
       "      <td>humas_jogja</td>\n",
       "      <td>Gubernur Jawa Barat Ridwan Kamil menjelaskan, ...</td>\n",
       "      <td>gubernur jawa barat ridwan kamil kongres pemer...</td>\n",
       "      <td>gubernur jawa barat ridwan kamil kongres perin...</td>\n",
       "    </tr>\n",
       "  </tbody>\n",
       "</table>\n",
       "<p>931 rows × 6 columns</p>\n",
       "</div>"
      ],
      "text/plain": [
       "                      id                   dateTime         userName  \\\n",
       "0    1599288083807371264  2022-12-04 06:22:47+00:00  AzzahraMasyitah   \n",
       "1    1599286914049536000  2022-12-04 06:18:08+00:00  AzzahraMasyitah   \n",
       "2    1599286895095451649  2022-12-04 06:18:03+00:00  AzzahraMasyitah   \n",
       "3    1599286252549050369  2022-12-04 06:15:30+00:00  AzzahraMasyitah   \n",
       "4    1599286207154126849  2022-12-04 06:15:19+00:00  AzzahraMasyitah   \n",
       "..                   ...                        ...              ...   \n",
       "926  1596106148746493953  2022-11-25 11:38:54+00:00      humas_jogja   \n",
       "927  1596106145781149698  2022-11-25 11:38:54+00:00      humas_jogja   \n",
       "928  1596106142165643264  2022-11-25 11:38:53+00:00      humas_jogja   \n",
       "929  1596106135492497408  2022-11-25 11:38:51+00:00      humas_jogja   \n",
       "930  1596106132132868096  2022-11-25 11:38:50+00:00      humas_jogja   \n",
       "\n",
       "                                               content  \\\n",
       "0    ada aja nih, yang menyebar kan hoax di kala be...   \n",
       "1    Pak Ridwan Kamil terpilih pasti nya kedepannya...   \n",
       "2    @ihdanziga Pak Ridwan Kamil terpilih pasti nya...   \n",
       "3    Menurut saya dari kerja dan pengalaman banyak ...   \n",
       "4    @aku_penggembira Menurut saya dari kerja dan p...   \n",
       "..                                                 ...   \n",
       "926  Selengkapnya di https://t.co/5jnCSluqAZ\\nhttps...   \n",
       "927  Menurutnya Pemerintah Jepang selain memberikan...   \n",
       "928  Secara khusus, Ridwan Kamil menyampaikan terim...   \n",
       "929  Kongres ini digelar tahunan namun sempat absen...   \n",
       "930  Gubernur Jawa Barat Ridwan Kamil menjelaskan, ...   \n",
       "\n",
       "                                            clean_text  \\\n",
       "0    aja nih menyebar hoax bencana kepentingan pribada   \n",
       "1                     ridwan kamil terpilih kedepannya   \n",
       "2                     ridwan kamil terpilih kedepannya   \n",
       "3                                           pengalaman   \n",
       "4                                           pengalaman   \n",
       "..                                                 ...   \n",
       "926                                       selengkapnya   \n",
       "927  menurutnya pemerintah jepang bantuan materi ba...   \n",
       "928  ridwan kamil meny aikan terima kasihnya anggot...   \n",
       "929  kongres digelar tahunan absen pandemi tahun ko...   \n",
       "930  gubernur jawa barat ridwan kamil kongres pemer...   \n",
       "\n",
       "                                       clean_text_stem  \n",
       "0           aja nih sebar hoax bencana penting pribada  \n",
       "1                             ridwan kamil pilih depan  \n",
       "2                             ridwan kamil pilih depan  \n",
       "3                                                 alam  \n",
       "4                                                 alam  \n",
       "..                                                 ...  \n",
       "926                                            lengkap  \n",
       "927  turut perintah jepang bantu materi bantu tahu ...  \n",
       "928  ridwan kamil meny aikan terima kasih anggota k...  \n",
       "929  kongres gelar tahun absen pandemi tahun kongre...  \n",
       "930  gubernur jawa barat ridwan kamil kongres perin...  \n",
       "\n",
       "[931 rows x 6 columns]"
      ]
     },
     "execution_count": 363,
     "metadata": {},
     "output_type": "execute_result"
    }
   ],
   "source": [
    "df = pd.read_csv(r\"D:\\Kuliah\\Tugas, PPT, Buku Kuliah\\Semester 5\\Natural Language Processing\\NLP_Dashboard\\Scraper\\data_clean\\hashtag_RidwanKamil.csv\")\n",
    "df"
   ]
  },
  {
   "cell_type": "code",
   "execution_count": 364,
   "metadata": {},
   "outputs": [],
   "source": [
    "data = {u'id':list(df['id']),\n",
    "                  u'datetime':list(df['dateTime']),\n",
    "                  u'username':list(df['userName']),\n",
    "                  u'content':list(df['content']),\n",
    "                  u'clean_text':list(df['clean_text']),\n",
    "                  u'clean_text_stem':list(df['clean_text_stem'])}"
   ]
  },
  {
   "cell_type": "code",
   "execution_count": 2,
   "metadata": {},
   "outputs": [],
   "source": [
    "import firebase_admin\n",
    "from firebase_admin import credentials, firestore\n",
    "\n",
    "cred = credentials.Certificate(\"project-nlp-9b41d-firebase-adminsdk-w4jxt-038c435e97.json\")\n",
    "firebase_admin.initialize_app(cred)\n",
    "db = firestore.client()  # this connects to our Firestore database"
   ]
  },
  {
   "cell_type": "code",
   "execution_count": 365,
   "metadata": {},
   "outputs": [],
   "source": [
    "db = firestore.client()  # this connects to our Firestore database"
   ]
  },
  {
   "cell_type": "code",
   "execution_count": 366,
   "metadata": {},
   "outputs": [
    {
     "data": {
      "text/plain": [
       "update_time {\n",
       "  seconds: 1670148785\n",
       "  nanos: 578780000\n",
       "}"
      ]
     },
     "execution_count": 366,
     "metadata": {},
     "output_type": "execute_result"
    }
   ],
   "source": [
    "db.collection(u'Sentiment').document(u'Ridwan Kamil').set(data)"
   ]
  },
  {
   "cell_type": "code",
   "execution_count": 367,
   "metadata": {},
   "outputs": [],
   "source": [
    "df2 = pd.read_csv(r\"D:\\Kuliah\\Tugas, PPT, Buku Kuliah\\Semester 5\\Natural Language Processing\\NLP_Dashboard\\Scraper\\data_clean\\userMention_@ridwankamil.csv\")"
   ]
  },
  {
   "cell_type": "code",
   "execution_count": 368,
   "metadata": {},
   "outputs": [],
   "source": [
    "doc = sentiment.document('Ridwan Kamil')\n",
    "res = doc.get().to_dict()"
   ]
  },
  {
   "cell_type": "code",
   "execution_count": 369,
   "metadata": {},
   "outputs": [],
   "source": [
    "data = {'id':res['id']+list(df2['id']),\n",
    "                  'datetime':res['datetime']+list(df2['dateTime']),\n",
    "                  'username':res['username']+list(df2['userName']),\n",
    "                  'content':res['content']+list(df2['content']),\n",
    "                  'clean_text':res['clean_text']+list(df2['clean_text']),\n",
    "                  'clean_text_stem':res['clean_text_stem']+list(df2['clean_text_stem'])}"
   ]
  },
  {
   "cell_type": "code",
   "execution_count": 370,
   "metadata": {},
   "outputs": [
    {
     "data": {
      "text/plain": [
       "update_time {\n",
       "  seconds: 1670148811\n",
       "  nanos: 10194000\n",
       "}"
      ]
     },
     "execution_count": 370,
     "metadata": {},
     "output_type": "execute_result"
    }
   ],
   "source": [
    "sentiment = db.collection(u'Sentiment')\n",
    "sentiment.document(u'Ridwan Kamil').set(data)"
   ]
  },
  {
   "cell_type": "code",
   "execution_count": 338,
   "metadata": {},
   "outputs": [],
   "source": [
    "doc = sentiment.document('AHY')\n",
    "res = doc.get().to_dict()"
   ]
  },
  {
   "cell_type": "code",
   "execution_count": 339,
   "metadata": {},
   "outputs": [
    {
     "data": {
      "text/html": [
       "<div>\n",
       "<style scoped>\n",
       "    .dataframe tbody tr th:only-of-type {\n",
       "        vertical-align: middle;\n",
       "    }\n",
       "\n",
       "    .dataframe tbody tr th {\n",
       "        vertical-align: top;\n",
       "    }\n",
       "\n",
       "    .dataframe thead th {\n",
       "        text-align: right;\n",
       "    }\n",
       "</style>\n",
       "<table border=\"1\" class=\"dataframe\">\n",
       "  <thead>\n",
       "    <tr style=\"text-align: right;\">\n",
       "      <th></th>\n",
       "      <th>content</th>\n",
       "      <th>clean_text</th>\n",
       "      <th>datetime</th>\n",
       "      <th>id</th>\n",
       "      <th>username</th>\n",
       "      <th>clean_text_stem</th>\n",
       "    </tr>\n",
       "  </thead>\n",
       "  <tbody>\n",
       "    <tr>\n",
       "      <th>0</th>\n",
       "      <td>Repost @pdemokrat\\r\\n\"Hubungan politik kita te...</td>\n",
       "      <td>repost hubungan politik terjalin meningkatkan ...</td>\n",
       "      <td>2022-12-03 14:39:47+00:00</td>\n",
       "      <td>1599050771777351681</td>\n",
       "      <td>pdemokratasahan</td>\n",
       "      <td>repost hubung politik jalin tingkat kerjasama ...</td>\n",
       "    </tr>\n",
       "    <tr>\n",
       "      <th>1</th>\n",
       "      <td>Rapat Bulanan DPN BMI: Membahas Program Kerja ...</td>\n",
       "      <td>rapat bulanan dpn bmi membahas program pembent...</td>\n",
       "      <td>2022-12-03 12:04:14+00:00</td>\n",
       "      <td>1599011627990679552</td>\n",
       "      <td>OfficialBMI__</td>\n",
       "      <td>rapat bulan dpn bmi bahas program bentuk panit...</td>\n",
       "    </tr>\n",
       "    <tr>\n",
       "      <th>2</th>\n",
       "      <td>Rapat Bulanan DPN BMI, membahas program kerja ...</td>\n",
       "      <td>rapat bulanan dpn bmi membahas program tahunan...</td>\n",
       "      <td>2022-12-03 10:43:36+00:00</td>\n",
       "      <td>1598991332458270720</td>\n",
       "      <td>OfficialBMI__</td>\n",
       "      <td>rapat bulan dpn bmi bahas program tahun bentuk...</td>\n",
       "    </tr>\n",
       "    <tr>\n",
       "      <th>3</th>\n",
       "      <td>\"Hubungan antara warga Indonesia dan Australia...</td>\n",
       "      <td>hubungan warga indonesia australia peopletopeo...</td>\n",
       "      <td>2022-12-03 10:13:14+00:00</td>\n",
       "      <td>1598983693691158529</td>\n",
       "      <td>dpcdemokratpmk</td>\n",
       "      <td>hubung warga indonesia australia peopletopeopl...</td>\n",
       "    </tr>\n",
       "    <tr>\n",
       "      <th>4</th>\n",
       "      <td>Demokrat desak presiden tertibkan pendukung ya...</td>\n",
       "      <td>demokrat desak presiden tertibkan pendukung te...</td>\n",
       "      <td>2022-12-03 09:38:31+00:00</td>\n",
       "      <td>1598974955613741056</td>\n",
       "      <td>ryanmatrex</td>\n",
       "      <td>demokrat desak presiden tertib dukung tebar benci</td>\n",
       "    </tr>\n",
       "    <tr>\n",
       "      <th>...</th>\n",
       "      <td>...</td>\n",
       "      <td>...</td>\n",
       "      <td>...</td>\n",
       "      <td>...</td>\n",
       "      <td>...</td>\n",
       "      <td>...</td>\n",
       "    </tr>\n",
       "    <tr>\n",
       "      <th>1861</th>\n",
       "      <td>Mas AHY dekat dengan ulama\\r\\n@AgusYudhoyono\\r...</td>\n",
       "      <td>mas ahy ulama ahy pimpin perubahan</td>\n",
       "      <td>2022-12-02 12:03:41+00:00</td>\n",
       "      <td>1598649101796904966</td>\n",
       "      <td>dpcacehselatan</td>\n",
       "      <td>mas ahy ulama ahy pimpin ubah</td>\n",
       "    </tr>\n",
       "    <tr>\n",
       "      <th>1862</th>\n",
       "      <td>Mas AHY dekat dengan ulama\\r\\n@AgusYudhoyono\\r...</td>\n",
       "      <td>mas ahy ulama ahy pimpin perubahan</td>\n",
       "      <td>2022-12-02 12:02:59+00:00</td>\n",
       "      <td>1598648925623549952</td>\n",
       "      <td>PutraAka2</td>\n",
       "      <td>mas ahy ulama ahy pimpin ubah</td>\n",
       "    </tr>\n",
       "    <tr>\n",
       "      <th>1863</th>\n",
       "      <td>@alimuhsuharli @AgusYudhoyono @PDemokrat @RAMu...</td>\n",
       "      <td>lanjutkan kemenangan</td>\n",
       "      <td>2022-12-02 12:01:28+00:00</td>\n",
       "      <td>1598648542108975106</td>\n",
       "      <td>Wastaniekosusi2</td>\n",
       "      <td>lanjut menang</td>\n",
       "    </tr>\n",
       "    <tr>\n",
       "      <th>1864</th>\n",
       "      <td>@PDemokrat Boleh tanya? @AgusYudhoyono itu sia...</td>\n",
       "      <td>jabatan pemerintahan lancang bangat bicara hub...</td>\n",
       "      <td>2022-12-02 11:59:35+00:00</td>\n",
       "      <td>1598648067925766144</td>\n",
       "      <td>FranTonga</td>\n",
       "      <td>jabat perintah lancang bangat bicara hubung ne...</td>\n",
       "    </tr>\n",
       "    <tr>\n",
       "      <th>1865</th>\n",
       "      <td>@WagimanDeep212_ Klaimnya kebangetan,, berasa ...</td>\n",
       "      <td>klaimnya kebangetan berasa halusinasi akut jud...</td>\n",
       "      <td>2022-12-02 11:55:39+00:00</td>\n",
       "      <td>1598647079869779968</td>\n",
       "      <td>panjipanjianji1</td>\n",
       "      <td>klaim banget asa halusinasi akut judul hasil k...</td>\n",
       "    </tr>\n",
       "  </tbody>\n",
       "</table>\n",
       "<p>1866 rows × 6 columns</p>\n",
       "</div>"
      ],
      "text/plain": [
       "                                                content  \\\n",
       "0     Repost @pdemokrat\\r\\n\"Hubungan politik kita te...   \n",
       "1     Rapat Bulanan DPN BMI: Membahas Program Kerja ...   \n",
       "2     Rapat Bulanan DPN BMI, membahas program kerja ...   \n",
       "3     \"Hubungan antara warga Indonesia dan Australia...   \n",
       "4     Demokrat desak presiden tertibkan pendukung ya...   \n",
       "...                                                 ...   \n",
       "1861  Mas AHY dekat dengan ulama\\r\\n@AgusYudhoyono\\r...   \n",
       "1862  Mas AHY dekat dengan ulama\\r\\n@AgusYudhoyono\\r...   \n",
       "1863  @alimuhsuharli @AgusYudhoyono @PDemokrat @RAMu...   \n",
       "1864  @PDemokrat Boleh tanya? @AgusYudhoyono itu sia...   \n",
       "1865  @WagimanDeep212_ Klaimnya kebangetan,, berasa ...   \n",
       "\n",
       "                                             clean_text  \\\n",
       "0     repost hubungan politik terjalin meningkatkan ...   \n",
       "1     rapat bulanan dpn bmi membahas program pembent...   \n",
       "2     rapat bulanan dpn bmi membahas program tahunan...   \n",
       "3     hubungan warga indonesia australia peopletopeo...   \n",
       "4     demokrat desak presiden tertibkan pendukung te...   \n",
       "...                                                 ...   \n",
       "1861                 mas ahy ulama ahy pimpin perubahan   \n",
       "1862                 mas ahy ulama ahy pimpin perubahan   \n",
       "1863                               lanjutkan kemenangan   \n",
       "1864  jabatan pemerintahan lancang bangat bicara hub...   \n",
       "1865  klaimnya kebangetan berasa halusinasi akut jud...   \n",
       "\n",
       "                       datetime                   id         username  \\\n",
       "0     2022-12-03 14:39:47+00:00  1599050771777351681  pdemokratasahan   \n",
       "1     2022-12-03 12:04:14+00:00  1599011627990679552    OfficialBMI__   \n",
       "2     2022-12-03 10:43:36+00:00  1598991332458270720    OfficialBMI__   \n",
       "3     2022-12-03 10:13:14+00:00  1598983693691158529   dpcdemokratpmk   \n",
       "4     2022-12-03 09:38:31+00:00  1598974955613741056       ryanmatrex   \n",
       "...                         ...                  ...              ...   \n",
       "1861  2022-12-02 12:03:41+00:00  1598649101796904966   dpcacehselatan   \n",
       "1862  2022-12-02 12:02:59+00:00  1598648925623549952        PutraAka2   \n",
       "1863  2022-12-02 12:01:28+00:00  1598648542108975106  Wastaniekosusi2   \n",
       "1864  2022-12-02 11:59:35+00:00  1598648067925766144        FranTonga   \n",
       "1865  2022-12-02 11:55:39+00:00  1598647079869779968  panjipanjianji1   \n",
       "\n",
       "                                        clean_text_stem  \n",
       "0     repost hubung politik jalin tingkat kerjasama ...  \n",
       "1     rapat bulan dpn bmi bahas program bentuk panit...  \n",
       "2     rapat bulan dpn bmi bahas program tahun bentuk...  \n",
       "3     hubung warga indonesia australia peopletopeopl...  \n",
       "4     demokrat desak presiden tertib dukung tebar benci  \n",
       "...                                                 ...  \n",
       "1861                      mas ahy ulama ahy pimpin ubah  \n",
       "1862                      mas ahy ulama ahy pimpin ubah  \n",
       "1863                                      lanjut menang  \n",
       "1864  jabat perintah lancang bangat bicara hubung ne...  \n",
       "1865  klaim banget asa halusinasi akut judul hasil k...  \n",
       "\n",
       "[1866 rows x 6 columns]"
      ]
     },
     "execution_count": 339,
     "metadata": {},
     "output_type": "execute_result"
    }
   ],
   "source": [
    "df = pd.DataFrame(res)\n",
    "df"
   ]
  },
  {
   "cell_type": "code",
   "execution_count": 310,
   "metadata": {},
   "outputs": [],
   "source": [
    "def conv_date(x):\n",
    "    x = x.date()\n",
    "    return x\n",
    "df['datetime'] = df.datetime.apply(lambda x: x.date())"
   ]
  },
  {
   "cell_type": "code",
   "execution_count": 329,
   "metadata": {},
   "outputs": [
    {
     "data": {
      "text/html": [
       "<div>\n",
       "<style scoped>\n",
       "    .dataframe tbody tr th:only-of-type {\n",
       "        vertical-align: middle;\n",
       "    }\n",
       "\n",
       "    .dataframe tbody tr th {\n",
       "        vertical-align: top;\n",
       "    }\n",
       "\n",
       "    .dataframe thead th {\n",
       "        text-align: right;\n",
       "    }\n",
       "</style>\n",
       "<table border=\"1\" class=\"dataframe\">\n",
       "  <thead>\n",
       "    <tr style=\"text-align: right;\">\n",
       "      <th></th>\n",
       "      <th>content</th>\n",
       "      <th>datetime</th>\n",
       "      <th>clean_text</th>\n",
       "      <th>id</th>\n",
       "      <th>clean_text_stem</th>\n",
       "      <th>username</th>\n",
       "    </tr>\n",
       "  </thead>\n",
       "  <tbody>\n",
       "    <tr>\n",
       "      <th>0</th>\n",
       "      <td>\"Kita harap Presiden Joko Widodo menertibkan p...</td>\n",
       "      <td>2022-12-03</td>\n",
       "      <td>harap presiden joko widodo menertibkan penduku...</td>\n",
       "      <td>1598885674606039040</td>\n",
       "      <td>harap presiden joko widodo tertib dukung yg ap...</td>\n",
       "      <td>dpcdemokratpmk</td>\n",
       "    </tr>\n",
       "    <tr>\n",
       "      <th>1</th>\n",
       "      <td>\"Ada harapan besar dari masyarakat bagi kembal...</td>\n",
       "      <td>2022-12-03</td>\n",
       "      <td>harapan masyarakat kembalinya partai demokrat ...</td>\n",
       "      <td>1598871917913858048</td>\n",
       "      <td>harap masyarakat kembali partai demokrat kanca...</td>\n",
       "      <td>DemokratSergai</td>\n",
       "    </tr>\n",
       "    <tr>\n",
       "      <th>2</th>\n",
       "      <td>Salam Perubahan dan Perbaikan \\n#AHY\\n#Emilsan...</td>\n",
       "      <td>2022-12-03</td>\n",
       "      <td>perubahan perbaikan</td>\n",
       "      <td>1598868510624841729</td>\n",
       "      <td>ubah baik</td>\n",
       "      <td>papae_dio</td>\n",
       "    </tr>\n",
       "    <tr>\n",
       "      <th>3</th>\n",
       "      <td>Kemenkop dan dinas koperasi di daerah juga har...</td>\n",
       "      <td>2022-12-03</td>\n",
       "      <td>kemenkop dinas koperasi daerah bertindak</td>\n",
       "      <td>1598848898642153475</td>\n",
       "      <td>kemenkop dinas koperasi daerah tindak</td>\n",
       "      <td>DemokratProbo1</td>\n",
       "    </tr>\n",
       "    <tr>\n",
       "      <th>4</th>\n",
       "      <td>Konsisten dan aktif memperjuangkan aturan huku...</td>\n",
       "      <td>2022-12-03</td>\n",
       "      <td>konsisten aktif memperjuangkan aturan hukum be...</td>\n",
       "      <td>1598846932616634373</td>\n",
       "      <td>konsisten aktif juang atur hukum adil masyarakat</td>\n",
       "      <td>DemokratProbo1</td>\n",
       "    </tr>\n",
       "    <tr>\n",
       "      <th>...</th>\n",
       "      <td>...</td>\n",
       "      <td>...</td>\n",
       "      <td>...</td>\n",
       "      <td>...</td>\n",
       "      <td>...</td>\n",
       "      <td>...</td>\n",
       "    </tr>\n",
       "    <tr>\n",
       "      <th>1888</th>\n",
       "      <td>@AgusYudhoyono Rakyat lagi susah klo sedang or...</td>\n",
       "      <td>2022-12-01</td>\n",
       "      <td>rakyat susah klo orasi eeeeh</td>\n",
       "      <td>1598432927029039104</td>\n",
       "      <td>rakyat susah klo orasi eeeeh</td>\n",
       "      <td>LayaSando</td>\n",
       "    </tr>\n",
       "    <tr>\n",
       "      <th>1889</th>\n",
       "      <td>@panca66 @AgusYudhoyono Boneka....</td>\n",
       "      <td>2022-12-01</td>\n",
       "      <td>boneka</td>\n",
       "      <td>1598431813210320896</td>\n",
       "      <td>boneka</td>\n",
       "      <td>ahsatmoko4971</td>\n",
       "    </tr>\n",
       "    <tr>\n",
       "      <th>1890</th>\n",
       "      <td>@AgusYudhoyono Horang Kaya tapi suka mengeluh</td>\n",
       "      <td>2022-12-01</td>\n",
       "      <td>horang kaya suka mengeluh</td>\n",
       "      <td>1598428981493391360</td>\n",
       "      <td>horang kaya suka keluh</td>\n",
       "      <td>PresidenKe2024</td>\n",
       "    </tr>\n",
       "    <tr>\n",
       "      <th>1891</th>\n",
       "      <td>Bangga skali dgn mas @agusyudhoyono, hal ini m...</td>\n",
       "      <td>2022-12-01</td>\n",
       "      <td>bangga skali dgn mas butuh pemimpin yg cerdas ...</td>\n",
       "      <td>1598428391841333248</td>\n",
       "      <td>bangga skali dgn mas butuh pimpin yg cerdas sm...</td>\n",
       "      <td>HaltimDemokrat</td>\n",
       "    </tr>\n",
       "    <tr>\n",
       "      <th>1892</th>\n",
       "      <td>@nicnohan1 @MSugiharto10 @Masfkr @masbroarief ...</td>\n",
       "      <td>2022-12-01</td>\n",
       "      <td>etikanya berpolitik atribut tni dilepas mikir ...</td>\n",
       "      <td>1598427651672133633</td>\n",
       "      <td>etika politik atribut tni lepas mikir ai situ ...</td>\n",
       "      <td>jagadmana</td>\n",
       "    </tr>\n",
       "  </tbody>\n",
       "</table>\n",
       "<p>1085 rows × 6 columns</p>\n",
       "</div>"
      ],
      "text/plain": [
       "                                                content    datetime  \\\n",
       "0     \"Kita harap Presiden Joko Widodo menertibkan p...  2022-12-03   \n",
       "1     \"Ada harapan besar dari masyarakat bagi kembal...  2022-12-03   \n",
       "2     Salam Perubahan dan Perbaikan \\n#AHY\\n#Emilsan...  2022-12-03   \n",
       "3     Kemenkop dan dinas koperasi di daerah juga har...  2022-12-03   \n",
       "4     Konsisten dan aktif memperjuangkan aturan huku...  2022-12-03   \n",
       "...                                                 ...         ...   \n",
       "1888  @AgusYudhoyono Rakyat lagi susah klo sedang or...  2022-12-01   \n",
       "1889                 @panca66 @AgusYudhoyono Boneka....  2022-12-01   \n",
       "1890      @AgusYudhoyono Horang Kaya tapi suka mengeluh  2022-12-01   \n",
       "1891  Bangga skali dgn mas @agusyudhoyono, hal ini m...  2022-12-01   \n",
       "1892  @nicnohan1 @MSugiharto10 @Masfkr @masbroarief ...  2022-12-01   \n",
       "\n",
       "                                             clean_text                   id  \\\n",
       "0     harap presiden joko widodo menertibkan penduku...  1598885674606039040   \n",
       "1     harapan masyarakat kembalinya partai demokrat ...  1598871917913858048   \n",
       "2                                   perubahan perbaikan  1598868510624841729   \n",
       "3              kemenkop dinas koperasi daerah bertindak  1598848898642153475   \n",
       "4     konsisten aktif memperjuangkan aturan hukum be...  1598846932616634373   \n",
       "...                                                 ...                  ...   \n",
       "1888                       rakyat susah klo orasi eeeeh  1598432927029039104   \n",
       "1889                                             boneka  1598431813210320896   \n",
       "1890                          horang kaya suka mengeluh  1598428981493391360   \n",
       "1891  bangga skali dgn mas butuh pemimpin yg cerdas ...  1598428391841333248   \n",
       "1892  etikanya berpolitik atribut tni dilepas mikir ...  1598427651672133633   \n",
       "\n",
       "                                        clean_text_stem        username  \n",
       "0     harap presiden joko widodo tertib dukung yg ap...  dpcdemokratpmk  \n",
       "1     harap masyarakat kembali partai demokrat kanca...  DemokratSergai  \n",
       "2                                             ubah baik       papae_dio  \n",
       "3                 kemenkop dinas koperasi daerah tindak  DemokratProbo1  \n",
       "4      konsisten aktif juang atur hukum adil masyarakat  DemokratProbo1  \n",
       "...                                                 ...             ...  \n",
       "1888                       rakyat susah klo orasi eeeeh       LayaSando  \n",
       "1889                                             boneka   ahsatmoko4971  \n",
       "1890                             horang kaya suka keluh  PresidenKe2024  \n",
       "1891  bangga skali dgn mas butuh pimpin yg cerdas sm...  HaltimDemokrat  \n",
       "1892  etika politik atribut tni lepas mikir ai situ ...       jagadmana  \n",
       "\n",
       "[1085 rows x 6 columns]"
      ]
     },
     "execution_count": 329,
     "metadata": {},
     "output_type": "execute_result"
    }
   ],
   "source": [
    "df[(df['datetime'] >= (datetime.now()-timedelta(days=7)).date()) & (df['datetime'] < (datetime.now()).date())]"
   ]
  },
  {
   "cell_type": "code",
   "execution_count": 318,
   "metadata": {},
   "outputs": [
    {
     "data": {
      "text/plain": [
       "datetime.date(2022, 12, 3)"
      ]
     },
     "execution_count": 318,
     "metadata": {},
     "output_type": "execute_result"
    }
   ],
   "source": [
    "(datetime.now()-timedelta(days=1)).date()"
   ]
  },
  {
   "cell_type": "code",
   "execution_count": 323,
   "metadata": {},
   "outputs": [],
   "source": [
    "pred = {\"last_update\":datetime.now(),\n",
    "        \"Positif\":1000,\n",
    "        \"Netral\":20,\n",
    "        \"Negatif\":100}"
   ]
  },
  {
   "cell_type": "code",
   "execution_count": 325,
   "metadata": {},
   "outputs": [
    {
     "data": {
      "text/plain": [
       "{'last_update': datetime.datetime(2022, 12, 4, 16, 48, 0, 633786),\n",
       " 'Positif': 1000,\n",
       " 'Netral': 20,\n",
       " 'Negatif': 100}"
      ]
     },
     "execution_count": 325,
     "metadata": {},
     "output_type": "execute_result"
    }
   ],
   "source": [
    "pred"
   ]
  },
  {
   "cell_type": "code",
   "execution_count": 330,
   "metadata": {},
   "outputs": [
    {
     "data": {
      "text/plain": [
       "update_time {\n",
       "  seconds: 1670148282\n",
       "  nanos: 491029000\n",
       "}"
      ]
     },
     "execution_count": 330,
     "metadata": {},
     "output_type": "execute_result"
    }
   ],
   "source": [
    "db.collection(u'Prediksi Sentimen').document(u'Today').set(pred)"
   ]
  },
  {
   "cell_type": "code",
   "execution_count": 379,
   "metadata": {},
   "outputs": [
    {
     "data": {
      "text/plain": [
       "update_time {\n",
       "  seconds: 1670149091\n",
       "  nanos: 296820000\n",
       "}"
      ]
     },
     "execution_count": 379,
     "metadata": {},
     "output_type": "execute_result"
    }
   ],
   "source": [
    "df = pd.read_csv(r\"D:\\Kuliah\\Tugas, PPT, Buku Kuliah\\Semester 5\\Natural Language Processing\\NLP_Dashboard\\Scraper\\data_clean\\userProfile_ridwankamil.csv\")\n",
    "data = {'id':list(df['id']),\n",
    "        'datetime':list(df['dateTime']),\n",
    "        'likes':list(df['likes']),\n",
    "        'content':list(df['content']),\n",
    "        'clean_text':list(df['clean_text']),\n",
    "        'clean_text_stem':list(df['clean_text_stem'])}\n",
    "\n",
    "db.collection(u'LDA').document(u'Ridwan Kamil').set(data)"
   ]
  },
  {
   "cell_type": "code",
   "execution_count": 5,
   "metadata": {},
   "outputs": [
    {
     "ename": "ValueError",
     "evalue": "The default Firebase app already exists. This means you called initialize_app() more than once without providing an app name as the second argument. In most cases you only need to call initialize_app() once. But if you do want to initialize multiple apps, pass a second argument to initialize_app() to give each app a unique name.",
     "output_type": "error",
     "traceback": [
      "\u001b[1;31m---------------------------------------------------------------------------\u001b[0m",
      "\u001b[1;31mValueError\u001b[0m                                Traceback (most recent call last)",
      "Cell \u001b[1;32mIn [5], line 5\u001b[0m\n\u001b[0;32m      2\u001b[0m \u001b[39mfrom\u001b[39;00m \u001b[39mfirebase_admin\u001b[39;00m \u001b[39mimport\u001b[39;00m credentials, firestore, storage\n\u001b[0;32m      4\u001b[0m cred \u001b[39m=\u001b[39m credentials\u001b[39m.\u001b[39mCertificate(\u001b[39m\"\u001b[39m\u001b[39mproject-nlp-9b41d-firebase-adminsdk-w4jxt-038c435e97.json\u001b[39m\u001b[39m\"\u001b[39m)\n\u001b[1;32m----> 5\u001b[0m firebase_admin\u001b[39m.\u001b[39;49minitialize_app(cred,{\n\u001b[0;32m      6\u001b[0m     \u001b[39m'\u001b[39;49m\u001b[39mstorageBucket\u001b[39;49m\u001b[39m'\u001b[39;49m: \u001b[39m'\u001b[39;49m\u001b[39mproject-nlp-9b41d.appspot.com\u001b[39;49m\u001b[39m'\u001b[39;49m\n\u001b[0;32m      7\u001b[0m })\n\u001b[0;32m      8\u001b[0m bucket \u001b[39m=\u001b[39m storage\u001b[39m.\u001b[39mbucket()\n",
      "File \u001b[1;32mc:\\Users\\Alfian\\anaconda3\\envs\\bicarapilpres\\lib\\site-packages\\firebase_admin\\__init__.py:71\u001b[0m, in \u001b[0;36minitialize_app\u001b[1;34m(credential, options, name)\u001b[0m\n\u001b[0;32m     68\u001b[0m         \u001b[39mreturn\u001b[39;00m app\n\u001b[0;32m     70\u001b[0m \u001b[39mif\u001b[39;00m name \u001b[39m==\u001b[39m _DEFAULT_APP_NAME:\n\u001b[1;32m---> 71\u001b[0m     \u001b[39mraise\u001b[39;00m \u001b[39mValueError\u001b[39;00m((\n\u001b[0;32m     72\u001b[0m         \u001b[39m'\u001b[39m\u001b[39mThe default Firebase app already exists. This means you called \u001b[39m\u001b[39m'\u001b[39m\n\u001b[0;32m     73\u001b[0m         \u001b[39m'\u001b[39m\u001b[39minitialize_app() more than once without providing an app name as \u001b[39m\u001b[39m'\u001b[39m\n\u001b[0;32m     74\u001b[0m         \u001b[39m'\u001b[39m\u001b[39mthe second argument. In most cases you only need to call \u001b[39m\u001b[39m'\u001b[39m\n\u001b[0;32m     75\u001b[0m         \u001b[39m'\u001b[39m\u001b[39minitialize_app() once. But if you do want to initialize multiple \u001b[39m\u001b[39m'\u001b[39m\n\u001b[0;32m     76\u001b[0m         \u001b[39m'\u001b[39m\u001b[39mapps, pass a second argument to initialize_app() to give each app \u001b[39m\u001b[39m'\u001b[39m\n\u001b[0;32m     77\u001b[0m         \u001b[39m'\u001b[39m\u001b[39ma unique name.\u001b[39m\u001b[39m'\u001b[39m))\n\u001b[0;32m     79\u001b[0m \u001b[39mraise\u001b[39;00m \u001b[39mValueError\u001b[39;00m((\n\u001b[0;32m     80\u001b[0m     \u001b[39m'\u001b[39m\u001b[39mFirebase app named \u001b[39m\u001b[39m\"\u001b[39m\u001b[39m{0}\u001b[39;00m\u001b[39m\"\u001b[39m\u001b[39m already exists. This means you called \u001b[39m\u001b[39m'\u001b[39m\n\u001b[0;32m     81\u001b[0m     \u001b[39m'\u001b[39m\u001b[39minitialize_app() more than once with the same app name as the \u001b[39m\u001b[39m'\u001b[39m\n\u001b[0;32m     82\u001b[0m     \u001b[39m'\u001b[39m\u001b[39msecond argument. Make sure you provide a unique name every time \u001b[39m\u001b[39m'\u001b[39m\n\u001b[0;32m     83\u001b[0m     \u001b[39m'\u001b[39m\u001b[39myou call initialize_app().\u001b[39m\u001b[39m'\u001b[39m)\u001b[39m.\u001b[39mformat(name))\n",
      "\u001b[1;31mValueError\u001b[0m: The default Firebase app already exists. This means you called initialize_app() more than once without providing an app name as the second argument. In most cases you only need to call initialize_app() once. But if you do want to initialize multiple apps, pass a second argument to initialize_app() to give each app a unique name."
     ]
    }
   ],
   "source": [
    "import firebase_admin\n",
    "from firebase_admin import credentials, firestore, storage\n",
    "\n",
    "cred = credentials.Certificate(\"project-nlp-9b41d-firebase-adminsdk-w4jxt-038c435e97.json\")\n",
    "firebase_admin.initialize_app(cred,{\n",
    "    'storageBucket': 'project-nlp-9b41d.appspot.com'\n",
    "})\n",
    "bucket = storage.bucket()"
   ]
  },
  {
   "cell_type": "code",
   "execution_count": 1,
   "metadata": {},
   "outputs": [
    {
     "data": {
      "text/plain": [
       "<firebase_admin.App at 0x2170266ef10>"
      ]
     },
     "execution_count": 1,
     "metadata": {},
     "output_type": "execute_result"
    }
   ],
   "source": [
    "import firebase_admin\n",
    "from firebase_admin import credentials, firestore, storage\n",
    "\n",
    "cred = credentials.Certificate(\"project-nlp-9b41d-firebase-adminsdk-w4jxt-038c435e97.json\")\n",
    "firebase_admin.initialize_app(cred,{\n",
    "    'storageBucket': 'project-nlp-9b41d.appspot.com'})"
   ]
  },
  {
   "cell_type": "code",
   "execution_count": 2,
   "metadata": {},
   "outputs": [],
   "source": [
    "bucket = storage.bucket()"
   ]
  },
  {
   "cell_type": "code",
   "execution_count": 6,
   "metadata": {},
   "outputs": [],
   "source": [
    "\n",
    "blob = bucket.blob(\"LDA/lda_ahy.html\")\n",
    "blob.upload_from_filename(\"LDA/lda_ahy.html\")"
   ]
  },
  {
   "cell_type": "code",
   "execution_count": 7,
   "metadata": {},
   "outputs": [],
   "source": [
    "from google.cloud import storage\n",
    "from google.oauth2 import service_account"
   ]
  },
  {
   "cell_type": "code",
   "execution_count": 8,
   "metadata": {},
   "outputs": [
    {
     "name": "stdout",
     "output_type": "stream",
     "text": [
      "File wordcloud_mention_anies.jpg uploaded to Wordcloud/wordcloud_mention_anies.jpg.\n"
     ]
    }
   ],
   "source": [
    "def upload_blob(bucket_name, source_file_name, destination_blob_name):\n",
    "    credentials = service_account.Credentials.from_service_account_file(\"project-nlp-9b41d-firebase-adminsdk-w4jxt-038c435e97.json\")\n",
    "    storage_client = storage.Client(credentials=credentials)\n",
    "    bucket = storage_client.bucket(bucket_name)\n",
    "    blob = bucket.blob(destination_blob_name)\n",
    "    blob.upload_from_filename(source_file_name)\n",
    "    print(f\"File {source_file_name} uploaded to {destination_blob_name}.\")\n",
    "upload_blob(firebase_admin.storage.bucket().name, 'wordcloud_mention_anies.jpg', 'Wordcloud/wordcloud_mention_anies.jpg')"
   ]
  },
  {
   "cell_type": "code",
   "execution_count": 9,
   "metadata": {},
   "outputs": [],
   "source": [
    "credentials = service_account.Credentials.from_service_account_file(\"project-nlp-9b41d-firebase-adminsdk-w4jxt-038c435e97.json\")\n",
    "storage.Client(credentials=credentials).bucket(firebase_admin.storage.bucket().name).blob('Wordcloud/wordcloud_mention_anies.jpg').download_to_filename('anies.jpg')"
   ]
  },
  {
   "cell_type": "code",
   "execution_count": 10,
   "metadata": {},
   "outputs": [],
   "source": [
    "import pandas as pd"
   ]
  },
  {
   "cell_type": "code",
   "execution_count": 22,
   "metadata": {},
   "outputs": [
    {
     "data": {
      "text/html": [
       "<div>\n",
       "<style scoped>\n",
       "    .dataframe tbody tr th:only-of-type {\n",
       "        vertical-align: middle;\n",
       "    }\n",
       "\n",
       "    .dataframe tbody tr th {\n",
       "        vertical-align: top;\n",
       "    }\n",
       "\n",
       "    .dataframe thead th {\n",
       "        text-align: right;\n",
       "    }\n",
       "</style>\n",
       "<table border=\"1\" class=\"dataframe\">\n",
       "  <thead>\n",
       "    <tr style=\"text-align: right;\">\n",
       "      <th></th>\n",
       "      <th>Unnamed: 0</th>\n",
       "      <th>id</th>\n",
       "      <th>dateTime</th>\n",
       "      <th>userName</th>\n",
       "      <th>content</th>\n",
       "      <th>clean_text</th>\n",
       "      <th>clean_text_stem</th>\n",
       "    </tr>\n",
       "  </thead>\n",
       "  <tbody>\n",
       "    <tr>\n",
       "      <th>0</th>\n",
       "      <td>0</td>\n",
       "      <td>1600030100090544128</td>\n",
       "      <td>2022-12-06 07:31:17+00:00</td>\n",
       "      <td>dpcdemokratpmk</td>\n",
       "      <td>Elektabilitas kita Alhamdulillah naik terus. J...</td>\n",
       "      <td>elektabilitas alhamdulillah jangn pernh jemawa...</td>\n",
       "      <td>elektabilitas alhamdulillah jangn pernh jemawa...</td>\n",
       "    </tr>\n",
       "    <tr>\n",
       "      <th>1</th>\n",
       "      <td>1</td>\n",
       "      <td>1600028189283475456</td>\n",
       "      <td>2022-12-06 07:23:42+00:00</td>\n",
       "      <td>DemokratProbo1</td>\n",
       "      <td>goyeng teyuzzzz ya #tetapahy #ahy #emilsangdem...</td>\n",
       "      <td>goyeng teyuzzzz</td>\n",
       "      <td>goyeng teyuzzzz</td>\n",
       "    </tr>\n",
       "    <tr>\n",
       "      <th>2</th>\n",
       "      <td>2</td>\n",
       "      <td>1600025752799674368</td>\n",
       "      <td>2022-12-06 07:14:01+00:00</td>\n",
       "      <td>AhyfansId</td>\n",
       "      <td>Ketum AHY Ajak Kader Demokrat Papua kejar keme...</td>\n",
       "      <td>ketum ahy ajak kader demokrat papua kejar keme...</td>\n",
       "      <td>tum ahy ajak kader demokrat papua kejar menang...</td>\n",
       "    </tr>\n",
       "    <tr>\n",
       "      <th>3</th>\n",
       "      <td>3</td>\n",
       "      <td>1600025484200677376</td>\n",
       "      <td>2022-12-06 07:12:57+00:00</td>\n",
       "      <td>AhyfansId</td>\n",
       "      <td>Demokrat Jatim ingin AHY maju di Pilpres 2024\\...</td>\n",
       "      <td>demokrat jatim ahy maju pilpres ahy pemimpin p...</td>\n",
       "      <td>demokrat jatim ahy maju pilpres ahy pimpin ubah</td>\n",
       "    </tr>\n",
       "    <tr>\n",
       "      <th>4</th>\n",
       "      <td>4</td>\n",
       "      <td>1599995249589473281</td>\n",
       "      <td>2022-12-06 05:12:48+00:00</td>\n",
       "      <td>demokratkotapas</td>\n",
       "      <td>Partai Demokrat menyayangkan aksi pelemparan t...</td>\n",
       "      <td>partai demokrat menyayangkan aksi pelemparan t...</td>\n",
       "      <td>partai demokrat sayang aksi lempar telur busuk...</td>\n",
       "    </tr>\n",
       "    <tr>\n",
       "      <th>...</th>\n",
       "      <td>...</td>\n",
       "      <td>...</td>\n",
       "      <td>...</td>\n",
       "      <td>...</td>\n",
       "      <td>...</td>\n",
       "      <td>...</td>\n",
       "      <td>...</td>\n",
       "    </tr>\n",
       "    <tr>\n",
       "      <th>1852</th>\n",
       "      <td>1852</td>\n",
       "      <td>1599378921170292736</td>\n",
       "      <td>2022-12-04 12:23:44+00:00</td>\n",
       "      <td>dpcpdkotacrb</td>\n",
       "      <td>Berbagi untuk sesama.\\r\\n@AgusYudhoyono\\r\\n@PD...</td>\n",
       "      <td>berbagi ahy politisi mendunia</td>\n",
       "      <td>bagi ahy politis dunia</td>\n",
       "    </tr>\n",
       "    <tr>\n",
       "      <th>1853</th>\n",
       "      <td>1853</td>\n",
       "      <td>1599378813762162689</td>\n",
       "      <td>2022-12-04 12:23:18+00:00</td>\n",
       "      <td>BobbyDarmanto27</td>\n",
       "      <td>Demokrat tegas\\r\\n@AgusYudhoyono\\r\\n@PDemokrat...</td>\n",
       "      <td>demokrat ahy politisi mendunia</td>\n",
       "      <td>demokrat ahy politis dunia</td>\n",
       "    </tr>\n",
       "    <tr>\n",
       "      <th>1854</th>\n",
       "      <td>1854</td>\n",
       "      <td>1599378787032240128</td>\n",
       "      <td>2022-12-04 12:23:12+00:00</td>\n",
       "      <td>dpcpdkotacrb</td>\n",
       "      <td>Demokrat wujudkan impian rakyat\\r\\n@AgusYudhoy...</td>\n",
       "      <td>demokrat wujudkan impian rakyat ahy politisi m...</td>\n",
       "      <td>demokrat wujud impi rakyat ahy politis dunia</td>\n",
       "    </tr>\n",
       "    <tr>\n",
       "      <th>1855</th>\n",
       "      <td>1855</td>\n",
       "      <td>1599378638905831424</td>\n",
       "      <td>2022-12-04 12:22:37+00:00</td>\n",
       "      <td>BobbyDarmanto27</td>\n",
       "      <td>Badiklat DPP Demokrat menggelar bimtek\\r\\n@Agu...</td>\n",
       "      <td>badiklat dpp demokrat menggelar bimtek ahy pol...</td>\n",
       "      <td>badiklat dpp demokrat gelar bimtek ahy politis...</td>\n",
       "    </tr>\n",
       "    <tr>\n",
       "      <th>1856</th>\n",
       "      <td>1856</td>\n",
       "      <td>1599378477660020736</td>\n",
       "      <td>2022-12-04 12:21:58+00:00</td>\n",
       "      <td>BobbyDarmanto27</td>\n",
       "      <td>Demokrat bersama Rakyat\\r\\n@AgusYudhoyono\\r\\n@...</td>\n",
       "      <td>demokrat rakyat ahy politisi mendunia</td>\n",
       "      <td>demokrat rakyat ahy politis dunia</td>\n",
       "    </tr>\n",
       "  </tbody>\n",
       "</table>\n",
       "<p>1857 rows × 7 columns</p>\n",
       "</div>"
      ],
      "text/plain": [
       "      Unnamed: 0                   id                   dateTime  \\\n",
       "0              0  1600030100090544128  2022-12-06 07:31:17+00:00   \n",
       "1              1  1600028189283475456  2022-12-06 07:23:42+00:00   \n",
       "2              2  1600025752799674368  2022-12-06 07:14:01+00:00   \n",
       "3              3  1600025484200677376  2022-12-06 07:12:57+00:00   \n",
       "4              4  1599995249589473281  2022-12-06 05:12:48+00:00   \n",
       "...          ...                  ...                        ...   \n",
       "1852        1852  1599378921170292736  2022-12-04 12:23:44+00:00   \n",
       "1853        1853  1599378813762162689  2022-12-04 12:23:18+00:00   \n",
       "1854        1854  1599378787032240128  2022-12-04 12:23:12+00:00   \n",
       "1855        1855  1599378638905831424  2022-12-04 12:22:37+00:00   \n",
       "1856        1856  1599378477660020736  2022-12-04 12:21:58+00:00   \n",
       "\n",
       "             userName                                            content  \\\n",
       "0      dpcdemokratpmk  Elektabilitas kita Alhamdulillah naik terus. J...   \n",
       "1      DemokratProbo1  goyeng teyuzzzz ya #tetapahy #ahy #emilsangdem...   \n",
       "2           AhyfansId  Ketum AHY Ajak Kader Demokrat Papua kejar keme...   \n",
       "3           AhyfansId  Demokrat Jatim ingin AHY maju di Pilpres 2024\\...   \n",
       "4     demokratkotapas  Partai Demokrat menyayangkan aksi pelemparan t...   \n",
       "...               ...                                                ...   \n",
       "1852     dpcpdkotacrb  Berbagi untuk sesama.\\r\\n@AgusYudhoyono\\r\\n@PD...   \n",
       "1853  BobbyDarmanto27  Demokrat tegas\\r\\n@AgusYudhoyono\\r\\n@PDemokrat...   \n",
       "1854     dpcpdkotacrb  Demokrat wujudkan impian rakyat\\r\\n@AgusYudhoy...   \n",
       "1855  BobbyDarmanto27  Badiklat DPP Demokrat menggelar bimtek\\r\\n@Agu...   \n",
       "1856  BobbyDarmanto27  Demokrat bersama Rakyat\\r\\n@AgusYudhoyono\\r\\n@...   \n",
       "\n",
       "                                             clean_text  \\\n",
       "0     elektabilitas alhamdulillah jangn pernh jemawa...   \n",
       "1                                       goyeng teyuzzzz   \n",
       "2     ketum ahy ajak kader demokrat papua kejar keme...   \n",
       "3     demokrat jatim ahy maju pilpres ahy pemimpin p...   \n",
       "4     partai demokrat menyayangkan aksi pelemparan t...   \n",
       "...                                                 ...   \n",
       "1852                      berbagi ahy politisi mendunia   \n",
       "1853                     demokrat ahy politisi mendunia   \n",
       "1854  demokrat wujudkan impian rakyat ahy politisi m...   \n",
       "1855  badiklat dpp demokrat menggelar bimtek ahy pol...   \n",
       "1856              demokrat rakyat ahy politisi mendunia   \n",
       "\n",
       "                                        clean_text_stem  \n",
       "0     elektabilitas alhamdulillah jangn pernh jemawa...  \n",
       "1                                       goyeng teyuzzzz  \n",
       "2     tum ahy ajak kader demokrat papua kejar menang...  \n",
       "3       demokrat jatim ahy maju pilpres ahy pimpin ubah  \n",
       "4     partai demokrat sayang aksi lempar telur busuk...  \n",
       "...                                                 ...  \n",
       "1852                             bagi ahy politis dunia  \n",
       "1853                         demokrat ahy politis dunia  \n",
       "1854       demokrat wujud impi rakyat ahy politis dunia  \n",
       "1855  badiklat dpp demokrat gelar bimtek ahy politis...  \n",
       "1856                  demokrat rakyat ahy politis dunia  \n",
       "\n",
       "[1857 rows x 7 columns]"
      ]
     },
     "execution_count": 22,
     "metadata": {},
     "output_type": "execute_result"
    }
   ],
   "source": [
    "df = pd.read_csv(r\"D:\\Kuliah\\Tugas, PPT, Buku Kuliah\\Semester 5\\Natural Language Processing\\NLP_Dashboard\\output\\data\\df_ahy.csv\")\n",
    "df"
   ]
  },
  {
   "cell_type": "code",
   "execution_count": 15,
   "metadata": {},
   "outputs": [],
   "source": [
    "from datetime import datetime, timedelta"
   ]
  },
  {
   "cell_type": "code",
   "execution_count": null,
   "metadata": {},
   "outputs": [],
   "source": []
  },
  {
   "cell_type": "code",
   "execution_count": 25,
   "metadata": {},
   "outputs": [
    {
     "ename": "TypeError",
     "evalue": "'>' not supported between instances of 'str' and 'datetime.datetime'",
     "output_type": "error",
     "traceback": [
      "\u001b[1;31m---------------------------------------------------------------------------\u001b[0m",
      "\u001b[1;31mTypeError\u001b[0m                                 Traceback (most recent call last)",
      "Cell \u001b[1;32mIn [25], line 1\u001b[0m\n\u001b[1;32m----> 1\u001b[0m t \u001b[39m=\u001b[39m df[(df[\u001b[39m'\u001b[39;49m\u001b[39mdateTime\u001b[39;49m\u001b[39m'\u001b[39;49m] \u001b[39m>\u001b[39;49m (datetime\u001b[39m.\u001b[39;49mnow()\u001b[39m-\u001b[39;49mtimedelta(days\u001b[39m=\u001b[39;49m\u001b[39m2\u001b[39;49m)))]\n\u001b[0;32m      2\u001b[0m t\n",
      "File \u001b[1;32mc:\\Users\\Alfian\\anaconda3\\envs\\bicarapilpres\\lib\\site-packages\\pandas\\core\\ops\\common.py:72\u001b[0m, in \u001b[0;36m_unpack_zerodim_and_defer.<locals>.new_method\u001b[1;34m(self, other)\u001b[0m\n\u001b[0;32m     68\u001b[0m             \u001b[39mreturn\u001b[39;00m \u001b[39mNotImplemented\u001b[39m\n\u001b[0;32m     70\u001b[0m other \u001b[39m=\u001b[39m item_from_zerodim(other)\n\u001b[1;32m---> 72\u001b[0m \u001b[39mreturn\u001b[39;00m method(\u001b[39mself\u001b[39;49m, other)\n",
      "File \u001b[1;32mc:\\Users\\Alfian\\anaconda3\\envs\\bicarapilpres\\lib\\site-packages\\pandas\\core\\arraylike.py:58\u001b[0m, in \u001b[0;36mOpsMixin.__gt__\u001b[1;34m(self, other)\u001b[0m\n\u001b[0;32m     56\u001b[0m \u001b[39m@unpack_zerodim_and_defer\u001b[39m(\u001b[39m\"\u001b[39m\u001b[39m__gt__\u001b[39m\u001b[39m\"\u001b[39m)\n\u001b[0;32m     57\u001b[0m \u001b[39mdef\u001b[39;00m \u001b[39m__gt__\u001b[39m(\u001b[39mself\u001b[39m, other):\n\u001b[1;32m---> 58\u001b[0m     \u001b[39mreturn\u001b[39;00m \u001b[39mself\u001b[39;49m\u001b[39m.\u001b[39;49m_cmp_method(other, operator\u001b[39m.\u001b[39;49mgt)\n",
      "File \u001b[1;32mc:\\Users\\Alfian\\anaconda3\\envs\\bicarapilpres\\lib\\site-packages\\pandas\\core\\series.py:6243\u001b[0m, in \u001b[0;36mSeries._cmp_method\u001b[1;34m(self, other, op)\u001b[0m\n\u001b[0;32m   6240\u001b[0m rvalues \u001b[39m=\u001b[39m extract_array(other, extract_numpy\u001b[39m=\u001b[39m\u001b[39mTrue\u001b[39;00m, extract_range\u001b[39m=\u001b[39m\u001b[39mTrue\u001b[39;00m)\n\u001b[0;32m   6242\u001b[0m \u001b[39mwith\u001b[39;00m np\u001b[39m.\u001b[39merrstate(\u001b[39mall\u001b[39m\u001b[39m=\u001b[39m\u001b[39m\"\u001b[39m\u001b[39mignore\u001b[39m\u001b[39m\"\u001b[39m):\n\u001b[1;32m-> 6243\u001b[0m     res_values \u001b[39m=\u001b[39m ops\u001b[39m.\u001b[39;49mcomparison_op(lvalues, rvalues, op)\n\u001b[0;32m   6245\u001b[0m \u001b[39mreturn\u001b[39;00m \u001b[39mself\u001b[39m\u001b[39m.\u001b[39m_construct_result(res_values, name\u001b[39m=\u001b[39mres_name)\n",
      "File \u001b[1;32mc:\\Users\\Alfian\\anaconda3\\envs\\bicarapilpres\\lib\\site-packages\\pandas\\core\\ops\\array_ops.py:287\u001b[0m, in \u001b[0;36mcomparison_op\u001b[1;34m(left, right, op)\u001b[0m\n\u001b[0;32m    284\u001b[0m     \u001b[39mreturn\u001b[39;00m invalid_comparison(lvalues, rvalues, op)\n\u001b[0;32m    286\u001b[0m \u001b[39melif\u001b[39;00m is_object_dtype(lvalues\u001b[39m.\u001b[39mdtype) \u001b[39mor\u001b[39;00m \u001b[39misinstance\u001b[39m(rvalues, \u001b[39mstr\u001b[39m):\n\u001b[1;32m--> 287\u001b[0m     res_values \u001b[39m=\u001b[39m comp_method_OBJECT_ARRAY(op, lvalues, rvalues)\n\u001b[0;32m    289\u001b[0m \u001b[39melse\u001b[39;00m:\n\u001b[0;32m    290\u001b[0m     res_values \u001b[39m=\u001b[39m _na_arithmetic_op(lvalues, rvalues, op, is_cmp\u001b[39m=\u001b[39m\u001b[39mTrue\u001b[39;00m)\n",
      "File \u001b[1;32mc:\\Users\\Alfian\\anaconda3\\envs\\bicarapilpres\\lib\\site-packages\\pandas\\core\\ops\\array_ops.py:75\u001b[0m, in \u001b[0;36mcomp_method_OBJECT_ARRAY\u001b[1;34m(op, x, y)\u001b[0m\n\u001b[0;32m     73\u001b[0m     result \u001b[39m=\u001b[39m libops\u001b[39m.\u001b[39mvec_compare(x\u001b[39m.\u001b[39mravel(), y\u001b[39m.\u001b[39mravel(), op)\n\u001b[0;32m     74\u001b[0m \u001b[39melse\u001b[39;00m:\n\u001b[1;32m---> 75\u001b[0m     result \u001b[39m=\u001b[39m libops\u001b[39m.\u001b[39;49mscalar_compare(x\u001b[39m.\u001b[39;49mravel(), y, op)\n\u001b[0;32m     76\u001b[0m \u001b[39mreturn\u001b[39;00m result\u001b[39m.\u001b[39mreshape(x\u001b[39m.\u001b[39mshape)\n",
      "File \u001b[1;32mc:\\Users\\Alfian\\anaconda3\\envs\\bicarapilpres\\lib\\site-packages\\pandas\\_libs\\ops.pyx:107\u001b[0m, in \u001b[0;36mpandas._libs.ops.scalar_compare\u001b[1;34m()\u001b[0m\n",
      "\u001b[1;31mTypeError\u001b[0m: '>' not supported between instances of 'str' and 'datetime.datetime'"
     ]
    }
   ],
   "source": [
    "t = df[(df['dateTime'] > (datetime.now()-timedelta(days=2)))]\n",
    "t"
   ]
  },
  {
   "cell_type": "code",
   "execution_count": 19,
   "metadata": {},
   "outputs": [
    {
     "data": {
      "text/plain": [
       "datetime.datetime(2022, 12, 3, 16, 22, 21, 724073)"
      ]
     },
     "execution_count": 19,
     "metadata": {},
     "output_type": "execute_result"
    }
   ],
   "source": [
    "datetime.now()-timedelta(days=3)"
   ]
  },
  {
   "cell_type": "code",
   "execution_count": 24,
   "metadata": {},
   "outputs": [
    {
     "data": {
      "text/plain": [
       "'2022-12-06 07:31:17+00:00'"
      ]
     },
     "execution_count": 24,
     "metadata": {},
     "output_type": "execute_result"
    }
   ],
   "source": [
    "df['dateTime'][0]"
   ]
  },
  {
   "cell_type": "code",
   "execution_count": 52,
   "metadata": {},
   "outputs": [
    {
     "data": {
      "text/plain": [
       "datetime.datetime(2022, 12, 6, 7, 31, 17)"
      ]
     },
     "execution_count": 52,
     "metadata": {},
     "output_type": "execute_result"
    }
   ],
   "source": [
    "a = datetime.strptime('2022-12-06 07:31:17+00:00', '%Y-%m-%d %H:%M:%S%z').replace(tzinfo=None)\n",
    "a"
   ]
  },
  {
   "cell_type": "code",
   "execution_count": 65,
   "metadata": {},
   "outputs": [
    {
     "data": {
      "text/plain": [
       "datetime.datetime(2022, 12, 6, 17, 1, 50, 866250)"
      ]
     },
     "execution_count": 65,
     "metadata": {},
     "output_type": "execute_result"
    }
   ],
   "source": [
    "\n",
    "b = datetime.now()\n",
    "b"
   ]
  },
  {
   "cell_type": "code",
   "execution_count": 54,
   "metadata": {},
   "outputs": [
    {
     "data": {
      "text/plain": [
       "True"
      ]
     },
     "execution_count": 54,
     "metadata": {},
     "output_type": "execute_result"
    }
   ],
   "source": [
    "a < b"
   ]
  },
  {
   "cell_type": "code",
   "execution_count": 1,
   "metadata": {},
   "outputs": [
    {
     "ename": "NameError",
     "evalue": "name 'firestore' is not defined",
     "output_type": "error",
     "traceback": [
      "\u001b[1;31m---------------------------------------------------------------------------\u001b[0m",
      "\u001b[1;31mNameError\u001b[0m                                 Traceback (most recent call last)",
      "Cell \u001b[1;32mIn [1], line 1\u001b[0m\n\u001b[1;32m----> 1\u001b[0m db \u001b[39m=\u001b[39m firestore\u001b[39m.\u001b[39mclient()\n",
      "\u001b[1;31mNameError\u001b[0m: name 'firestore' is not defined"
     ]
    }
   ],
   "source": [
    "\n",
    "db = firestore.client()  # this connects to our Firestore database\n"
   ]
  },
  {
   "cell_type": "code",
   "execution_count": 3,
   "metadata": {},
   "outputs": [],
   "source": [
    "dbs = db.collection('Sentiment')\n",
    "doc = dbs.document('rk')\n",
    "res = doc.get().to_dict()"
   ]
  },
  {
   "cell_type": "code",
   "execution_count": 5,
   "metadata": {},
   "outputs": [
    {
     "data": {
      "text/html": [
       "<div>\n",
       "<style scoped>\n",
       "    .dataframe tbody tr th:only-of-type {\n",
       "        vertical-align: middle;\n",
       "    }\n",
       "\n",
       "    .dataframe tbody tr th {\n",
       "        vertical-align: top;\n",
       "    }\n",
       "\n",
       "    .dataframe thead th {\n",
       "        text-align: right;\n",
       "    }\n",
       "</style>\n",
       "<table border=\"1\" class=\"dataframe\">\n",
       "  <thead>\n",
       "    <tr style=\"text-align: right;\">\n",
       "      <th></th>\n",
       "      <th>clean_text_stem</th>\n",
       "      <th>content</th>\n",
       "      <th>datetime</th>\n",
       "      <th>id</th>\n",
       "      <th>clean_text</th>\n",
       "      <th>username</th>\n",
       "      <th>label</th>\n",
       "    </tr>\n",
       "  </thead>\n",
       "  <tbody>\n",
       "    <tr>\n",
       "      <th>0</th>\n",
       "      <td>tinggal desa rezeki kota bisnis dunia tagline ...</td>\n",
       "      <td>Tinggal di Desa, Rezeki Kota, Bisnis Mendunia....</td>\n",
       "      <td>2022-12-06 13:54:15+00:00</td>\n",
       "      <td>1600020779353063425</td>\n",
       "      <td>tinggal desa rezeki kota bisnis mendunia tagli...</td>\n",
       "      <td>indagjabar</td>\n",
       "      <td>neutral</td>\n",
       "    </tr>\n",
       "    <tr>\n",
       "      <th>1</th>\n",
       "      <td>ah elektronik kenal ewaste alat listrik elektr...</td>\n",
       "      <td>Sampah elektronik (yang dikenal sebagai e-wast...</td>\n",
       "      <td>2022-12-06 13:39:34+00:00</td>\n",
       "      <td>1600017085543116800</td>\n",
       "      <td>ah elektronik dikenal ewaste peralatan listrik...</td>\n",
       "      <td>SatgasCitarum</td>\n",
       "      <td>neutral</td>\n",
       "    </tr>\n",
       "    <tr>\n",
       "      <th>2</th>\n",
       "      <td>ikut seminar nasional tema cipta layan publik ...</td>\n",
       "      <td>Ikuti! Seminar Nasional dengan tema \"Menciptak...</td>\n",
       "      <td>2022-12-06 12:01:18+00:00</td>\n",
       "      <td>1599992354244825088</td>\n",
       "      <td>ikuti seminar nasional tema menciptakan layana...</td>\n",
       "      <td>humasjabar</td>\n",
       "      <td>neutral</td>\n",
       "    </tr>\n",
       "    <tr>\n",
       "      <th>3</th>\n",
       "      <td>kemas unggul disperindag jabar uptd industri p...</td>\n",
       "      <td>KEMASAN UNGGUL 🥰\\n\\nDisperindag Jabar melalui ...</td>\n",
       "      <td>2022-12-06 11:38:31+00:00</td>\n",
       "      <td>1599986621130096640</td>\n",
       "      <td>kemasan unggul 🥰 disperindag jabar uptd indust...</td>\n",
       "      <td>indagjabar</td>\n",
       "      <td>neutral</td>\n",
       "    </tr>\n",
       "    <tr>\n",
       "      <th>4</th>\n",
       "      <td>hadap atas ka</td>\n",
       "      <td>Kita Hadapi Kita Atasi bersama Ka @erickthohir...</td>\n",
       "      <td>2022-12-06 09:24:45+00:00</td>\n",
       "      <td>1599952957097013250</td>\n",
       "      <td>hadapi atasi ka</td>\n",
       "      <td>topinfo2024</td>\n",
       "      <td>neutral</td>\n",
       "    </tr>\n",
       "    <tr>\n",
       "      <th>...</th>\n",
       "      <td>...</td>\n",
       "      <td>...</td>\n",
       "      <td>...</td>\n",
       "      <td>...</td>\n",
       "      <td>...</td>\n",
       "      <td>...</td>\n",
       "      <td>...</td>\n",
       "    </tr>\n",
       "    <tr>\n",
       "      <th>1874</th>\n",
       "      <td>dukung pilpres</td>\n",
       "      <td>@rkij_sukabumi @ridwankamil Saya dukung di pil...</td>\n",
       "      <td>2022-12-05 13:39:09+00:00</td>\n",
       "      <td>1599654589997142017</td>\n",
       "      <td>dukung pilpres</td>\n",
       "      <td>D1anRudiansyah</td>\n",
       "      <td>positive</td>\n",
       "    </tr>\n",
       "    <tr>\n",
       "      <th>1875</th>\n",
       "      <td>gub wakanda takut sm walkot kadrun opsional</td>\n",
       "      <td>@kurawa @ridwankamil (Apakah) Gub wakanda taku...</td>\n",
       "      <td>2022-12-05 13:38:10+00:00</td>\n",
       "      <td>1599654345628618757</td>\n",
       "      <td>gub wakanda takut sm walkot kadrun opsional</td>\n",
       "      <td>sweetnichay</td>\n",
       "      <td>negative</td>\n",
       "    </tr>\n",
       "    <tr>\n",
       "      <th>1876</th>\n",
       "      <td>salah pungli</td>\n",
       "      <td>@tulusperson @bu_zen13 @Gwendoline125 @ridwank...</td>\n",
       "      <td>2022-12-05 13:38:03+00:00</td>\n",
       "      <td>1599654315496706049</td>\n",
       "      <td>menyalahkan pungli</td>\n",
       "      <td>emerson_yuntho</td>\n",
       "      <td>negative</td>\n",
       "    </tr>\n",
       "    <tr>\n",
       "      <th>1877</th>\n",
       "      <td>disurvey rumah kena gempa cianjur cc</td>\n",
       "      <td>mulai disurvey rumah yang terkena dampak gempa...</td>\n",
       "      <td>2022-12-05 13:36:34+00:00</td>\n",
       "      <td>1599653941029265409</td>\n",
       "      <td>disurvey rumah terkena gempa cianjur cc</td>\n",
       "      <td>sundakeras98</td>\n",
       "      <td>neutral</td>\n",
       "    </tr>\n",
       "    <tr>\n",
       "      <th>1878</th>\n",
       "      <td>sman bekas pungli sat spp ga ban keren mas</td>\n",
       "      <td>@tulusperson @RasaAris @Gwendoline125 @ridwank...</td>\n",
       "      <td>2022-12-05 13:35:51+00:00</td>\n",
       "      <td>1599653760271142915</td>\n",
       "      <td>sman bekasi pungli sat spp ga dibantah keren mas</td>\n",
       "      <td>emerson_yuntho</td>\n",
       "      <td>negative</td>\n",
       "    </tr>\n",
       "  </tbody>\n",
       "</table>\n",
       "<p>1879 rows × 7 columns</p>\n",
       "</div>"
      ],
      "text/plain": [
       "                                        clean_text_stem  \\\n",
       "0     tinggal desa rezeki kota bisnis dunia tagline ...   \n",
       "1     ah elektronik kenal ewaste alat listrik elektr...   \n",
       "2     ikut seminar nasional tema cipta layan publik ...   \n",
       "3     kemas unggul disperindag jabar uptd industri p...   \n",
       "4                                         hadap atas ka   \n",
       "...                                                 ...   \n",
       "1874                                     dukung pilpres   \n",
       "1875        gub wakanda takut sm walkot kadrun opsional   \n",
       "1876                                       salah pungli   \n",
       "1877               disurvey rumah kena gempa cianjur cc   \n",
       "1878         sman bekas pungli sat spp ga ban keren mas   \n",
       "\n",
       "                                                content  \\\n",
       "0     Tinggal di Desa, Rezeki Kota, Bisnis Mendunia....   \n",
       "1     Sampah elektronik (yang dikenal sebagai e-wast...   \n",
       "2     Ikuti! Seminar Nasional dengan tema \"Menciptak...   \n",
       "3     KEMASAN UNGGUL 🥰\\n\\nDisperindag Jabar melalui ...   \n",
       "4     Kita Hadapi Kita Atasi bersama Ka @erickthohir...   \n",
       "...                                                 ...   \n",
       "1874  @rkij_sukabumi @ridwankamil Saya dukung di pil...   \n",
       "1875  @kurawa @ridwankamil (Apakah) Gub wakanda taku...   \n",
       "1876  @tulusperson @bu_zen13 @Gwendoline125 @ridwank...   \n",
       "1877  mulai disurvey rumah yang terkena dampak gempa...   \n",
       "1878  @tulusperson @RasaAris @Gwendoline125 @ridwank...   \n",
       "\n",
       "                      datetime                   id  \\\n",
       "0    2022-12-06 13:54:15+00:00  1600020779353063425   \n",
       "1    2022-12-06 13:39:34+00:00  1600017085543116800   \n",
       "2    2022-12-06 12:01:18+00:00  1599992354244825088   \n",
       "3    2022-12-06 11:38:31+00:00  1599986621130096640   \n",
       "4    2022-12-06 09:24:45+00:00  1599952957097013250   \n",
       "...                        ...                  ...   \n",
       "1874 2022-12-05 13:39:09+00:00  1599654589997142017   \n",
       "1875 2022-12-05 13:38:10+00:00  1599654345628618757   \n",
       "1876 2022-12-05 13:38:03+00:00  1599654315496706049   \n",
       "1877 2022-12-05 13:36:34+00:00  1599653941029265409   \n",
       "1878 2022-12-05 13:35:51+00:00  1599653760271142915   \n",
       "\n",
       "                                             clean_text        username  \\\n",
       "0     tinggal desa rezeki kota bisnis mendunia tagli...      indagjabar   \n",
       "1     ah elektronik dikenal ewaste peralatan listrik...   SatgasCitarum   \n",
       "2     ikuti seminar nasional tema menciptakan layana...      humasjabar   \n",
       "3     kemasan unggul 🥰 disperindag jabar uptd indust...      indagjabar   \n",
       "4                                       hadapi atasi ka     topinfo2024   \n",
       "...                                                 ...             ...   \n",
       "1874                                     dukung pilpres  D1anRudiansyah   \n",
       "1875        gub wakanda takut sm walkot kadrun opsional     sweetnichay   \n",
       "1876                                 menyalahkan pungli  emerson_yuntho   \n",
       "1877            disurvey rumah terkena gempa cianjur cc    sundakeras98   \n",
       "1878   sman bekasi pungli sat spp ga dibantah keren mas  emerson_yuntho   \n",
       "\n",
       "         label  \n",
       "0      neutral  \n",
       "1      neutral  \n",
       "2      neutral  \n",
       "3      neutral  \n",
       "4      neutral  \n",
       "...        ...  \n",
       "1874  positive  \n",
       "1875  negative  \n",
       "1876  negative  \n",
       "1877   neutral  \n",
       "1878  negative  \n",
       "\n",
       "[1879 rows x 7 columns]"
      ]
     },
     "execution_count": 5,
     "metadata": {},
     "output_type": "execute_result"
    }
   ],
   "source": [
    "import pandas as pd\n",
    "df = pd.DataFrame(res)\n",
    "df"
   ]
  },
  {
   "cell_type": "code",
   "execution_count": null,
   "metadata": {},
   "outputs": [],
   "source": [
    "from datetime import datetime, timedelta"
   ]
  },
  {
   "cell_type": "code",
   "execution_count": null,
   "metadata": {},
   "outputs": [],
   "source": [
    "datetime.now().date()"
   ]
  },
  {
   "cell_type": "code",
   "execution_count": 15,
   "metadata": {},
   "outputs": [],
   "source": [
    "df['datetime'] = df['datetime'].apply(lambda x: x.replace(tzinfo=None))\n",
    "d14 = df[df['datetime'] >= (datetime.now()-timedelta(days=14))]\n",
    "d7 = df[df['datetime'] >= (datetime.now()-timedelta(days=7))]\n",
    "d1 = df[df['datetime'] >= (datetime.now()-timedelta(days=2))]\n",
    "\n",
    "df_name = [df,d14,d7,d1]\n",
    "waktu = ['All time','14 Hari','7 Hari','Hari ini']\n",
    "hasil = {}\n",
    "for j in range(len(waktu)):\n",
    "    sen = df_name[j]['label'].value_counts().to_dict()\n",
    "    hasil[waktu[j]] = sen\n",
    "    hasil[waktu[j]]['last_update'] = datetime.now(tz=None)"
   ]
  },
  {
   "cell_type": "code",
   "execution_count": 16,
   "metadata": {},
   "outputs": [
    {
     "data": {
      "text/plain": [
       "{'All time': {'positive': 698,\n",
       "  'negative': 659,\n",
       "  'neutral': 522,\n",
       "  'last_update': datetime.datetime(2022, 12, 6, 17, 42, 37, 627446)},\n",
       " '14 Hari': {'positive': 698,\n",
       "  'negative': 659,\n",
       "  'neutral': 522,\n",
       "  'last_update': datetime.datetime(2022, 12, 6, 17, 42, 37, 628443)},\n",
       " '7 Hari': {'positive': 698,\n",
       "  'negative': 659,\n",
       "  'neutral': 522,\n",
       "  'last_update': datetime.datetime(2022, 12, 6, 17, 42, 37, 629441)},\n",
       " 'Hari ini': {'negative': 578,\n",
       "  'positive': 492,\n",
       "  'neutral': 464,\n",
       "  'last_update': datetime.datetime(2022, 12, 6, 17, 42, 37, 630438)}}"
      ]
     },
     "execution_count": 16,
     "metadata": {},
     "output_type": "execute_result"
    }
   ],
   "source": [
    "hasil"
   ]
  },
  {
   "cell_type": "code",
   "execution_count": 67,
   "metadata": {},
   "outputs": [
    {
     "data": {
      "text/plain": [
       "{'positive': 698,\n",
       " 'negative': 659,\n",
       " 'neutral': 522,\n",
       " 'last_update': datetime.datetime(2022, 12, 6, 17, 23, 14, 130757)}"
      ]
     },
     "execution_count": 67,
     "metadata": {},
     "output_type": "execute_result"
    }
   ],
   "source": [
    "a"
   ]
  },
  {
   "cell_type": "code",
   "execution_count": null,
   "metadata": {},
   "outputs": [],
   "source": []
  }
 ],
 "metadata": {
  "kernelspec": {
   "display_name": "Python 3.9.7 ('base')",
   "language": "python",
   "name": "python3"
  },
  "language_info": {
   "codemirror_mode": {
    "name": "ipython",
    "version": 3
   },
   "file_extension": ".py",
   "mimetype": "text/x-python",
   "name": "python",
   "nbconvert_exporter": "python",
   "pygments_lexer": "ipython3",
   "version": "3.9.7"
  },
  "orig_nbformat": 4,
  "vscode": {
   "interpreter": {
    "hash": "c45a8fd23574db316d2ea29d17c826963fdfde91ff67bc571ca5132ac0fdb06f"
   }
  }
 },
 "nbformat": 4,
 "nbformat_minor": 2
}
