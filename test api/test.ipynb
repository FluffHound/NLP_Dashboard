{
 "cells": [
  {
   "cell_type": "code",
   "execution_count": 2,
   "metadata": {},
   "outputs": [],
   "source": [
    "import requests\n",
    "from datetime import datetime"
   ]
  },
  {
   "cell_type": "code",
   "execution_count": 8,
   "metadata": {},
   "outputs": [],
   "source": [
    "r = requests.post(\n",
    "        \"http://127.0.0.1:5000/api/sentiment\",\n",
    "        json={\"status\": \"minta datanya dong\", \"calon\": \"anies\"},\n",
    "    )"
   ]
  },
  {
   "cell_type": "code",
   "execution_count": 9,
   "metadata": {},
   "outputs": [],
   "source": [
    "data = r.json()"
   ]
  },
  {
   "cell_type": "code",
   "execution_count": 10,
   "metadata": {},
   "outputs": [
    {
     "data": {
      "text/plain": [
       "857"
      ]
     },
     "execution_count": 10,
     "metadata": {},
     "output_type": "execute_result"
    }
   ],
   "source": [
    "data['7 Hari']['positive']"
   ]
  },
  {
   "cell_type": "code",
   "execution_count": 2,
   "metadata": {},
   "outputs": [],
   "source": [
    "r2 = requests.post(\n",
    "        \"http://127.0.0.1:8080/api/LDA\",\n",
    "        json={\"status\": \"minta datanya dong\", \"calon\": \"rk\"},\n",
    "    )\n",
    "save = open(\"lda/lda_rk.html\", \"wb\").write(r2.content)"
   ]
  },
  {
   "cell_type": "code",
   "execution_count": 7,
   "metadata": {},
   "outputs": [],
   "source": [
    "waktu = ['All time','14 Hari','7 Hari','Hari ini']\n",
    "sent = ['pos','neg','neu']\n",
    "\n",
    "for i in waktu:\n",
    "    for j in sent:\n",
    "        r3 = requests.post(\n",
    "        \"http://127.0.0.1:5000/api/wordcloudsent\", json={\"status\": \"minta datanya dong\", \"calon\": \"anies\",'waktu':i,'sentiment':j},)\n",
    "        save = open(f\"wordcloud/rk/wordcloud_mention_anies_{i}_{j}.jpg\", \"wb\").write(r3.content)"
   ]
  },
  {
   "cell_type": "code",
   "execution_count": 21,
   "metadata": {},
   "outputs": [],
   "source": [
    "r4 = requests.post(\n",
    "        \"http://127.0.0.1:5000/api/wordcloudprofile\",\n",
    "        json={\"status\": \"minta datanya dong\", \"calon\": \"rk\"},\n",
    "    )\n",
    "save = open(\"wordcloud/rk/wordcloud_profile_rk.jpg\", \"wb\").write(r4.content)"
   ]
  },
  {
   "cell_type": "code",
   "execution_count": 32,
   "metadata": {},
   "outputs": [
    {
     "data": {
      "text/plain": [
       "<Response [200]>"
      ]
     },
     "execution_count": 32,
     "metadata": {},
     "output_type": "execute_result"
    }
   ],
   "source": [
    "r3"
   ]
  },
  {
   "cell_type": "code",
   "execution_count": 4,
   "metadata": {},
   "outputs": [
    {
     "name": "stdout",
     "output_type": "stream",
     "text": [
      "2022-12-10\n"
     ]
    }
   ],
   "source": [
    "import os\n",
    "from datetime import datetime\n",
    "print(datetime.fromtimestamp(os.path.getmtime(r\"D:\\Kuliah\\Tugas, PPT, Buku Kuliah\\Semester 5\\Natural Language Processing\\NLP_Dashboard\\Website\\static\\assets\\Wordcloud\\ahy\\wordcloud_mention_ahy_7 Hari_neg.jpg\")).date())"
   ]
  },
  {
   "cell_type": "code",
   "execution_count": 5,
   "metadata": {},
   "outputs": [
    {
     "data": {
      "text/plain": [
       "datetime.date(2022, 12, 10)"
      ]
     },
     "execution_count": 5,
     "metadata": {},
     "output_type": "execute_result"
    }
   ],
   "source": [
    "datetime.now().date()"
   ]
  },
  {
   "cell_type": "code",
   "execution_count": null,
   "metadata": {},
   "outputs": [],
   "source": []
  }
 ],
 "metadata": {
  "kernelspec": {
   "display_name": "Python 3.9.7 ('base')",
   "language": "python",
   "name": "python3"
  },
  "language_info": {
   "codemirror_mode": {
    "name": "ipython",
    "version": 3
   },
   "file_extension": ".py",
   "mimetype": "text/x-python",
   "name": "python",
   "nbconvert_exporter": "python",
   "pygments_lexer": "ipython3",
   "version": "3.9.7"
  },
  "orig_nbformat": 4,
  "vscode": {
   "interpreter": {
    "hash": "c45a8fd23574db316d2ea29d17c826963fdfde91ff67bc571ca5132ac0fdb06f"
   }
  }
 },
 "nbformat": 4,
 "nbformat_minor": 2
}
