{
  "cells": [
    {
      "cell_type": "markdown",
      "metadata": {},
      "source": [
        "# **Kelompok 4 NLP**\n",
        "\n",
        "\n",
        "Anggota Kelompok : \n",
        "\n",
        "- GIovanny Alberta T (162012133012)\n",
        "- Najma Attaqiya Alya (162012133015)\n",
        "- Revina Astri Azzuhri (162012133020)\n",
        "- Dheandra Azzahra T (162012133028)\n",
        "- Muhammad Farhan Maulana (162012133032)\n",
        "- Muhammad Alfian Pratama (162012133037)\n",
        "- Adam Maurizio W (162012133045)\n",
        "- Aretha Levi (162012133048) \n",
        "- Ergidya liviani (162012133065)\n",
        "- Mutiara Afifah (162012133091)"
      ]
    },
    {
      "cell_type": "markdown",
      "metadata": {
        "id": "JLIbRRvA6sQq"
      },
      "source": [
        "# **Import Basic Libraries**"
      ]
    },
    {
      "cell_type": "code",
      "execution_count": 68,
      "metadata": {
        "id": "AGCcoclD6Kid"
      },
      "outputs": [
        {
          "name": "stderr",
          "output_type": "stream",
          "text": [
            "c:\\Users\\NAJMA\\AppData\\Local\\Programs\\Python\\Python39\\lib\\site-packages\\ipykernel\\ipkernel.py:283: DeprecationWarning: `should_run_async` will not call `transform_cell` automatically in the future. Please pass the result to `transformed_cell` argument and any exception that happen during thetransform in `preprocessing_exc_tuple` in IPython 7.17 and above.\n",
            "  and should_run_async(code)\n"
          ]
        }
      ],
      "source": [
        "import pandas as pd\n",
        "import numpy as np\n",
        "import matplotlib.pyplot as plt\n",
        "import seaborn as sns\n",
        "import string\n",
        "import re\n",
        "import gensim"
      ]
    },
    {
      "cell_type": "markdown",
      "metadata": {
        "id": "iqzF3PqB_OBU"
      },
      "source": [
        "# **Import Dataset**"
      ]
    },
    {
      "cell_type": "code",
      "execution_count": 69,
      "metadata": {
        "colab": {
          "base_uri": "https://localhost:8080/",
          "height": 206
        },
        "id": "qBWmADcB6z5C",
        "outputId": "1f0e1808-def2-4971-e370-8402b12c6aa1"
      },
      "outputs": [
        {
          "name": "stderr",
          "output_type": "stream",
          "text": [
            "c:\\Users\\NAJMA\\AppData\\Local\\Programs\\Python\\Python39\\lib\\site-packages\\ipykernel\\ipkernel.py:283: DeprecationWarning: `should_run_async` will not call `transform_cell` automatically in the future. Please pass the result to `transformed_cell` argument and any exception that happen during thetransform in `preprocessing_exc_tuple` in IPython 7.17 and above.\n",
            "  and should_run_async(code)\n"
          ]
        },
        {
          "data": {
            "text/html": [
              "<div>\n",
              "<style scoped>\n",
              "    .dataframe tbody tr th:only-of-type {\n",
              "        vertical-align: middle;\n",
              "    }\n",
              "\n",
              "    .dataframe tbody tr th {\n",
              "        vertical-align: top;\n",
              "    }\n",
              "\n",
              "    .dataframe thead th {\n",
              "        text-align: right;\n",
              "    }\n",
              "</style>\n",
              "<table border=\"1\" class=\"dataframe\">\n",
              "  <thead>\n",
              "    <tr style=\"text-align: right;\">\n",
              "      <th></th>\n",
              "      <th>name</th>\n",
              "    </tr>\n",
              "  </thead>\n",
              "  <tbody>\n",
              "    <tr>\n",
              "      <th>0</th>\n",
              "      <td>\\r\\n</td>\n",
              "    </tr>\n",
              "    <tr>\n",
              "      <th>1</th>\n",
              "      <td>Menteri Marwan Imbau Pemda Segera Salurkan Dan...</td>\n",
              "    </tr>\n",
              "    <tr>\n",
              "      <th>2</th>\n",
              "      <td>Luncurkan Buku, Irjen Anton Charliyan Bicara 9...</td>\n",
              "    </tr>\n",
              "    <tr>\n",
              "      <th>3</th>\n",
              "      <td>Disuruh Buka Wajah, Guru Paskibra Pelaku Penca...</td>\n",
              "    </tr>\n",
              "    <tr>\n",
              "      <th>4</th>\n",
              "      <td>Pelaku Usaha: Solo Harus Bersih dari 'Polisi S...</td>\n",
              "    </tr>\n",
              "  </tbody>\n",
              "</table>\n",
              "</div>"
            ],
            "text/plain": [
              "                                                name\n",
              "0                               \\r\\n                \n",
              "1  Menteri Marwan Imbau Pemda Segera Salurkan Dan...\n",
              "2  Luncurkan Buku, Irjen Anton Charliyan Bicara 9...\n",
              "3  Disuruh Buka Wajah, Guru Paskibra Pelaku Penca...\n",
              "4  Pelaku Usaha: Solo Harus Bersih dari 'Polisi S..."
            ]
          },
          "execution_count": 69,
          "metadata": {},
          "output_type": "execute_result"
        }
      ],
      "source": [
        "df = pd.read_csv('E:\\\\1.Kuliah\\\\3. Semester 5 TSD\\\\1. NLP\\\\Topic Modelling\\\\scrapedDetikNEWS2015-2020.csv (2)\\\\scrapedDetikNEWS2015-2020.csv')\n",
        "df.head()"
      ]
    },
    {
      "cell_type": "markdown",
      "metadata": {
        "id": "GVi0z6qjALUq"
      },
      "source": [
        "# **Data Preprocessing**"
      ]
    },
    {
      "cell_type": "markdown",
      "metadata": {
        "id": "A-cv3nnyAM_w"
      },
      "source": [
        "## Cek dimensi data"
      ]
    },
    {
      "cell_type": "code",
      "execution_count": 70,
      "metadata": {
        "colab": {
          "base_uri": "https://localhost:8080/"
        },
        "id": "sfr5YFQ2_88S",
        "outputId": "6fa4719c-c563-4bd1-a39b-eb85a042c8f1"
      },
      "outputs": [
        {
          "name": "stderr",
          "output_type": "stream",
          "text": [
            "c:\\Users\\NAJMA\\AppData\\Local\\Programs\\Python\\Python39\\lib\\site-packages\\ipykernel\\ipkernel.py:283: DeprecationWarning: `should_run_async` will not call `transform_cell` automatically in the future. Please pass the result to `transformed_cell` argument and any exception that happen during thetransform in `preprocessing_exc_tuple` in IPython 7.17 and above.\n",
            "  and should_run_async(code)\n"
          ]
        },
        {
          "data": {
            "text/plain": [
              "(19310, 1)"
            ]
          },
          "execution_count": 70,
          "metadata": {},
          "output_type": "execute_result"
        }
      ],
      "source": [
        "df.shape"
      ]
    },
    {
      "cell_type": "markdown",
      "metadata": {
        "id": "NyzOZaj_AP_y"
      },
      "source": [
        "## Cek tipe data"
      ]
    },
    {
      "cell_type": "code",
      "execution_count": 71,
      "metadata": {
        "colab": {
          "base_uri": "https://localhost:8080/"
        },
        "id": "EMyvck9gAPZI",
        "outputId": "5d39d951-3150-4d27-bf92-43eae22396d8"
      },
      "outputs": [
        {
          "name": "stderr",
          "output_type": "stream",
          "text": [
            "c:\\Users\\NAJMA\\AppData\\Local\\Programs\\Python\\Python39\\lib\\site-packages\\ipykernel\\ipkernel.py:283: DeprecationWarning: `should_run_async` will not call `transform_cell` automatically in the future. Please pass the result to `transformed_cell` argument and any exception that happen during thetransform in `preprocessing_exc_tuple` in IPython 7.17 and above.\n",
            "  and should_run_async(code)\n"
          ]
        },
        {
          "data": {
            "text/plain": [
              "name    object\n",
              "dtype: object"
            ]
          },
          "execution_count": 71,
          "metadata": {},
          "output_type": "execute_result"
        }
      ],
      "source": [
        "df.dtypes"
      ]
    },
    {
      "cell_type": "markdown",
      "metadata": {
        "id": "FkO4NgfEKE0d"
      },
      "source": [
        "## Cek missing values"
      ]
    },
    {
      "cell_type": "code",
      "execution_count": 72,
      "metadata": {
        "colab": {
          "base_uri": "https://localhost:8080/"
        },
        "id": "ASeu2KCOB5nt",
        "outputId": "0d21783d-e962-4298-9030-5e91f1bd6089"
      },
      "outputs": [
        {
          "name": "stderr",
          "output_type": "stream",
          "text": [
            "c:\\Users\\NAJMA\\AppData\\Local\\Programs\\Python\\Python39\\lib\\site-packages\\ipykernel\\ipkernel.py:283: DeprecationWarning: `should_run_async` will not call `transform_cell` automatically in the future. Please pass the result to `transformed_cell` argument and any exception that happen during thetransform in `preprocessing_exc_tuple` in IPython 7.17 and above.\n",
            "  and should_run_async(code)\n"
          ]
        },
        {
          "data": {
            "text/plain": [
              "name    0\n",
              "dtype: int64"
            ]
          },
          "execution_count": 72,
          "metadata": {},
          "output_type": "execute_result"
        }
      ],
      "source": [
        "df.isnull().sum()"
      ]
    },
    {
      "cell_type": "markdown",
      "metadata": {
        "id": "jjSQVIxGKab9"
      },
      "source": [
        "# **Text Preprocessing**"
      ]
    },
    {
      "cell_type": "markdown",
      "metadata": {
        "id": "Yg4hKH9VKeHk"
      },
      "source": [
        "## Case Folding"
      ]
    },
    {
      "cell_type": "code",
      "execution_count": 73,
      "metadata": {
        "colab": {
          "base_uri": "https://localhost:8080/",
          "height": 206
        },
        "id": "Rxufj_-pKfbC",
        "outputId": "38fe54cd-a4bc-412a-999c-18c6178a4d4e"
      },
      "outputs": [
        {
          "name": "stderr",
          "output_type": "stream",
          "text": [
            "c:\\Users\\NAJMA\\AppData\\Local\\Programs\\Python\\Python39\\lib\\site-packages\\ipykernel\\ipkernel.py:283: DeprecationWarning: `should_run_async` will not call `transform_cell` automatically in the future. Please pass the result to `transformed_cell` argument and any exception that happen during thetransform in `preprocessing_exc_tuple` in IPython 7.17 and above.\n",
            "  and should_run_async(code)\n"
          ]
        },
        {
          "data": {
            "text/html": [
              "<div>\n",
              "<style scoped>\n",
              "    .dataframe tbody tr th:only-of-type {\n",
              "        vertical-align: middle;\n",
              "    }\n",
              "\n",
              "    .dataframe tbody tr th {\n",
              "        vertical-align: top;\n",
              "    }\n",
              "\n",
              "    .dataframe thead th {\n",
              "        text-align: right;\n",
              "    }\n",
              "</style>\n",
              "<table border=\"1\" class=\"dataframe\">\n",
              "  <thead>\n",
              "    <tr style=\"text-align: right;\">\n",
              "      <th></th>\n",
              "      <th>name</th>\n",
              "      <th>name_casefold</th>\n",
              "    </tr>\n",
              "  </thead>\n",
              "  <tbody>\n",
              "    <tr>\n",
              "      <th>0</th>\n",
              "      <td>\\r\\n</td>\n",
              "      <td>\\r\\n</td>\n",
              "    </tr>\n",
              "    <tr>\n",
              "      <th>1</th>\n",
              "      <td>Menteri Marwan Imbau Pemda Segera Salurkan Dan...</td>\n",
              "      <td>menteri marwan imbau pemda segera salurkan dan...</td>\n",
              "    </tr>\n",
              "    <tr>\n",
              "      <th>2</th>\n",
              "      <td>Luncurkan Buku, Irjen Anton Charliyan Bicara 9...</td>\n",
              "      <td>luncurkan buku, irjen anton charliyan bicara 9...</td>\n",
              "    </tr>\n",
              "    <tr>\n",
              "      <th>3</th>\n",
              "      <td>Disuruh Buka Wajah, Guru Paskibra Pelaku Penca...</td>\n",
              "      <td>disuruh buka wajah, guru paskibra pelaku penca...</td>\n",
              "    </tr>\n",
              "    <tr>\n",
              "      <th>4</th>\n",
              "      <td>Pelaku Usaha: Solo Harus Bersih dari 'Polisi S...</td>\n",
              "      <td>pelaku usaha: solo harus bersih dari 'polisi s...</td>\n",
              "    </tr>\n",
              "  </tbody>\n",
              "</table>\n",
              "</div>"
            ],
            "text/plain": [
              "                                                name  \\\n",
              "0                               \\r\\n                   \n",
              "1  Menteri Marwan Imbau Pemda Segera Salurkan Dan...   \n",
              "2  Luncurkan Buku, Irjen Anton Charliyan Bicara 9...   \n",
              "3  Disuruh Buka Wajah, Guru Paskibra Pelaku Penca...   \n",
              "4  Pelaku Usaha: Solo Harus Bersih dari 'Polisi S...   \n",
              "\n",
              "                                       name_casefold  \n",
              "0                               \\r\\n                  \n",
              "1  menteri marwan imbau pemda segera salurkan dan...  \n",
              "2  luncurkan buku, irjen anton charliyan bicara 9...  \n",
              "3  disuruh buka wajah, guru paskibra pelaku penca...  \n",
              "4  pelaku usaha: solo harus bersih dari 'polisi s...  "
            ]
          },
          "execution_count": 73,
          "metadata": {},
          "output_type": "execute_result"
        }
      ],
      "source": [
        "df['name_casefold'] = df['name'].str.lower()\n",
        "df.head()"
      ]
    },
    {
      "cell_type": "markdown",
      "metadata": {
        "id": "CD6SHcddKqAS"
      },
      "source": [
        "## Text Cleaning"
      ]
    },
    {
      "cell_type": "code",
      "execution_count": 74,
      "metadata": {
        "colab": {
          "base_uri": "https://localhost:8080/",
          "height": 206
        },
        "id": "dL9YJBpeKm3R",
        "outputId": "a0233cac-82ea-428d-c315-d1d648bf5354"
      },
      "outputs": [
        {
          "name": "stderr",
          "output_type": "stream",
          "text": [
            "c:\\Users\\NAJMA\\AppData\\Local\\Programs\\Python\\Python39\\lib\\site-packages\\ipykernel\\ipkernel.py:283: DeprecationWarning: `should_run_async` will not call `transform_cell` automatically in the future. Please pass the result to `transformed_cell` argument and any exception that happen during thetransform in `preprocessing_exc_tuple` in IPython 7.17 and above.\n",
            "  and should_run_async(code)\n",
            "<>:17: DeprecationWarning: invalid escape sequence \\s\n",
            "<>:17: DeprecationWarning: invalid escape sequence \\s\n",
            "<ipython-input-74-271ddb9ac5c4>:17: DeprecationWarning: invalid escape sequence \\s\n",
            "  return re.sub('\\s+', ' ', text)\n"
          ]
        },
        {
          "data": {
            "text/html": [
              "<div>\n",
              "<style scoped>\n",
              "    .dataframe tbody tr th:only-of-type {\n",
              "        vertical-align: middle;\n",
              "    }\n",
              "\n",
              "    .dataframe tbody tr th {\n",
              "        vertical-align: top;\n",
              "    }\n",
              "\n",
              "    .dataframe thead th {\n",
              "        text-align: right;\n",
              "    }\n",
              "</style>\n",
              "<table border=\"1\" class=\"dataframe\">\n",
              "  <thead>\n",
              "    <tr style=\"text-align: right;\">\n",
              "      <th></th>\n",
              "      <th>name</th>\n",
              "      <th>name_casefold</th>\n",
              "      <th>name_cleaned</th>\n",
              "    </tr>\n",
              "  </thead>\n",
              "  <tbody>\n",
              "    <tr>\n",
              "      <th>0</th>\n",
              "      <td>\\r\\n</td>\n",
              "      <td>\\r\\n</td>\n",
              "      <td></td>\n",
              "    </tr>\n",
              "    <tr>\n",
              "      <th>1</th>\n",
              "      <td>Menteri Marwan Imbau Pemda Segera Salurkan Dan...</td>\n",
              "      <td>menteri marwan imbau pemda segera salurkan dan...</td>\n",
              "      <td>menteri marwan imbau pemda segera salurkan dan...</td>\n",
              "    </tr>\n",
              "    <tr>\n",
              "      <th>2</th>\n",
              "      <td>Luncurkan Buku, Irjen Anton Charliyan Bicara 9...</td>\n",
              "      <td>luncurkan buku, irjen anton charliyan bicara 9...</td>\n",
              "      <td>luncurkan buku irjen anton charliyan bicara ra...</td>\n",
              "    </tr>\n",
              "    <tr>\n",
              "      <th>3</th>\n",
              "      <td>Disuruh Buka Wajah, Guru Paskibra Pelaku Penca...</td>\n",
              "      <td>disuruh buka wajah, guru paskibra pelaku penca...</td>\n",
              "      <td>disuruh buka wajah guru paskibra pelaku pencab...</td>\n",
              "    </tr>\n",
              "    <tr>\n",
              "      <th>4</th>\n",
              "      <td>Pelaku Usaha: Solo Harus Bersih dari 'Polisi S...</td>\n",
              "      <td>pelaku usaha: solo harus bersih dari 'polisi s...</td>\n",
              "      <td>pelaku usaha solo harus bersih dari polisi swa...</td>\n",
              "    </tr>\n",
              "  </tbody>\n",
              "</table>\n",
              "</div>"
            ],
            "text/plain": [
              "                                                name  \\\n",
              "0                               \\r\\n                   \n",
              "1  Menteri Marwan Imbau Pemda Segera Salurkan Dan...   \n",
              "2  Luncurkan Buku, Irjen Anton Charliyan Bicara 9...   \n",
              "3  Disuruh Buka Wajah, Guru Paskibra Pelaku Penca...   \n",
              "4  Pelaku Usaha: Solo Harus Bersih dari 'Polisi S...   \n",
              "\n",
              "                                       name_casefold  \\\n",
              "0                               \\r\\n                   \n",
              "1  menteri marwan imbau pemda segera salurkan dan...   \n",
              "2  luncurkan buku, irjen anton charliyan bicara 9...   \n",
              "3  disuruh buka wajah, guru paskibra pelaku penca...   \n",
              "4  pelaku usaha: solo harus bersih dari 'polisi s...   \n",
              "\n",
              "                                        name_cleaned  \n",
              "0                                                     \n",
              "1  menteri marwan imbau pemda segera salurkan dan...  \n",
              "2  luncurkan buku irjen anton charliyan bicara ra...  \n",
              "3  disuruh buka wajah guru paskibra pelaku pencab...  \n",
              "4  pelaku usaha solo harus bersih dari polisi swa...  "
            ]
          },
          "execution_count": 74,
          "metadata": {},
          "output_type": "execute_result"
        }
      ],
      "source": [
        "def remove_number(text):\n",
        "  return re.sub(r'\\d+', '', text)\n",
        "\n",
        "df['name_cleaned'] = df['name_casefold'].apply(remove_number)\n",
        "\n",
        "def remove_punc(text):\n",
        "  return text.translate(str.maketrans('','',string.punctuation))\n",
        "\n",
        "df['name_cleaned'] = df['name_cleaned'].apply(remove_punc)\n",
        "\n",
        "def remove_whitespace(text):\n",
        "  return text.strip()\n",
        "\n",
        "df['name_cleaned'] = df['name_cleaned'].apply(remove_whitespace)\n",
        "\n",
        "def remove_whitespace_multi(text):\n",
        "  return re.sub('\\s+', ' ', text)\n",
        "\n",
        "df['name_cleaned'] = df['name_cleaned'].apply(remove_whitespace_multi)\n",
        "\n",
        "def remove_single_char(text):\n",
        "  return re.sub(r'\\b[a-zA-Z]\\b', '', text)\n",
        "\n",
        "df['name_cleaned'] = df['name_cleaned'].apply(remove_single_char)\n",
        "\n",
        "df.head()"
      ]
    },
    {
      "cell_type": "markdown",
      "metadata": {
        "id": "xwZE7u6JK9kw"
      },
      "source": [
        "## Tokenizing"
      ]
    },
    {
      "cell_type": "code",
      "execution_count": 75,
      "metadata": {
        "colab": {
          "base_uri": "https://localhost:8080/"
        },
        "id": "uhBFvtsOLApw",
        "outputId": "0bbb9eda-1360-4e0f-99c4-b4d4a9579ede"
      },
      "outputs": [
        {
          "name": "stderr",
          "output_type": "stream",
          "text": [
            "c:\\Users\\NAJMA\\AppData\\Local\\Programs\\Python\\Python39\\lib\\site-packages\\ipykernel\\ipkernel.py:283: DeprecationWarning: `should_run_async` will not call `transform_cell` automatically in the future. Please pass the result to `transformed_cell` argument and any exception that happen during thetransform in `preprocessing_exc_tuple` in IPython 7.17 and above.\n",
            "  and should_run_async(code)\n",
            "[nltk_data] Downloading package punkt to\n",
            "[nltk_data]     C:\\Users\\NAJMA\\AppData\\Roaming\\nltk_data...\n",
            "[nltk_data]   Package punkt is already up-to-date!\n"
          ]
        },
        {
          "data": {
            "text/plain": [
              "True"
            ]
          },
          "execution_count": 75,
          "metadata": {},
          "output_type": "execute_result"
        }
      ],
      "source": [
        "import nltk\n",
        "nltk.download('punkt')"
      ]
    },
    {
      "cell_type": "code",
      "execution_count": 76,
      "metadata": {
        "colab": {
          "base_uri": "https://localhost:8080/",
          "height": 268
        },
        "id": "kKdf7iZeLD0y",
        "outputId": "a69d4fc6-3aaf-4892-9624-794686bd0c52"
      },
      "outputs": [
        {
          "name": "stderr",
          "output_type": "stream",
          "text": [
            "c:\\Users\\NAJMA\\AppData\\Local\\Programs\\Python\\Python39\\lib\\site-packages\\ipykernel\\ipkernel.py:283: DeprecationWarning: `should_run_async` will not call `transform_cell` automatically in the future. Please pass the result to `transformed_cell` argument and any exception that happen during thetransform in `preprocessing_exc_tuple` in IPython 7.17 and above.\n",
            "  and should_run_async(code)\n"
          ]
        },
        {
          "name": "stdout",
          "output_type": "stream",
          "text": [
            "Hasil Tokenisasi : \n"
          ]
        },
        {
          "data": {
            "text/html": [
              "<div>\n",
              "<style scoped>\n",
              "    .dataframe tbody tr th:only-of-type {\n",
              "        vertical-align: middle;\n",
              "    }\n",
              "\n",
              "    .dataframe tbody tr th {\n",
              "        vertical-align: top;\n",
              "    }\n",
              "\n",
              "    .dataframe thead th {\n",
              "        text-align: right;\n",
              "    }\n",
              "</style>\n",
              "<table border=\"1\" class=\"dataframe\">\n",
              "  <thead>\n",
              "    <tr style=\"text-align: right;\">\n",
              "      <th></th>\n",
              "      <th>name</th>\n",
              "      <th>name_casefold</th>\n",
              "      <th>name_cleaned</th>\n",
              "      <th>name_token</th>\n",
              "    </tr>\n",
              "  </thead>\n",
              "  <tbody>\n",
              "    <tr>\n",
              "      <th>0</th>\n",
              "      <td>\\r\\n</td>\n",
              "      <td>\\r\\n</td>\n",
              "      <td></td>\n",
              "      <td>[]</td>\n",
              "    </tr>\n",
              "    <tr>\n",
              "      <th>1</th>\n",
              "      <td>Menteri Marwan Imbau Pemda Segera Salurkan Dan...</td>\n",
              "      <td>menteri marwan imbau pemda segera salurkan dan...</td>\n",
              "      <td>menteri marwan imbau pemda segera salurkan dan...</td>\n",
              "      <td>[menteri, marwan, imbau, pemda, segera, salurk...</td>\n",
              "    </tr>\n",
              "    <tr>\n",
              "      <th>2</th>\n",
              "      <td>Luncurkan Buku, Irjen Anton Charliyan Bicara 9...</td>\n",
              "      <td>luncurkan buku, irjen anton charliyan bicara 9...</td>\n",
              "      <td>luncurkan buku irjen anton charliyan bicara ra...</td>\n",
              "      <td>[luncurkan, buku, irjen, anton, charliyan, bic...</td>\n",
              "    </tr>\n",
              "    <tr>\n",
              "      <th>3</th>\n",
              "      <td>Disuruh Buka Wajah, Guru Paskibra Pelaku Penca...</td>\n",
              "      <td>disuruh buka wajah, guru paskibra pelaku penca...</td>\n",
              "      <td>disuruh buka wajah guru paskibra pelaku pencab...</td>\n",
              "      <td>[disuruh, buka, wajah, guru, paskibra, pelaku,...</td>\n",
              "    </tr>\n",
              "    <tr>\n",
              "      <th>4</th>\n",
              "      <td>Pelaku Usaha: Solo Harus Bersih dari 'Polisi S...</td>\n",
              "      <td>pelaku usaha: solo harus bersih dari 'polisi s...</td>\n",
              "      <td>pelaku usaha solo harus bersih dari polisi swa...</td>\n",
              "      <td>[pelaku, usaha, solo, harus, bersih, dari, pol...</td>\n",
              "    </tr>\n",
              "  </tbody>\n",
              "</table>\n",
              "</div>"
            ],
            "text/plain": [
              "                                                name  \\\n",
              "0                               \\r\\n                   \n",
              "1  Menteri Marwan Imbau Pemda Segera Salurkan Dan...   \n",
              "2  Luncurkan Buku, Irjen Anton Charliyan Bicara 9...   \n",
              "3  Disuruh Buka Wajah, Guru Paskibra Pelaku Penca...   \n",
              "4  Pelaku Usaha: Solo Harus Bersih dari 'Polisi S...   \n",
              "\n",
              "                                       name_casefold  \\\n",
              "0                               \\r\\n                   \n",
              "1  menteri marwan imbau pemda segera salurkan dan...   \n",
              "2  luncurkan buku, irjen anton charliyan bicara 9...   \n",
              "3  disuruh buka wajah, guru paskibra pelaku penca...   \n",
              "4  pelaku usaha: solo harus bersih dari 'polisi s...   \n",
              "\n",
              "                                        name_cleaned  \\\n",
              "0                                                      \n",
              "1  menteri marwan imbau pemda segera salurkan dan...   \n",
              "2  luncurkan buku irjen anton charliyan bicara ra...   \n",
              "3  disuruh buka wajah guru paskibra pelaku pencab...   \n",
              "4  pelaku usaha solo harus bersih dari polisi swa...   \n",
              "\n",
              "                                          name_token  \n",
              "0                                                 []  \n",
              "1  [menteri, marwan, imbau, pemda, segera, salurk...  \n",
              "2  [luncurkan, buku, irjen, anton, charliyan, bic...  \n",
              "3  [disuruh, buka, wajah, guru, paskibra, pelaku,...  \n",
              "4  [pelaku, usaha, solo, harus, bersih, dari, pol...  "
            ]
          },
          "execution_count": 76,
          "metadata": {},
          "output_type": "execute_result"
        }
      ],
      "source": [
        "from nltk.tokenize import word_tokenize\n",
        "\n",
        "def word_tokenize_wrapper(text):\n",
        "  return word_tokenize(text)\n",
        "\n",
        "df['name_token'] = df['name_cleaned'].apply(word_tokenize_wrapper)\n",
        "print('Hasil Tokenisasi : ') \n",
        "df.head()"
      ]
    },
    {
      "cell_type": "markdown",
      "metadata": {
        "id": "YAB1lnsaL9b8"
      },
      "source": [
        "## Stopwords Removal"
      ]
    },
    {
      "cell_type": "code",
      "execution_count": 77,
      "metadata": {
        "colab": {
          "base_uri": "https://localhost:8080/"
        },
        "id": "nSvlMu9_LH4F",
        "outputId": "6d459720-3100-490e-e7b7-dd0e1493b74d"
      },
      "outputs": [
        {
          "name": "stderr",
          "output_type": "stream",
          "text": [
            "c:\\Users\\NAJMA\\AppData\\Local\\Programs\\Python\\Python39\\lib\\site-packages\\ipykernel\\ipkernel.py:283: DeprecationWarning: `should_run_async` will not call `transform_cell` automatically in the future. Please pass the result to `transformed_cell` argument and any exception that happen during thetransform in `preprocessing_exc_tuple` in IPython 7.17 and above.\n",
            "  and should_run_async(code)\n",
            "[nltk_data] Downloading package stopwords to\n",
            "[nltk_data]     C:\\Users\\NAJMA\\AppData\\Roaming\\nltk_data...\n",
            "[nltk_data]   Package stopwords is already up-to-date!\n"
          ]
        },
        {
          "data": {
            "text/plain": [
              "True"
            ]
          },
          "execution_count": 77,
          "metadata": {},
          "output_type": "execute_result"
        }
      ],
      "source": [
        "import nltk\n",
        "from nltk.corpus import stopwords\n",
        "nltk.download('stopwords')"
      ]
    },
    {
      "cell_type": "code",
      "execution_count": null,
      "metadata": {
        "colab": {
          "base_uri": "https://localhost:8080/"
        },
        "id": "mOG3TkhcMAZB",
        "outputId": "06265342-7876-4240-d5b9-5eb884335970"
      },
      "outputs": [],
      "source": [
        "list_stopwords = stopwords.words('indonesian') + stopwords.words('english')\n",
        "list_stopwords = set(list_stopwords)\n",
        "print(list_stopwords)"
      ]
    },
    {
      "cell_type": "code",
      "execution_count": 79,
      "metadata": {
        "colab": {
          "base_uri": "https://localhost:8080/",
          "height": 355
        },
        "id": "l73LvwsWMBjM",
        "outputId": "21518cb1-0a8a-413b-ef37-a13720d98bdc"
      },
      "outputs": [
        {
          "name": "stdout",
          "output_type": "stream",
          "text": [
            "Hasil Stopwords : \n",
            "\n"
          ]
        },
        {
          "name": "stderr",
          "output_type": "stream",
          "text": [
            "c:\\Users\\NAJMA\\AppData\\Local\\Programs\\Python\\Python39\\lib\\site-packages\\ipykernel\\ipkernel.py:283: DeprecationWarning: `should_run_async` will not call `transform_cell` automatically in the future. Please pass the result to `transformed_cell` argument and any exception that happen during thetransform in `preprocessing_exc_tuple` in IPython 7.17 and above.\n",
            "  and should_run_async(code)\n"
          ]
        },
        {
          "data": {
            "text/html": [
              "<div>\n",
              "<style scoped>\n",
              "    .dataframe tbody tr th:only-of-type {\n",
              "        vertical-align: middle;\n",
              "    }\n",
              "\n",
              "    .dataframe tbody tr th {\n",
              "        vertical-align: top;\n",
              "    }\n",
              "\n",
              "    .dataframe thead th {\n",
              "        text-align: right;\n",
              "    }\n",
              "</style>\n",
              "<table border=\"1\" class=\"dataframe\">\n",
              "  <thead>\n",
              "    <tr style=\"text-align: right;\">\n",
              "      <th></th>\n",
              "      <th>name</th>\n",
              "      <th>name_casefold</th>\n",
              "      <th>name_cleaned</th>\n",
              "      <th>name_token</th>\n",
              "      <th>name_no_stopwords</th>\n",
              "    </tr>\n",
              "  </thead>\n",
              "  <tbody>\n",
              "    <tr>\n",
              "      <th>0</th>\n",
              "      <td>\\r\\n</td>\n",
              "      <td>\\r\\n</td>\n",
              "      <td></td>\n",
              "      <td>[]</td>\n",
              "      <td>[]</td>\n",
              "    </tr>\n",
              "    <tr>\n",
              "      <th>1</th>\n",
              "      <td>Menteri Marwan Imbau Pemda Segera Salurkan Dan...</td>\n",
              "      <td>menteri marwan imbau pemda segera salurkan dan...</td>\n",
              "      <td>menteri marwan imbau pemda segera salurkan dan...</td>\n",
              "      <td>[menteri, marwan, imbau, pemda, segera, salurk...</td>\n",
              "      <td>[menteri, marwan, imbau, pemda, salurkan, dana...</td>\n",
              "    </tr>\n",
              "    <tr>\n",
              "      <th>2</th>\n",
              "      <td>Luncurkan Buku, Irjen Anton Charliyan Bicara 9...</td>\n",
              "      <td>luncurkan buku, irjen anton charliyan bicara 9...</td>\n",
              "      <td>luncurkan buku irjen anton charliyan bicara ra...</td>\n",
              "      <td>[luncurkan, buku, irjen, anton, charliyan, bic...</td>\n",
              "      <td>[luncurkan, buku, irjen, anton, charliyan, bic...</td>\n",
              "    </tr>\n",
              "    <tr>\n",
              "      <th>3</th>\n",
              "      <td>Disuruh Buka Wajah, Guru Paskibra Pelaku Penca...</td>\n",
              "      <td>disuruh buka wajah, guru paskibra pelaku penca...</td>\n",
              "      <td>disuruh buka wajah guru paskibra pelaku pencab...</td>\n",
              "      <td>[disuruh, buka, wajah, guru, paskibra, pelaku,...</td>\n",
              "      <td>[disuruh, buka, wajah, guru, paskibra, pelaku,...</td>\n",
              "    </tr>\n",
              "    <tr>\n",
              "      <th>4</th>\n",
              "      <td>Pelaku Usaha: Solo Harus Bersih dari 'Polisi S...</td>\n",
              "      <td>pelaku usaha: solo harus bersih dari 'polisi s...</td>\n",
              "      <td>pelaku usaha solo harus bersih dari polisi swa...</td>\n",
              "      <td>[pelaku, usaha, solo, harus, bersih, dari, pol...</td>\n",
              "      <td>[pelaku, usaha, solo, bersih, polisi, swasta, ...</td>\n",
              "    </tr>\n",
              "  </tbody>\n",
              "</table>\n",
              "</div>"
            ],
            "text/plain": [
              "                                                name  \\\n",
              "0                               \\r\\n                   \n",
              "1  Menteri Marwan Imbau Pemda Segera Salurkan Dan...   \n",
              "2  Luncurkan Buku, Irjen Anton Charliyan Bicara 9...   \n",
              "3  Disuruh Buka Wajah, Guru Paskibra Pelaku Penca...   \n",
              "4  Pelaku Usaha: Solo Harus Bersih dari 'Polisi S...   \n",
              "\n",
              "                                       name_casefold  \\\n",
              "0                               \\r\\n                   \n",
              "1  menteri marwan imbau pemda segera salurkan dan...   \n",
              "2  luncurkan buku, irjen anton charliyan bicara 9...   \n",
              "3  disuruh buka wajah, guru paskibra pelaku penca...   \n",
              "4  pelaku usaha: solo harus bersih dari 'polisi s...   \n",
              "\n",
              "                                        name_cleaned  \\\n",
              "0                                                      \n",
              "1  menteri marwan imbau pemda segera salurkan dan...   \n",
              "2  luncurkan buku irjen anton charliyan bicara ra...   \n",
              "3  disuruh buka wajah guru paskibra pelaku pencab...   \n",
              "4  pelaku usaha solo harus bersih dari polisi swa...   \n",
              "\n",
              "                                          name_token  \\\n",
              "0                                                 []   \n",
              "1  [menteri, marwan, imbau, pemda, segera, salurk...   \n",
              "2  [luncurkan, buku, irjen, anton, charliyan, bic...   \n",
              "3  [disuruh, buka, wajah, guru, paskibra, pelaku,...   \n",
              "4  [pelaku, usaha, solo, harus, bersih, dari, pol...   \n",
              "\n",
              "                                   name_no_stopwords  \n",
              "0                                                 []  \n",
              "1  [menteri, marwan, imbau, pemda, salurkan, dana...  \n",
              "2  [luncurkan, buku, irjen, anton, charliyan, bic...  \n",
              "3  [disuruh, buka, wajah, guru, paskibra, pelaku,...  \n",
              "4  [pelaku, usaha, solo, bersih, polisi, swasta, ...  "
            ]
          },
          "execution_count": 79,
          "metadata": {},
          "output_type": "execute_result"
        }
      ],
      "source": [
        "def remove_stopwords(words):\n",
        "  return [word for word in words if word not in list_stopwords]\n",
        "\n",
        "df['name_no_stopwords'] = df['name_token'].apply(remove_stopwords)\n",
        "\n",
        "print('Hasil Stopwords : \\n')\n",
        "df.head()"
      ]
    },
    {
      "cell_type": "markdown",
      "metadata": {
        "id": "LovplLN3MeWF"
      },
      "source": [
        "## Unlisting"
      ]
    },
    {
      "cell_type": "code",
      "execution_count": 80,
      "metadata": {
        "colab": {
          "base_uri": "https://localhost:8080/",
          "height": 320
        },
        "id": "3LMdOpKzMgZV",
        "outputId": "c4a1524f-c330-4134-9950-b2e75d990c63"
      },
      "outputs": [
        {
          "name": "stderr",
          "output_type": "stream",
          "text": [
            "c:\\Users\\NAJMA\\AppData\\Local\\Programs\\Python\\Python39\\lib\\site-packages\\ipykernel\\ipkernel.py:283: DeprecationWarning: `should_run_async` will not call `transform_cell` automatically in the future. Please pass the result to `transformed_cell` argument and any exception that happen during thetransform in `preprocessing_exc_tuple` in IPython 7.17 and above.\n",
            "  and should_run_async(code)\n"
          ]
        },
        {
          "data": {
            "text/html": [
              "<div>\n",
              "<style scoped>\n",
              "    .dataframe tbody tr th:only-of-type {\n",
              "        vertical-align: middle;\n",
              "    }\n",
              "\n",
              "    .dataframe tbody tr th {\n",
              "        vertical-align: top;\n",
              "    }\n",
              "\n",
              "    .dataframe thead th {\n",
              "        text-align: right;\n",
              "    }\n",
              "</style>\n",
              "<table border=\"1\" class=\"dataframe\">\n",
              "  <thead>\n",
              "    <tr style=\"text-align: right;\">\n",
              "      <th></th>\n",
              "      <th>name</th>\n",
              "      <th>name_casefold</th>\n",
              "      <th>name_cleaned</th>\n",
              "      <th>name_token</th>\n",
              "      <th>name_no_stopwords</th>\n",
              "      <th>name_unlisted</th>\n",
              "    </tr>\n",
              "  </thead>\n",
              "  <tbody>\n",
              "    <tr>\n",
              "      <th>0</th>\n",
              "      <td>\\r\\n</td>\n",
              "      <td>\\r\\n</td>\n",
              "      <td></td>\n",
              "      <td>[]</td>\n",
              "      <td>[]</td>\n",
              "      <td></td>\n",
              "    </tr>\n",
              "    <tr>\n",
              "      <th>1</th>\n",
              "      <td>Menteri Marwan Imbau Pemda Segera Salurkan Dan...</td>\n",
              "      <td>menteri marwan imbau pemda segera salurkan dan...</td>\n",
              "      <td>menteri marwan imbau pemda segera salurkan dan...</td>\n",
              "      <td>[menteri, marwan, imbau, pemda, segera, salurk...</td>\n",
              "      <td>[menteri, marwan, imbau, pemda, salurkan, dana...</td>\n",
              "      <td>menteri marwan imbau pemda salurkan dana desa</td>\n",
              "    </tr>\n",
              "    <tr>\n",
              "      <th>2</th>\n",
              "      <td>Luncurkan Buku, Irjen Anton Charliyan Bicara 9...</td>\n",
              "      <td>luncurkan buku, irjen anton charliyan bicara 9...</td>\n",
              "      <td>luncurkan buku irjen anton charliyan bicara ra...</td>\n",
              "      <td>[luncurkan, buku, irjen, anton, charliyan, bic...</td>\n",
              "      <td>[luncurkan, buku, irjen, anton, charliyan, bic...</td>\n",
              "      <td>luncurkan buku irjen anton charliyan bicara ra...</td>\n",
              "    </tr>\n",
              "    <tr>\n",
              "      <th>3</th>\n",
              "      <td>Disuruh Buka Wajah, Guru Paskibra Pelaku Penca...</td>\n",
              "      <td>disuruh buka wajah, guru paskibra pelaku penca...</td>\n",
              "      <td>disuruh buka wajah guru paskibra pelaku pencab...</td>\n",
              "      <td>[disuruh, buka, wajah, guru, paskibra, pelaku,...</td>\n",
              "      <td>[disuruh, buka, wajah, guru, paskibra, pelaku,...</td>\n",
              "      <td>disuruh buka wajah guru paskibra pelaku pencab...</td>\n",
              "    </tr>\n",
              "    <tr>\n",
              "      <th>4</th>\n",
              "      <td>Pelaku Usaha: Solo Harus Bersih dari 'Polisi S...</td>\n",
              "      <td>pelaku usaha: solo harus bersih dari 'polisi s...</td>\n",
              "      <td>pelaku usaha solo harus bersih dari polisi swa...</td>\n",
              "      <td>[pelaku, usaha, solo, harus, bersih, dari, pol...</td>\n",
              "      <td>[pelaku, usaha, solo, bersih, polisi, swasta, ...</td>\n",
              "      <td>pelaku usaha solo bersih polisi swasta puasa</td>\n",
              "    </tr>\n",
              "  </tbody>\n",
              "</table>\n",
              "</div>"
            ],
            "text/plain": [
              "                                                name  \\\n",
              "0                               \\r\\n                   \n",
              "1  Menteri Marwan Imbau Pemda Segera Salurkan Dan...   \n",
              "2  Luncurkan Buku, Irjen Anton Charliyan Bicara 9...   \n",
              "3  Disuruh Buka Wajah, Guru Paskibra Pelaku Penca...   \n",
              "4  Pelaku Usaha: Solo Harus Bersih dari 'Polisi S...   \n",
              "\n",
              "                                       name_casefold  \\\n",
              "0                               \\r\\n                   \n",
              "1  menteri marwan imbau pemda segera salurkan dan...   \n",
              "2  luncurkan buku, irjen anton charliyan bicara 9...   \n",
              "3  disuruh buka wajah, guru paskibra pelaku penca...   \n",
              "4  pelaku usaha: solo harus bersih dari 'polisi s...   \n",
              "\n",
              "                                        name_cleaned  \\\n",
              "0                                                      \n",
              "1  menteri marwan imbau pemda segera salurkan dan...   \n",
              "2  luncurkan buku irjen anton charliyan bicara ra...   \n",
              "3  disuruh buka wajah guru paskibra pelaku pencab...   \n",
              "4  pelaku usaha solo harus bersih dari polisi swa...   \n",
              "\n",
              "                                          name_token  \\\n",
              "0                                                 []   \n",
              "1  [menteri, marwan, imbau, pemda, segera, salurk...   \n",
              "2  [luncurkan, buku, irjen, anton, charliyan, bic...   \n",
              "3  [disuruh, buka, wajah, guru, paskibra, pelaku,...   \n",
              "4  [pelaku, usaha, solo, harus, bersih, dari, pol...   \n",
              "\n",
              "                                   name_no_stopwords  \\\n",
              "0                                                 []   \n",
              "1  [menteri, marwan, imbau, pemda, salurkan, dana...   \n",
              "2  [luncurkan, buku, irjen, anton, charliyan, bic...   \n",
              "3  [disuruh, buka, wajah, guru, paskibra, pelaku,...   \n",
              "4  [pelaku, usaha, solo, bersih, polisi, swasta, ...   \n",
              "\n",
              "                                       name_unlisted  \n",
              "0                                                     \n",
              "1      menteri marwan imbau pemda salurkan dana desa  \n",
              "2  luncurkan buku irjen anton charliyan bicara ra...  \n",
              "3  disuruh buka wajah guru paskibra pelaku pencab...  \n",
              "4       pelaku usaha solo bersih polisi swasta puasa  "
            ]
          },
          "execution_count": 80,
          "metadata": {},
          "output_type": "execute_result"
        }
      ],
      "source": [
        "df['name_unlisted'] = df['name_no_stopwords'].agg(lambda x: ' '.join(map(str, x)))\n",
        "df.head()"
      ]
    },
    {
      "cell_type": "markdown",
      "metadata": {
        "id": "J9C2lYoBMOPf"
      },
      "source": [
        "## Remove Blank Text"
      ]
    },
    {
      "cell_type": "code",
      "execution_count": 81,
      "metadata": {
        "colab": {
          "base_uri": "https://localhost:8080/",
          "height": 337
        },
        "id": "SaH3__ZUMHiN",
        "outputId": "815c774c-be07-4843-ae88-b7ae64bbe867"
      },
      "outputs": [
        {
          "name": "stderr",
          "output_type": "stream",
          "text": [
            "c:\\Users\\NAJMA\\AppData\\Local\\Programs\\Python\\Python39\\lib\\site-packages\\ipykernel\\ipkernel.py:283: DeprecationWarning: `should_run_async` will not call `transform_cell` automatically in the future. Please pass the result to `transformed_cell` argument and any exception that happen during thetransform in `preprocessing_exc_tuple` in IPython 7.17 and above.\n",
            "  and should_run_async(code)\n"
          ]
        },
        {
          "data": {
            "text/html": [
              "<div>\n",
              "<style scoped>\n",
              "    .dataframe tbody tr th:only-of-type {\n",
              "        vertical-align: middle;\n",
              "    }\n",
              "\n",
              "    .dataframe tbody tr th {\n",
              "        vertical-align: top;\n",
              "    }\n",
              "\n",
              "    .dataframe thead th {\n",
              "        text-align: right;\n",
              "    }\n",
              "</style>\n",
              "<table border=\"1\" class=\"dataframe\">\n",
              "  <thead>\n",
              "    <tr style=\"text-align: right;\">\n",
              "      <th></th>\n",
              "      <th>name</th>\n",
              "      <th>name_casefold</th>\n",
              "      <th>name_cleaned</th>\n",
              "      <th>name_token</th>\n",
              "      <th>name_no_stopwords</th>\n",
              "      <th>name_unlisted</th>\n",
              "    </tr>\n",
              "  </thead>\n",
              "  <tbody>\n",
              "    <tr>\n",
              "      <th>1</th>\n",
              "      <td>Menteri Marwan Imbau Pemda Segera Salurkan Dan...</td>\n",
              "      <td>menteri marwan imbau pemda segera salurkan dan...</td>\n",
              "      <td>menteri marwan imbau pemda segera salurkan dan...</td>\n",
              "      <td>[menteri, marwan, imbau, pemda, segera, salurk...</td>\n",
              "      <td>[menteri, marwan, imbau, pemda, salurkan, dana...</td>\n",
              "      <td>menteri marwan imbau pemda salurkan dana desa</td>\n",
              "    </tr>\n",
              "    <tr>\n",
              "      <th>2</th>\n",
              "      <td>Luncurkan Buku, Irjen Anton Charliyan Bicara 9...</td>\n",
              "      <td>luncurkan buku, irjen anton charliyan bicara 9...</td>\n",
              "      <td>luncurkan buku irjen anton charliyan bicara ra...</td>\n",
              "      <td>[luncurkan, buku, irjen, anton, charliyan, bic...</td>\n",
              "      <td>[luncurkan, buku, irjen, anton, charliyan, bic...</td>\n",
              "      <td>luncurkan buku irjen anton charliyan bicara ra...</td>\n",
              "    </tr>\n",
              "    <tr>\n",
              "      <th>3</th>\n",
              "      <td>Disuruh Buka Wajah, Guru Paskibra Pelaku Penca...</td>\n",
              "      <td>disuruh buka wajah, guru paskibra pelaku penca...</td>\n",
              "      <td>disuruh buka wajah guru paskibra pelaku pencab...</td>\n",
              "      <td>[disuruh, buka, wajah, guru, paskibra, pelaku,...</td>\n",
              "      <td>[disuruh, buka, wajah, guru, paskibra, pelaku,...</td>\n",
              "      <td>disuruh buka wajah guru paskibra pelaku pencab...</td>\n",
              "    </tr>\n",
              "    <tr>\n",
              "      <th>4</th>\n",
              "      <td>Pelaku Usaha: Solo Harus Bersih dari 'Polisi S...</td>\n",
              "      <td>pelaku usaha: solo harus bersih dari 'polisi s...</td>\n",
              "      <td>pelaku usaha solo harus bersih dari polisi swa...</td>\n",
              "      <td>[pelaku, usaha, solo, harus, bersih, dari, pol...</td>\n",
              "      <td>[pelaku, usaha, solo, bersih, polisi, swasta, ...</td>\n",
              "      <td>pelaku usaha solo bersih polisi swasta puasa</td>\n",
              "    </tr>\n",
              "    <tr>\n",
              "      <th>5</th>\n",
              "      <td>Komisi I Protes Australia Suap ABK untuk Halau...</td>\n",
              "      <td>komisi i protes australia suap abk untuk halau...</td>\n",
              "      <td>komisi  protes australia suap abk untuk halau ...</td>\n",
              "      <td>[komisi, protes, australia, suap, abk, untuk, ...</td>\n",
              "      <td>[komisi, protes, australia, suap, abk, halau, ...</td>\n",
              "      <td>komisi protes australia suap abk halau migran ...</td>\n",
              "    </tr>\n",
              "  </tbody>\n",
              "</table>\n",
              "</div>"
            ],
            "text/plain": [
              "                                                name  \\\n",
              "1  Menteri Marwan Imbau Pemda Segera Salurkan Dan...   \n",
              "2  Luncurkan Buku, Irjen Anton Charliyan Bicara 9...   \n",
              "3  Disuruh Buka Wajah, Guru Paskibra Pelaku Penca...   \n",
              "4  Pelaku Usaha: Solo Harus Bersih dari 'Polisi S...   \n",
              "5  Komisi I Protes Australia Suap ABK untuk Halau...   \n",
              "\n",
              "                                       name_casefold  \\\n",
              "1  menteri marwan imbau pemda segera salurkan dan...   \n",
              "2  luncurkan buku, irjen anton charliyan bicara 9...   \n",
              "3  disuruh buka wajah, guru paskibra pelaku penca...   \n",
              "4  pelaku usaha: solo harus bersih dari 'polisi s...   \n",
              "5  komisi i protes australia suap abk untuk halau...   \n",
              "\n",
              "                                        name_cleaned  \\\n",
              "1  menteri marwan imbau pemda segera salurkan dan...   \n",
              "2  luncurkan buku irjen anton charliyan bicara ra...   \n",
              "3  disuruh buka wajah guru paskibra pelaku pencab...   \n",
              "4  pelaku usaha solo harus bersih dari polisi swa...   \n",
              "5  komisi  protes australia suap abk untuk halau ...   \n",
              "\n",
              "                                          name_token  \\\n",
              "1  [menteri, marwan, imbau, pemda, segera, salurk...   \n",
              "2  [luncurkan, buku, irjen, anton, charliyan, bic...   \n",
              "3  [disuruh, buka, wajah, guru, paskibra, pelaku,...   \n",
              "4  [pelaku, usaha, solo, harus, bersih, dari, pol...   \n",
              "5  [komisi, protes, australia, suap, abk, untuk, ...   \n",
              "\n",
              "                                   name_no_stopwords  \\\n",
              "1  [menteri, marwan, imbau, pemda, salurkan, dana...   \n",
              "2  [luncurkan, buku, irjen, anton, charliyan, bic...   \n",
              "3  [disuruh, buka, wajah, guru, paskibra, pelaku,...   \n",
              "4  [pelaku, usaha, solo, bersih, polisi, swasta, ...   \n",
              "5  [komisi, protes, australia, suap, abk, halau, ...   \n",
              "\n",
              "                                       name_unlisted  \n",
              "1      menteri marwan imbau pemda salurkan dana desa  \n",
              "2  luncurkan buku irjen anton charliyan bicara ra...  \n",
              "3  disuruh buka wajah guru paskibra pelaku pencab...  \n",
              "4       pelaku usaha solo bersih polisi swasta puasa  \n",
              "5  komisi protes australia suap abk halau migran ...  "
            ]
          },
          "execution_count": 81,
          "metadata": {},
          "output_type": "execute_result"
        }
      ],
      "source": [
        "df = df[df['name_unlisted'] != '']\n",
        "df.head()"
      ]
    },
    {
      "cell_type": "markdown",
      "metadata": {},
      "source": [
        "# **Apply LDA With Gensim**"
      ]
    },
    {
      "cell_type": "markdown",
      "metadata": {},
      "source": [
        "# Dictionary"
      ]
    },
    {
      "cell_type": "code",
      "execution_count": 82,
      "metadata": {},
      "outputs": [
        {
          "name": "stderr",
          "output_type": "stream",
          "text": [
            "c:\\Users\\NAJMA\\AppData\\Local\\Programs\\Python\\Python39\\lib\\site-packages\\ipykernel\\ipkernel.py:283: DeprecationWarning: `should_run_async` will not call `transform_cell` automatically in the future. Please pass the result to `transformed_cell` argument and any exception that happen during thetransform in `preprocessing_exc_tuple` in IPython 7.17 and above.\n",
            "  and should_run_async(code)\n"
          ]
        },
        {
          "name": "stdout",
          "output_type": "stream",
          "text": [
            "0 dana\n",
            "1 desa\n",
            "2 imbau\n",
            "3 marwan\n",
            "4 menteri\n",
            "5 pemda\n",
            "6 salurkan\n",
            "7 anton\n",
            "8 bicara\n",
            "9 buku\n",
            "10 charliyan\n"
          ]
        }
      ],
      "source": [
        "dictionary = gensim.corpora.Dictionary(df['name_no_stopwords'])\n",
        "count = 0\n",
        "for k, v in dictionary.iteritems():\n",
        "    print(k, v)\n",
        "    count += 1\n",
        "    if count > 10:\n",
        "        break"
      ]
    },
    {
      "cell_type": "markdown",
      "metadata": {},
      "source": [
        "# Bag of Words"
      ]
    },
    {
      "cell_type": "code",
      "execution_count": 83,
      "metadata": {},
      "outputs": [
        {
          "name": "stderr",
          "output_type": "stream",
          "text": [
            "c:\\Users\\NAJMA\\AppData\\Local\\Programs\\Python\\Python39\\lib\\site-packages\\ipykernel\\ipkernel.py:283: DeprecationWarning: `should_run_async` will not call `transform_cell` automatically in the future. Please pass the result to `transformed_cell` argument and any exception that happen during thetransform in `preprocessing_exc_tuple` in IPython 7.17 and above.\n",
            "  and should_run_async(code)\n"
          ]
        },
        {
          "data": {
            "text/plain": [
              "[(42, 1),\n",
              " (125, 1),\n",
              " (130, 1),\n",
              " (1836, 1),\n",
              " (2277, 1),\n",
              " (2278, 1),\n",
              " (3213, 1),\n",
              " (3214, 1)]"
            ]
          },
          "execution_count": 83,
          "metadata": {},
          "output_type": "execute_result"
        }
      ],
      "source": [
        "bow_corpus = [dictionary.doc2bow(doc) for doc in df['name_no_stopwords']]\n",
        "bow_corpus[999]"
      ]
    },
    {
      "cell_type": "code",
      "execution_count": 84,
      "metadata": {},
      "outputs": [
        {
          "name": "stdout",
          "output_type": "stream",
          "text": [
            "Word 42 (\"apresiasi\") appears 1 time.\n",
            "Word 125 (\"agung\") appears 1 time.\n",
            "Word 130 (\"pilkada\") appears 1 time.\n",
            "Word 1836 (\"revisi\") appears 1 time.\n",
            "Word 2277 (\"pencalonan\") appears 1 time.\n",
            "Word 2278 (\"pkpu\") appears 1 time.\n",
            "Word 3213 (\"laksono\") appears 1 time.\n",
            "Word 3214 (\"rampungnya\") appears 1 time.\n"
          ]
        },
        {
          "name": "stderr",
          "output_type": "stream",
          "text": [
            "c:\\Users\\NAJMA\\AppData\\Local\\Programs\\Python\\Python39\\lib\\site-packages\\ipykernel\\ipkernel.py:283: DeprecationWarning: `should_run_async` will not call `transform_cell` automatically in the future. Please pass the result to `transformed_cell` argument and any exception that happen during thetransform in `preprocessing_exc_tuple` in IPython 7.17 and above.\n",
            "  and should_run_async(code)\n"
          ]
        }
      ],
      "source": [
        "bow_doc_999 = bow_corpus[999]\n",
        "for i in range(len(bow_doc_999)):\n",
        "    print(\"Word {} (\\\"{}\\\") appears {} time.\".format(bow_doc_999[i][0], \n",
        "                                               dictionary[bow_doc_999[i][0]], \n",
        "bow_doc_999[i][1]))"
      ]
    },
    {
      "cell_type": "code",
      "execution_count": 85,
      "metadata": {},
      "outputs": [
        {
          "name": "stdout",
          "output_type": "stream",
          "text": [
            "[(0, 0.297755327627433),\n",
            " (1, 0.32845425733468625),\n",
            " (2, 0.339718184938749),\n",
            " (3, 0.5189269344141667),\n",
            " (4, 0.27071160697118),\n",
            " (5, 0.39839716728774843),\n",
            " (6, 0.4321583971390768)]\n"
          ]
        },
        {
          "name": "stderr",
          "output_type": "stream",
          "text": [
            "c:\\Users\\NAJMA\\AppData\\Local\\Programs\\Python\\Python39\\lib\\site-packages\\ipykernel\\ipkernel.py:283: DeprecationWarning: `should_run_async` will not call `transform_cell` automatically in the future. Please pass the result to `transformed_cell` argument and any exception that happen during thetransform in `preprocessing_exc_tuple` in IPython 7.17 and above.\n",
            "  and should_run_async(code)\n"
          ]
        }
      ],
      "source": [
        "from gensim import corpora, models\n",
        "tfidf = models.TfidfModel(bow_corpus)\n",
        "corpus_tfidf = tfidf[bow_corpus]\n",
        "from pprint import pprint\n",
        "for doc in corpus_tfidf:\n",
        "    pprint(doc)\n",
        "    break"
      ]
    },
    {
      "cell_type": "code",
      "execution_count": 86,
      "metadata": {},
      "outputs": [
        {
          "name": "stderr",
          "output_type": "stream",
          "text": [
            "c:\\Users\\NAJMA\\AppData\\Local\\Programs\\Python\\Python39\\lib\\site-packages\\ipykernel\\ipkernel.py:283: DeprecationWarning: `should_run_async` will not call `transform_cell` automatically in the future. Please pass the result to `transformed_cell` argument and any exception that happen during thetransform in `preprocessing_exc_tuple` in IPython 7.17 and above.\n",
            "  and should_run_async(code)\n"
          ]
        }
      ],
      "source": [
        "from gensim.models.coherencemodel import CoherenceModel\n",
        "from gensim.models.ldamodel import LdaModel\n",
        "from gensim.corpora.dictionary import Dictionary\n",
        "from numpy import array\n",
        "#function to compute coherence values\n",
        "def compute_coherence_values(dictionary, corpus, texts, limit, start, step):\n",
        "    coherence_values = []\n",
        "    model_list = []\n",
        "    for num_topics in range(start, limit, step):\n",
        "        model = LdaModel(corpus=corpus, id2word=dictionary, num_topics=num_topics, iterations=100)\n",
        "        model_list.append(model)\n",
        "        coherencemodel = CoherenceModel(model=model, texts=texts, dictionary=dictionary, coherence='c_v')\n",
        "        coherence_values.append(coherencemodel.get_coherence())\n",
        "        \n",
        "    return model_list, coherence_values"
      ]
    },
    {
      "cell_type": "code",
      "execution_count": 87,
      "metadata": {},
      "outputs": [
        {
          "name": "stderr",
          "output_type": "stream",
          "text": [
            "c:\\Users\\NAJMA\\AppData\\Local\\Programs\\Python\\Python39\\lib\\site-packages\\ipykernel\\ipkernel.py:283: DeprecationWarning: `should_run_async` will not call `transform_cell` automatically in the future. Please pass the result to `transformed_cell` argument and any exception that happen during thetransform in `preprocessing_exc_tuple` in IPython 7.17 and above.\n",
            "  and should_run_async(code)\n"
          ]
        },
        {
          "data": {
            "image/png": "[encoded data removed]",
            "text/plain": [
              "<Figure size 432x288 with 1 Axes>"
            ]
          },
          "metadata": {
            "needs_background": "light"
          },
          "output_type": "display_data"
        }
      ],
      "source": [
        "start=1\n",
        "limit=11\n",
        "step=1\n",
        "model_list, coherence_values = compute_coherence_values(dictionary, corpus=bow_corpus, \n",
        "                                                        texts=df['name_no_stopwords'], start=start, limit=limit, step=step)\n",
        "#show graphs\n",
        "import matplotlib.pyplot as plt\n",
        "x = range(start, limit, step)\n",
        "plt.plot(x, coherence_values)\n",
        "plt.xlabel(\"Num Topics\")\n",
        "plt.ylabel(\"Coherence score\")\n",
        "plt.legend((\"coherence_values\"), loc='best')\n",
        "plt.show()"
      ]
    },
    {
      "cell_type": "code",
      "execution_count": 88,
      "metadata": {},
      "outputs": [
        {
          "name": "stdout",
          "output_type": "stream",
          "text": [
            "Num Topics = 1  has Coherence Value of 0.241105\n",
            "Num Topics = 2  has Coherence Value of 0.291725\n",
            "Num Topics = 3  has Coherence Value of 0.256059\n",
            "Num Topics = 4  has Coherence Value of 0.324348\n",
            "Num Topics = 5  has Coherence Value of 0.379425\n",
            "Num Topics = 6  has Coherence Value of 0.412476\n",
            "Num Topics = 7  has Coherence Value of 0.411644\n",
            "Num Topics = 8  has Coherence Value of 0.425593\n",
            "Num Topics = 9  has Coherence Value of 0.458188\n",
            "Num Topics = 10  has Coherence Value of 0.453774\n"
          ]
        },
        {
          "name": "stderr",
          "output_type": "stream",
          "text": [
            "c:\\Users\\NAJMA\\AppData\\Local\\Programs\\Python\\Python39\\lib\\site-packages\\ipykernel\\ipkernel.py:283: DeprecationWarning: `should_run_async` will not call `transform_cell` automatically in the future. Please pass the result to `transformed_cell` argument and any exception that happen during thetransform in `preprocessing_exc_tuple` in IPython 7.17 and above.\n",
            "  and should_run_async(code)\n"
          ]
        }
      ],
      "source": [
        "# Print the coherence scores\n",
        "for m, cv in zip(x, coherence_values):\n",
        "    print(\"Num Topics =\", m, \" has Coherence Value of\", round(cv, 6))"
      ]
    },
    {
      "cell_type": "code",
      "execution_count": 89,
      "metadata": {},
      "outputs": [
        {
          "name": "stderr",
          "output_type": "stream",
          "text": [
            "c:\\Users\\NAJMA\\AppData\\Local\\Programs\\Python\\Python39\\lib\\site-packages\\ipykernel\\ipkernel.py:283: DeprecationWarning: `should_run_async` will not call `transform_cell` automatically in the future. Please pass the result to `transformed_cell` argument and any exception that happen during thetransform in `preprocessing_exc_tuple` in IPython 7.17 and above.\n",
            "  and should_run_async(code)\n"
          ]
        },
        {
          "ename": "SyntaxError",
          "evalue": "expression cannot contain assignment, perhaps you meant \"==\"? (<ipython-input-89-e2ac6a15cfa4>, line 1)",
          "output_type": "error",
          "traceback": [
            "\u001b[1;36m  File \u001b[1;32m\"<ipython-input-89-e2ac6a15cfa4>\"\u001b[1;36m, line \u001b[1;32m1\u001b[0m\n\u001b[1;33m    model = LdaModel(corpus=bow_corpus, id2word=dictionary, num_topics=) #num topic menyesuaikan hasil dari coherence value paling tinggi\u001b[0m\n\u001b[1;37m                                                            ^\u001b[0m\n\u001b[1;31mSyntaxError\u001b[0m\u001b[1;31m:\u001b[0m expression cannot contain assignment, perhaps you meant \"==\"?\n"
          ]
        }
      ],
      "source": [
        "model = LdaModel(corpus=bow_corpus, id2word=dictionary, num_topics=) #num topic menyesuaikan hasil dari coherence value paling tinggi\n",
        "for idx, topic in model.print_topics(-1):\n",
        "    print('Topic: {} Word: {}'.format(idx, topic)) "
      ]
    },
    {
      "cell_type": "code",
      "execution_count": null,
      "metadata": {},
      "outputs": [
        {
          "name": "stdout",
          "output_type": "stream",
          "text": [
            "    Topic        Word         P\n",
            "0       0      polisi  0.031517\n",
            "1       0      pelaku  0.010783\n",
            "2       0     tangkap  0.010116\n",
            "3       0  pelantikan  0.009953\n",
            "4       0   ditangkap  0.009739\n",
            "..    ...         ...       ...\n",
            "85      8   indonesia  0.009596\n",
            "86      8         tim  0.009440\n",
            "87      8          ri  0.009051\n",
            "88      8     anggota  0.009034\n",
            "89      8         mpr  0.006701\n",
            "\n",
            "[90 rows x 3 columns]\n"
          ]
        }
      ],
      "source": [
        "top_words_per_topic = []\n",
        "for t in range(model.num_topics):\n",
        "    top_words_per_topic.extend([(t, ) + x for x in model.show_topic(t, topn = 10)])\n",
        "#pd.DataFrame(top_words_per_topic, columns=['Topic', 'Word', 'P']).to_csv(\"top_words.csv\")\n",
        "top_word = pd.DataFrame(top_words_per_topic, columns=['Topic', 'Word','P'])\n",
        "print(top_word)"
      ]
    },
    {
      "cell_type": "code",
      "execution_count": null,
      "metadata": {},
      "outputs": [
        {
          "name": "stdout",
          "output_type": "stream",
          "text": [
            "PreparedData(topic_coordinates=              x         y  topics  cluster       Freq\n",
            "topic                                                \n",
            "5     -0.152377 -0.101717       1        1  12.331330\n",
            "8      0.178290 -0.004507       2        1  12.047729\n",
            "3      0.098097 -0.159794       3        1  11.587884\n",
            "1      0.202819  0.151988       4        1  11.451455\n",
            "7     -0.055778 -0.119697       5        1  11.394977\n",
            "6     -0.132423  0.202186       6        1  11.165163\n",
            "2      0.096179 -0.039142       7        1  11.092570\n",
            "0     -0.168546  0.012715       8        1  10.321035\n",
            "4     -0.066260  0.057969       9        1   8.607856, topic_info=        Term         Freq        Total Category  logprob  loglift\n",
            "24    polisi  1248.000000  1248.000000  Default  30.0000  30.0000\n",
            "57    jokowi   999.000000   999.000000  Default  29.0000  29.0000\n",
            "494    tewas   494.000000   494.000000  Default  28.0000  28.0000\n",
            "1608    pdip   240.000000   240.000000  Default  27.0000  27.0000\n",
            "44       kpk  1065.000000  1065.000000  Default  26.0000  26.0000\n",
            "...      ...          ...          ...      ...      ...      ...\n",
            "917   sidang    85.868634   240.915746   Topic9  -4.9052   1.4209\n",
            "181     sabu    62.981997   125.238746   Topic9  -5.2151   1.7651\n",
            "24    polisi    91.792296  1248.382782   Topic9  -4.8385  -0.1576\n",
            "1163   kerja    59.884612   227.981134   Topic9  -5.2656   1.1157\n",
            "273    warga    65.507795   801.001972   Topic9  -5.1758  -0.0512\n",
            "\n",
            "[594 rows x 6 columns], token_table=      Topic      Freq     Term\n",
            "term                          \n",
            "1078      1  0.020650    abang\n",
            "1078      5  0.970553    abang\n",
            "3217      5  0.986526      abg\n",
            "3839      4  0.968955      abu\n",
            "632       3  0.129292     aceh\n",
            "...     ...       ...      ...\n",
            "273       8  0.036205    warga\n",
            "273       9  0.082397    warga\n",
            "2720      8  0.979391  waspada\n",
            "554       9  0.948120    water\n",
            "1636      6  0.964954   yusril\n",
            "\n",
            "[1361 rows x 3 columns], R=30, lambda_step=0.01, plot_opts={'xlab': 'PC1', 'ylab': 'PC2'}, topic_order=[6, 9, 4, 2, 8, 7, 3, 1, 5])\n"
          ]
        }
      ],
      "source": [
        "import gensim\n",
        "import pyLDAvis.gensim_models\n",
        "import pyLDAvis\n",
        "pyLDAvis.enable_notebook()\n",
        "data = pyLDAvis.gensim_models.prepare(model, bow_corpus, dictionary)\n",
        "print(data)\n",
        "pyLDAvis.save_html(data, 'lda-gensim-bow.html')"
      ]
    },
    {
      "cell_type": "markdown",
      "metadata": {},
      "source": [
        "# LDA with TF-IDF"
      ]
    },
    {
      "cell_type": "code",
      "execution_count": null,
      "metadata": {},
      "outputs": [
        {
          "name": "stderr",
          "output_type": "stream",
          "text": [
            "c:\\Users\\NAJMA\\AppData\\Local\\Programs\\Python\\Python39\\lib\\site-packages\\ipykernel\\ipkernel.py:283: DeprecationWarning: `should_run_async` will not call `transform_cell` automatically in the future. Please pass the result to `transformed_cell` argument and any exception that happen during thetransform in `preprocessing_exc_tuple` in IPython 7.17 and above.\n",
            "  and should_run_async(code)\n"
          ]
        },
        {
          "data": {
            "image/png": "[encoded data removed]",
            "text/plain": [
              "<Figure size 432x288 with 1 Axes>"
            ]
          },
          "metadata": {
            "needs_background": "light"
          },
          "output_type": "display_data"
        }
      ],
      "source": [
        "start=1\n",
        "limit=11\n",
        "step=1\n",
        "model_list, coherence_values = compute_coherence_values(dictionary, corpus=corpus_tfidf, \n",
        "                                                        texts=df['name_no_stopwords'], start=start, limit=limit, step=step)\n",
        "#show graphs\n",
        "import matplotlib.pyplot as plt\n",
        "x = range(start, limit, step)\n",
        "plt.plot(x, coherence_values)\n",
        "plt.xlabel(\"Num Topics\")\n",
        "plt.ylabel(\"Coherence score\")\n",
        "plt.legend((\"coherence_values\"), loc='best')\n",
        "plt.show()"
      ]
    },
    {
      "cell_type": "code",
      "execution_count": null,
      "metadata": {},
      "outputs": [
        {
          "name": "stdout",
          "output_type": "stream",
          "text": [
            "Num Topics = 1  has Coherence Value of 0.260263\n",
            "Num Topics = 2  has Coherence Value of 0.328659\n",
            "Num Topics = 3  has Coherence Value of 0.348448\n",
            "Num Topics = 4  has Coherence Value of 0.415593\n",
            "Num Topics = 5  has Coherence Value of 0.43757\n",
            "Num Topics = 6  has Coherence Value of 0.47481\n",
            "Num Topics = 7  has Coherence Value of 0.523649\n",
            "Num Topics = 8  has Coherence Value of 0.507626\n",
            "Num Topics = 9  has Coherence Value of 0.523474\n",
            "Num Topics = 10  has Coherence Value of 0.531362\n"
          ]
        },
        {
          "name": "stderr",
          "output_type": "stream",
          "text": [
            "c:\\Users\\NAJMA\\AppData\\Local\\Programs\\Python\\Python39\\lib\\site-packages\\ipykernel\\ipkernel.py:283: DeprecationWarning: `should_run_async` will not call `transform_cell` automatically in the future. Please pass the result to `transformed_cell` argument and any exception that happen during thetransform in `preprocessing_exc_tuple` in IPython 7.17 and above.\n",
            "  and should_run_async(code)\n"
          ]
        }
      ],
      "source": [
        "# Print the coherence scores\n",
        "for m, cv in zip(x, coherence_values):\n",
        "    print(\"Num Topics =\", m, \" has Coherence Value of\", round(cv, 6))"
      ]
    },
    {
      "cell_type": "code",
      "execution_count": null,
      "metadata": {},
      "outputs": [
        {
          "name": "stderr",
          "output_type": "stream",
          "text": [
            "c:\\Users\\NAJMA\\AppData\\Local\\Programs\\Python\\Python39\\lib\\site-packages\\ipykernel\\ipkernel.py:283: DeprecationWarning: `should_run_async` will not call `transform_cell` automatically in the future. Please pass the result to `transformed_cell` argument and any exception that happen during thetransform in `preprocessing_exc_tuple` in IPython 7.17 and above.\n",
            "  and should_run_async(code)\n"
          ]
        },
        {
          "name": "stdout",
          "output_type": "stream",
          "text": [
            "Topic: 0 Word: 0.006*\"uu\" + 0.005*\"dpr\" + 0.005*\"istri\" + 0.005*\"anggota\" + 0.005*\"suami\" + 0.005*\"trump\" + 0.004*\"guru\" + 0.004*\"napi\" + 0.004*\"kpk\" + 0.004*\"polisi\"\n",
            "Topic: 1 Word: 0.009*\"demo\" + 0.006*\"asian\" + 0.006*\"games\" + 0.006*\"gedung\" + 0.006*\"budi\" + 0.005*\"jokowi\" + 0.005*\"obor\" + 0.005*\"dpr\" + 0.004*\"istana\" + 0.004*\"sambangi\"\n",
            "Topic: 2 Word: 0.012*\"kpk\" + 0.011*\"ott\" + 0.007*\"bupati\" + 0.005*\"suap\" + 0.005*\"syafruddin\" + 0.005*\"bekasi\" + 0.004*\"kena\" + 0.004*\"amin\" + 0.004*\"jokowi\" + 0.004*\"politik\"\n",
            "Topic: 3 Word: 0.006*\"jk\" + 0.005*\"agung\" + 0.005*\"polisi\" + 0.005*\"miliar\" + 0.005*\"thamrin\" + 0.005*\"panggil\" + 0.004*\"rp\" + 0.004*\"sd\" + 0.004*\"agus\" + 0.004*\"taman\"\n",
            "Topic: 4 Word: 0.007*\"dpr\" + 0.006*\"komisi\" + 0.005*\"jokowi\" + 0.005*\"sidang\" + 0.004*\"mundur\" + 0.004*\"kpk\" + 0.004*\"ketua\" + 0.004*\"papua\" + 0.004*\"pdip\" + 0.004*\"sultan\"\n",
            "Topic: 5 Word: 0.006*\"corona\" + 0.006*\"orang\" + 0.006*\"positif\" + 0.005*\"tewas\" + 0.005*\"gempa\" + 0.004*\"truk\" + 0.004*\"crane\" + 0.004*\"meninggal\" + 0.004*\"polisi\" + 0.004*\"sopir\"\n",
            "Topic: 6 Word: 0.008*\"hut\" + 0.007*\"kpk\" + 0.007*\"ri\" + 0.006*\"gerindra\" + 0.006*\"tni\" + 0.005*\"bakar\" + 0.005*\"md\" + 0.005*\"laut\" + 0.005*\"kerja\" + 0.005*\"mahfud\"\n",
            "Topic: 7 Word: 0.006*\"menteri\" + 0.006*\"tps\" + 0.005*\"hutan\" + 0.005*\"asap\" + 0.005*\"dki\" + 0.005*\"esdm\" + 0.005*\"kebakaran\" + 0.004*\"mencoblos\" + 0.004*\"warga\" + 0.004*\"rp\"\n",
            "Topic: 8 Word: 0.008*\"polisi\" + 0.007*\"pelantikan\" + 0.006*\"mahasiswa\" + 0.006*\"ambruk\" + 0.005*\"bei\" + 0.005*\"selasar\" + 0.005*\"demo\" + 0.004*\"tanah\" + 0.004*\"penembakan\" + 0.004*\"viral\"\n"
          ]
        }
      ],
      "source": [
        "model = LdaModel(corpus=corpus_tfidf, id2word=dictionary, num_topics=10) #num topic menyesuaikan hasil dari coherence value paling tinggi\n",
        "for idx, topic in model.print_topics(-1):\n",
        "    print('Topic: {} Word: {}'.format(idx, topic)) "
      ]
    },
    {
      "cell_type": "code",
      "execution_count": null,
      "metadata": {},
      "outputs": [
        {
          "name": "stdout",
          "output_type": "stream",
          "text": [
            "    Topic        Word         P\n",
            "0       0          uu  0.006242\n",
            "1       0         dpr  0.005113\n",
            "2       0       istri  0.004877\n",
            "3       0     anggota  0.004710\n",
            "4       0       suami  0.004677\n",
            "..    ...         ...       ...\n",
            "85      8     selasar  0.004800\n",
            "86      8        demo  0.004525\n",
            "87      8       tanah  0.004328\n",
            "88      8  penembakan  0.004247\n",
            "89      8       viral  0.004165\n",
            "\n",
            "[90 rows x 3 columns]\n"
          ]
        },
        {
          "name": "stderr",
          "output_type": "stream",
          "text": [
            "c:\\Users\\NAJMA\\AppData\\Local\\Programs\\Python\\Python39\\lib\\site-packages\\ipykernel\\ipkernel.py:283: DeprecationWarning: `should_run_async` will not call `transform_cell` automatically in the future. Please pass the result to `transformed_cell` argument and any exception that happen during thetransform in `preprocessing_exc_tuple` in IPython 7.17 and above.\n",
            "  and should_run_async(code)\n"
          ]
        }
      ],
      "source": [
        "top_words_per_topic = []\n",
        "for t in range(model.num_topics):\n",
        "    top_words_per_topic.extend([(t, ) + x for x in model.show_topic(t, topn = 10)])\n",
        "#pd.DataFrame(top_words_per_topic, columns=['Topic', 'Word', 'P']).to_csv(\"top_words.csv\")\n",
        "top_word = pd.DataFrame(top_words_per_topic, columns=['Topic', 'Word','P'])\n",
        "print(top_word)"
      ]
    },
    {
      "cell_type": "code",
      "execution_count": null,
      "metadata": {},
      "outputs": [
        {
          "name": "stderr",
          "output_type": "stream",
          "text": [
            "c:\\Users\\NAJMA\\AppData\\Local\\Programs\\Python\\Python39\\lib\\site-packages\\ipykernel\\ipkernel.py:283: DeprecationWarning: `should_run_async` will not call `transform_cell` automatically in the future. Please pass the result to `transformed_cell` argument and any exception that happen during thetransform in `preprocessing_exc_tuple` in IPython 7.17 and above.\n",
            "  and should_run_async(code)\n"
          ]
        },
        {
          "name": "stdout",
          "output_type": "stream",
          "text": [
            "PreparedData(topic_coordinates=              x         y  topics  cluster       Freq\n",
            "topic                                                \n",
            "5      0.232231 -0.012660       1        1  13.714888\n",
            "8     -0.001555 -0.007448       2        1  12.253723\n",
            "2     -0.062179 -0.198488       3        1  11.640201\n",
            "0     -0.021203 -0.041329       4        1  11.016798\n",
            "3      0.006485  0.022621       5        1  10.663675\n",
            "6     -0.015744 -0.007142       6        1  10.520636\n",
            "7      0.008757  0.105094       7        1  10.395210\n",
            "1     -0.086437  0.117261       8        1  10.104362\n",
            "4     -0.060354  0.022091       9        1   9.690506, topic_info=            Term       Freq       Total Category  logprob  loglift\n",
            "1612         ott  77.000000   77.000000  Default  30.0000  30.0000\n",
            "1844        demo  75.000000   75.000000  Default  29.0000  29.0000\n",
            "2885         hut  41.000000   41.000000  Default  28.0000  28.0000\n",
            "2611  pelantikan  43.000000   43.000000  Default  27.0000  27.0000\n",
            "826       gedung  49.000000   49.000000  Default  26.0000  26.0000\n",
            "...          ...        ...         ...      ...      ...      ...\n",
            "57        jokowi  23.025353  171.331948   Topic9  -5.3337   0.3270\n",
            "104        bahas  15.750902   37.117484   Topic9  -5.7134   1.4768\n",
            "44           kpk  21.136736  185.401495   Topic9  -5.4193   0.1625\n",
            "1102    pimpinan  16.230803   49.021371   Topic9  -5.6834   1.2287\n",
            "986      prabowo  15.547414   83.747806   Topic9  -5.7264   0.6501\n",
            "\n",
            "[520 rows x 6 columns], token_table=      Topic      Freq     Term\n",
            "term                          \n",
            "1078      2  0.931181    abang\n",
            "3217      9  0.900825      abg\n",
            "632       1  0.266371     aceh\n",
            "632       2  0.110988     aceh\n",
            "632       3  0.155383     aceh\n",
            "...     ...       ...      ...\n",
            "2571      4  0.038856  wiranto\n",
            "2571      6  0.155425  wiranto\n",
            "2571      8  0.116568  wiranto\n",
            "1843      3  0.962733       wn\n",
            "1636      4  0.907317   yusril\n",
            "\n",
            "[993 rows x 3 columns], R=30, lambda_step=0.01, plot_opts={'xlab': 'PC1', 'ylab': 'PC2'}, topic_order=[6, 9, 3, 1, 4, 7, 8, 2, 5])\n"
          ]
        }
      ],
      "source": [
        "import gensim\n",
        "import pyLDAvis.gensim_models\n",
        "import pyLDAvis\n",
        "pyLDAvis.enable_notebook()\n",
        "data = pyLDAvis.gensim_models.prepare(model, corpus_tfidf, dictionary)\n",
        "print(data)\n",
        "pyLDAvis.save_html(data, 'lda-gensim-tfidf.html')"
      ]
    },
    {
      "cell_type": "markdown",
      "metadata": {
        "id": "aUKPpEaL5ekm"
      },
      "source": [
        "# **Apply LDA with LatentDirichletAllocation**\n"
      ]
    },
    {
      "cell_type": "markdown",
      "metadata": {},
      "source": [
        "# **TF-IDF Vectorization**"
      ]
    },
    {
      "cell_type": "code",
      "execution_count": null,
      "metadata": {},
      "outputs": [
        {
          "name": "stderr",
          "output_type": "stream",
          "text": [
            "c:\\Users\\NAJMA\\AppData\\Local\\Programs\\Python\\Python39\\lib\\site-packages\\ipykernel\\ipkernel.py:283: DeprecationWarning: `should_run_async` will not call `transform_cell` automatically in the future. Please pass the result to `transformed_cell` argument and any exception that happen during thetransform in `preprocessing_exc_tuple` in IPython 7.17 and above.\n",
            "  and should_run_async(code)\n"
          ]
        }
      ],
      "source": [
        "from sklearn.feature_extraction.text import TfidfVectorizer\n",
        "\n",
        "vect = TfidfVectorizer(max_features=1000)\n",
        "vect_text = vect.fit_transform(df['name_unlisted'])"
      ]
    },
    {
      "cell_type": "code",
      "execution_count": null,
      "metadata": {
        "id": "xaG0C7Sx4zO1"
      },
      "outputs": [
        {
          "name": "stderr",
          "output_type": "stream",
          "text": [
            "c:\\Users\\NAJMA\\AppData\\Local\\Programs\\Python\\Python39\\lib\\site-packages\\ipykernel\\ipkernel.py:283: DeprecationWarning: `should_run_async` will not call `transform_cell` automatically in the future. Please pass the result to `transformed_cell` argument and any exception that happen during thetransform in `preprocessing_exc_tuple` in IPython 7.17 and above.\n",
            "  and should_run_async(code)\n"
          ]
        }
      ],
      "source": [
        "from sklearn.decomposition import LatentDirichletAllocation\n",
        "lda_model = LatentDirichletAllocation(n_components=10, \n",
        "                                    learning_method='online',\n",
        "                                    random_state=42,max_iter=1) \n",
        "lda_top = lda_model.fit_transform(vect_text)"
      ]
    },
    {
      "cell_type": "code",
      "execution_count": null,
      "metadata": {
        "colab": {
          "base_uri": "https://localhost:8080/"
        },
        "id": "tQ1udEE5-5WT",
        "outputId": "f51fd55c-08fc-47bf-e592-fd289ad8b477"
      },
      "outputs": [
        {
          "name": "stderr",
          "output_type": "stream",
          "text": [
            "c:\\Users\\NAJMA\\AppData\\Local\\Programs\\Python\\Python39\\lib\\site-packages\\ipykernel\\ipkernel.py:283: DeprecationWarning: `should_run_async` will not call `transform_cell` automatically in the future. Please pass the result to `transformed_cell` argument and any exception that happen during thetransform in `preprocessing_exc_tuple` in IPython 7.17 and above.\n",
            "  and should_run_async(code)\n"
          ]
        },
        {
          "data": {
            "text/plain": [
              "array([[0.03710218, 0.03710218, 0.03714219, ..., 0.70314257, 0.03710218,\n",
              "        0.03710218],\n",
              "       [0.04615448, 0.04615448, 0.04615448, ..., 0.04615448, 0.04615448,\n",
              "        0.04615448],\n",
              "       [0.26826748, 0.04074857, 0.04072105, ..., 0.04072105, 0.04074961,\n",
              "        0.04072105],\n",
              "       ...,\n",
              "       [0.04644744, 0.0464386 , 0.04644219, ..., 0.04644542, 0.04644505,\n",
              "        0.0464386 ],\n",
              "       [0.13988284, 0.03236471, 0.03236471, ..., 0.30496282, 0.03236471,\n",
              "        0.03236471],\n",
              "       [0.26027816, 0.03238967, 0.03237648, ..., 0.40205065, 0.14338629,\n",
              "        0.03237648]])"
            ]
          },
          "execution_count": 32,
          "metadata": {},
          "output_type": "execute_result"
        }
      ],
      "source": [
        "lda_top"
      ]
    },
    {
      "cell_type": "code",
      "execution_count": null,
      "metadata": {
        "colab": {
          "base_uri": "https://localhost:8080/"
        },
        "id": "Yu8MZ5Eo5kWG",
        "outputId": "ced3b5b7-b0de-42bd-886b-0e4165b81789"
      },
      "outputs": [
        {
          "name": "stdout",
          "output_type": "stream",
          "text": [
            "Document 1: \n",
            "Topic  0 :  4.615448191161518 %\n",
            "Topic  1 :  4.615448191360227 %\n",
            "Topic  2 :  4.61544819008982 %\n",
            "Topic  3 :  63.07641446840782 %\n",
            "Topic  4 :  4.61544819161401 %\n",
            "Topic  5 :  4.615448189735723 %\n",
            "Topic  6 :  4.615448191746536 %\n",
            "Topic  7 :  4.615448194380613 %\n",
            "Topic  8 :  4.615448191503756 %\n"
          ]
        },
        {
          "name": "stderr",
          "output_type": "stream",
          "text": [
            "c:\\Users\\NAJMA\\AppData\\Local\\Programs\\Python\\Python39\\lib\\site-packages\\ipykernel\\ipkernel.py:283: DeprecationWarning: `should_run_async` will not call `transform_cell` automatically in the future. Please pass the result to `transformed_cell` argument and any exception that happen during thetransform in `preprocessing_exc_tuple` in IPython 7.17 and above.\n",
            "  and should_run_async(code)\n"
          ]
        }
      ],
      "source": [
        "print(\"Document 1: \")\n",
        "for i,topic in enumerate(lda_top[1]):\n",
        "  print(\"Topic \",i,\": \",topic*100,\"%\")"
      ]
    },
    {
      "cell_type": "code",
      "execution_count": null,
      "metadata": {},
      "outputs": [
        {
          "name": "stderr",
          "output_type": "stream",
          "text": [
            "c:\\Users\\NAJMA\\AppData\\Local\\Programs\\Python\\Python39\\lib\\site-packages\\ipykernel\\ipkernel.py:283: DeprecationWarning: `should_run_async` will not call `transform_cell` automatically in the future. Please pass the result to `transformed_cell` argument and any exception that happen during thetransform in `preprocessing_exc_tuple` in IPython 7.17 and above.\n",
            "  and should_run_async(code)\n"
          ]
        },
        {
          "data": {
            "text/html": [
              "<div>\n",
              "<style scoped>\n",
              "    .dataframe tbody tr th:only-of-type {\n",
              "        vertical-align: middle;\n",
              "    }\n",
              "\n",
              "    .dataframe tbody tr th {\n",
              "        vertical-align: top;\n",
              "    }\n",
              "\n",
              "    .dataframe thead th {\n",
              "        text-align: right;\n",
              "    }\n",
              "</style>\n",
              "<table border=\"1\" class=\"dataframe\">\n",
              "  <thead>\n",
              "    <tr style=\"text-align: right;\">\n",
              "      <th></th>\n",
              "      <th>Topics</th>\n",
              "      <th>Probability</th>\n",
              "    </tr>\n",
              "  </thead>\n",
              "  <tbody>\n",
              "    <tr>\n",
              "      <th>0</th>\n",
              "      <td>topic 0</td>\n",
              "      <td>0.046154</td>\n",
              "    </tr>\n",
              "    <tr>\n",
              "      <th>1</th>\n",
              "      <td>topic 1</td>\n",
              "      <td>0.046154</td>\n",
              "    </tr>\n",
              "    <tr>\n",
              "      <th>2</th>\n",
              "      <td>topic 2</td>\n",
              "      <td>0.046154</td>\n",
              "    </tr>\n",
              "    <tr>\n",
              "      <th>3</th>\n",
              "      <td>topic 3</td>\n",
              "      <td>0.630764</td>\n",
              "    </tr>\n",
              "    <tr>\n",
              "      <th>4</th>\n",
              "      <td>topic 4</td>\n",
              "      <td>0.046154</td>\n",
              "    </tr>\n",
              "    <tr>\n",
              "      <th>5</th>\n",
              "      <td>topic 5</td>\n",
              "      <td>0.046154</td>\n",
              "    </tr>\n",
              "    <tr>\n",
              "      <th>6</th>\n",
              "      <td>topic 6</td>\n",
              "      <td>0.046154</td>\n",
              "    </tr>\n",
              "    <tr>\n",
              "      <th>7</th>\n",
              "      <td>topic 7</td>\n",
              "      <td>0.046154</td>\n",
              "    </tr>\n",
              "    <tr>\n",
              "      <th>8</th>\n",
              "      <td>topic 8</td>\n",
              "      <td>0.046154</td>\n",
              "    </tr>\n",
              "  </tbody>\n",
              "</table>\n",
              "</div>"
            ],
            "text/plain": [
              "    Topics  Probability\n",
              "0  topic 0     0.046154\n",
              "1  topic 1     0.046154\n",
              "2  topic 2     0.046154\n",
              "3  topic 3     0.630764\n",
              "4  topic 4     0.046154\n",
              "5  topic 5     0.046154\n",
              "6  topic 6     0.046154\n",
              "7  topic 7     0.046154\n",
              "8  topic 8     0.046154"
            ]
          },
          "execution_count": 34,
          "metadata": {},
          "output_type": "execute_result"
        }
      ],
      "source": [
        "index_list = []\n",
        "topic_list = []\n",
        "\n",
        "for i in range(len(lda_top[1])):\n",
        "    index_list.append('topic {}'.format(i))\n",
        "    topic_list.append(lda_top[1][i])\n",
        "\n",
        "topic_df = pd.DataFrame(zip(index_list, topic_list), columns=['Topics', 'Probability'])\n",
        "topic_df"
      ]
    },
    {
      "cell_type": "code",
      "execution_count": null,
      "metadata": {},
      "outputs": [
        {
          "name": "stderr",
          "output_type": "stream",
          "text": [
            "c:\\Users\\NAJMA\\AppData\\Local\\Programs\\Python\\Python39\\lib\\site-packages\\ipykernel\\ipkernel.py:283: DeprecationWarning: `should_run_async` will not call `transform_cell` automatically in the future. Please pass the result to `transformed_cell` argument and any exception that happen during thetransform in `preprocessing_exc_tuple` in IPython 7.17 and above.\n",
            "  and should_run_async(code)\n"
          ]
        },
        {
          "data": {
            "image/png": "[encoded data removed]",
            "text/plain": [
              "<Figure size 720x360 with 1 Axes>"
            ]
          },
          "metadata": {
            "needs_background": "light"
          },
          "output_type": "display_data"
        }
      ],
      "source": [
        "\n",
        "plt.figure(figsize=(10,5))\n",
        "sns.barplot(data=topic_df, x='Topics', y='Probability')\n",
        "plt.show()"
      ]
    },
    {
      "cell_type": "code",
      "execution_count": null,
      "metadata": {
        "id": "-nhemqax5rFX"
      },
      "outputs": [
        {
          "name": "stderr",
          "output_type": "stream",
          "text": [
            "c:\\Users\\NAJMA\\AppData\\Local\\Programs\\Python\\Python39\\lib\\site-packages\\ipykernel\\ipkernel.py:283: DeprecationWarning: `should_run_async` will not call `transform_cell` automatically in the future. Please pass the result to `transformed_cell` argument and any exception that happen during thetransform in `preprocessing_exc_tuple` in IPython 7.17 and above.\n",
            "  and should_run_async(code)\n"
          ]
        }
      ],
      "source": [
        "#grab the highest probability word per topics\n",
        "single_topic = lda_model.components_[0]"
      ]
    },
    {
      "cell_type": "code",
      "execution_count": null,
      "metadata": {},
      "outputs": [
        {
          "name": "stderr",
          "output_type": "stream",
          "text": [
            "c:\\Users\\NAJMA\\AppData\\Local\\Programs\\Python\\Python39\\lib\\site-packages\\ipykernel\\ipkernel.py:283: DeprecationWarning: `should_run_async` will not call `transform_cell` automatically in the future. Please pass the result to `transformed_cell` argument and any exception that happen during thetransform in `preprocessing_exc_tuple` in IPython 7.17 and above.\n",
            "  and should_run_async(code)\n"
          ]
        },
        {
          "data": {
            "text/plain": [
              "array([617, 412, 376, 253, 548,  66, 567, 117, 278, 853, 777, 119, 230,\n",
              "       224, 123, 760, 759,  98, 578, 269,  32, 829, 934, 258, 298, 132,\n",
              "       708, 291, 332, 672, 713,  75, 433, 423, 532, 816, 919, 410, 998,\n",
              "       602, 754, 866, 150, 407, 609, 292,   1,  21, 392, 717, 333, 508,\n",
              "       712, 360, 849, 911, 464, 204, 337,  48, 366, 263,  13,  60, 901,\n",
              "       109, 766, 302, 817, 187, 802, 929, 965, 422, 838, 458, 851, 800,\n",
              "       329, 190, 202, 207, 749, 893, 969, 354, 595,  56, 120, 550, 311,\n",
              "       178, 308, 660, 772, 837, 226, 784, 748, 261, 685, 485, 788, 363,\n",
              "       662, 287,  68,  87, 778,   9, 491, 199, 953, 544, 783, 369, 197,\n",
              "       486, 496, 243, 343, 322, 122, 358, 522, 523, 637, 158, 724, 148,\n",
              "       781, 827, 203,   6, 667, 653,  39, 520, 571, 560, 753, 867, 312,\n",
              "       755, 654, 655, 506, 933, 995, 798, 592, 441, 528, 521, 375, 744,\n",
              "        86, 112,  57, 579, 476, 607, 879,  61, 365, 303, 294,  30, 381,\n",
              "       819, 882, 994, 581, 393, 304, 980, 626, 671, 161, 166, 721, 786,\n",
              "       601, 260, 796, 297, 972, 863, 728, 370, 876, 996, 283, 779, 438,\n",
              "       447, 169, 910, 646, 990, 793, 345, 982,  28, 489, 890, 173, 126,\n",
              "       572, 279, 327, 833, 769, 271, 790,  19,  93, 943, 482,  77, 580,\n",
              "       418,  29, 531,  67, 478, 377, 105,  76, 277, 960,  22, 149, 891,\n",
              "       141, 826, 559, 357, 266, 897,  92, 697, 439, 384, 966, 457, 542,\n",
              "       448,  91, 681,   8, 932, 570, 768, 331, 305, 374, 301, 846,  73,\n",
              "       317, 146,  79, 635, 725, 666, 214, 825, 615, 618, 511, 348,  58,\n",
              "       236, 541,  55, 747, 497, 143, 285, 858, 138, 562, 555, 941, 738,\n",
              "       400, 791, 420, 989, 336, 689, 847, 209, 471, 136, 619, 951, 923,\n",
              "       315, 840, 600, 604, 359, 834,  33, 380, 634, 310, 988, 413, 614,\n",
              "       131,  94, 455, 861, 770, 810, 577, 693, 436, 362, 954, 767, 401,\n",
              "       797, 557, 205,  54, 208, 961, 352, 831, 470, 429, 245, 157, 682,\n",
              "       715,  43, 962, 678, 663, 814, 877, 984, 217, 404, 903, 751, 955,\n",
              "       586, 547, 175, 449, 432,  36, 242, 244, 656, 552, 223,  53, 762,\n",
              "       128, 949, 651, 540, 899, 274, 675, 239, 687, 225, 950, 719, 108,\n",
              "       686, 309, 262, 952, 569, 383, 859, 495, 101, 823,  27, 507, 813,\n",
              "       324, 255, 168, 525, 865, 971,  72, 676,  84, 534, 983, 590, 597,\n",
              "       677, 564, 295, 133, 538, 162,  45, 280, 367, 328, 848, 461, 254,\n",
              "       593, 307, 313, 884, 702, 424, 820, 839, 944, 379, 408, 246, 233,\n",
              "       387, 174, 216, 628, 591, 556, 976, 576, 235, 282, 241, 373, 316,\n",
              "       353,  62, 428, 674, 792, 215, 272, 835,   5, 623, 200, 964, 445,\n",
              "       624, 405, 757, 886, 102, 135, 869, 922, 612, 219, 568, 378,  78,\n",
              "       746, 189, 756, 743, 750, 446, 414, 435, 139,  59, 883, 176, 268,\n",
              "       661, 771, 342, 806, 930, 325, 188, 232, 850, 421, 466, 963, 290,\n",
              "       587, 192, 505, 684, 563, 946, 967, 565, 978, 518, 539, 795, 247,\n",
              "       221, 735, 857, 231, 273, 942, 860, 611, 159, 256, 351, 396, 430,\n",
              "       181, 517, 629, 645, 631, 519,  47,  81, 463, 875,  90, 184, 566,\n",
              "       643, 956, 809, 918, 251, 514, 479, 524, 386, 194, 596, 147, 610,\n",
              "       558, 238, 758, 723, 832, 530, 415, 959,  34, 481, 116, 237, 670,\n",
              "       513, 811, 185, 928, 186, 355, 155, 314, 842, 700, 250, 177, 894,\n",
              "        70,  18, 855, 638, 510, 527, 864, 630, 395, 330, 917, 546, 347,\n",
              "        24, 129, 636, 734, 889, 451, 887, 900, 391, 703,  35, 318, 621,\n",
              "       881, 509, 211, 977,  38, 862, 115, 584, 114, 714, 992, 163, 549,\n",
              "       868, 339, 113, 774, 729, 718, 118, 191, 608, 736, 427, 741,  85,\n",
              "       669, 632, 319, 106, 487, 658, 815,  74, 709, 688, 403, 454, 599,\n",
              "       390, 979, 286, 732, 196,  23, 382, 288,  14, 252, 394, 830, 841,\n",
              "       107, 605, 707,   4, 585, 434,  37, 691,  44, 334, 872, 594, 799,\n",
              "       472, 170,  71,  41, 916, 145, 993, 456, 409, 776, 740, 361, 761,\n",
              "       537, 323, 402, 958, 885, 300, 460, 644, 985, 344,  80, 583, 201,\n",
              "        83, 739, 620, 641, 973, 892, 340, 625, 613, 111, 228, 180, 259,\n",
              "       284, 494, 475, 575, 588, 144, 536, 127, 711, 803, 321, 474, 551,\n",
              "       657, 909, 701, 844, 968, 553, 936,  64, 335,  82, 733, 493, 469,\n",
              "        88, 896, 121, 459,  69, 737, 726,  17,   3, 289, 160, 477, 991,\n",
              "        31, 416, 913, 704, 785, 364, 492, 782, 206, 431, 647, 804, 212,\n",
              "       710, 873,  11, 692,  25, 898, 100, 210, 227, 805, 931, 836, 213,\n",
              "       406, 927,  97, 326, 694, 153, 182, 480, 999, 397, 812, 234, 103,\n",
              "       970, 574, 504,   0, 349, 388, 974, 299, 852, 878, 902, 908, 306,\n",
              "       296, 467, 443, 683, 706, 582,  16, 293, 554, 659, 940, 533, 240,\n",
              "       801, 905, 179, 399, 372, 870, 895, 417,  99, 764, 633, 156, 183,\n",
              "       411, 444, 490, 573, 598, 473, 257, 419, 888, 650, 986,   7, 673,\n",
              "       398,   2, 880, 165, 152, 151, 787, 385, 824, 499,  26, 265, 907,\n",
              "       389, 731, 450, 818, 589, 871, 425, 981, 765, 488, 794, 137, 727,\n",
              "       742, 193, 515, 500, 371, 845, 281, 921, 526, 164, 975, 730, 696,\n",
              "       997, 773, 920, 320,  52, 821, 854, 695, 642, 437, 699, 627,  95,\n",
              "        96,  50, 125, 543, 440, 752, 124, 142, 442, 195, 822, 130, 270,\n",
              "       110, 924, 276, 915, 698, 948, 652, 937,  51, 945, 648, 763, 640,\n",
              "       465,  49,  20, 935, 462, 249,  40, 912, 248, 938, 561, 501, 745,\n",
              "       167, 350, 679, 346, 649, 906, 957, 828, 664, 606, 275, 856, 267,\n",
              "       680, 843, 172,  15, 426, 622, 789, 780, 171, 516, 104, 668, 616,\n",
              "       483, 545, 808, 947, 452, 926, 468, 807, 218, 716, 198, 639,  46,\n",
              "       914, 356, 987, 453, 665, 529, 368, 603, 503, 154,  63, 720, 140,\n",
              "       690, 775, 939,  65, 134, 512, 229,  89, 498, 220, 925, 874, 705,\n",
              "        12, 722, 502, 338, 904, 484, 222, 264,  10, 535, 341,  42],\n",
              "      dtype=int64)"
            ]
          },
          "execution_count": 37,
          "metadata": {},
          "output_type": "execute_result"
        }
      ],
      "source": [
        "single_topic.argsort()"
      ]
    },
    {
      "cell_type": "code",
      "execution_count": null,
      "metadata": {},
      "outputs": [
        {
          "name": "stderr",
          "output_type": "stream",
          "text": [
            "c:\\Users\\NAJMA\\AppData\\Local\\Programs\\Python\\Python39\\lib\\site-packages\\ipykernel\\ipkernel.py:283: DeprecationWarning: `should_run_async` will not call `transform_cell` automatically in the future. Please pass the result to `transformed_cell` argument and any exception that happen during thetransform in `preprocessing_exc_tuple` in IPython 7.17 and above.\n",
            "  and should_run_async(code)\n"
          ]
        },
        {
          "data": {
            "text/plain": [
              "array([502, 338, 904, 484, 222, 264,  10, 535, 341,  42], dtype=int64)"
            ]
          },
          "execution_count": 38,
          "metadata": {},
          "output_type": "execute_result"
        }
      ],
      "source": [
        "#Argsort -----> Index Positions sorted from least ----> Greatest\n",
        "#Top 10 values\n",
        "single_topic.argsort()[-10:]"
      ]
    },
    {
      "cell_type": "code",
      "execution_count": null,
      "metadata": {},
      "outputs": [
        {
          "name": "stderr",
          "output_type": "stream",
          "text": [
            "c:\\Users\\NAJMA\\AppData\\Local\\Programs\\Python\\Python39\\lib\\site-packages\\ipykernel\\ipkernel.py:283: DeprecationWarning: `should_run_async` will not call `transform_cell` automatically in the future. Please pass the result to `transformed_cell` argument and any exception that happen during thetransform in `preprocessing_exc_tuple` in IPython 7.17 and above.\n",
            "  and should_run_async(code)\n"
          ]
        }
      ],
      "source": [
        "top_nine_words = single_topic.argsort()[-9:]"
      ]
    },
    {
      "cell_type": "code",
      "execution_count": null,
      "metadata": {},
      "outputs": [
        {
          "name": "stdout",
          "output_type": "stream",
          "text": [
            "jabar\n",
            "terbakar\n",
            "mahasiswa\n",
            "dki\n",
            "gedung\n",
            "ahok\n",
            "mobil\n",
            "jakarta\n",
            "anies\n"
          ]
        },
        {
          "name": "stderr",
          "output_type": "stream",
          "text": [
            "c:\\Users\\NAJMA\\AppData\\Local\\Programs\\Python\\Python39\\lib\\site-packages\\ipykernel\\ipkernel.py:283: DeprecationWarning: `should_run_async` will not call `transform_cell` automatically in the future. Please pass the result to `transformed_cell` argument and any exception that happen during thetransform in `preprocessing_exc_tuple` in IPython 7.17 and above.\n",
            "  and should_run_async(code)\n"
          ]
        }
      ],
      "source": [
        "for index in top_nine_words:\n",
        "    print(vect.get_feature_names()[index])"
      ]
    },
    {
      "cell_type": "code",
      "execution_count": null,
      "metadata": {},
      "outputs": [
        {
          "name": "stdout",
          "output_type": "stream",
          "text": [
            "\n",
            "\n",
            "Topic 0: \n",
            "anies jakarta mobil ahok gedung dki mahasiswa terbakar jabar masuk \n",
            "\n",
            "Topic 1: \n",
            "video cerita gerindra viral pdip foto tps kpu motor pks \n",
            "\n",
            "Topic 2: \n",
            "jokowi dpr kpk anggota demo suap jk pemerintah jelang bupati \n",
            "\n",
            "Topic 3: \n",
            "corona ri tersangka ott aksi sekolah covid kepala polisi positif \n",
            "\n",
            "Topic 4: \n",
            "indonesia ketua ditangkap anak polisi australia narkoba pimpinan dpr jaksa \n",
            "\n",
            "Topic 5: \n",
            "rp pria uu sandiaga polisi juta istri gempa korban rumah \n",
            "\n",
            "Topic 6: \n",
            "tewas orang menteri china kebakaran ditemukan laut gunung kampanye asap \n",
            "\n",
            "Topic 7: \n",
            "prabowo warga sidang aceh bekasi penembakan tolak banjir jokowi jalan \n",
            "\n",
            "Topic 8: \n",
            "kerja agung bandung politik pilkada bayi uang golkar wanita polisi "
          ]
        },
        {
          "name": "stderr",
          "output_type": "stream",
          "text": [
            "c:\\Users\\NAJMA\\AppData\\Local\\Programs\\Python\\Python39\\lib\\site-packages\\ipykernel\\ipkernel.py:283: DeprecationWarning: `should_run_async` will not call `transform_cell` automatically in the future. Please pass the result to `transformed_cell` argument and any exception that happen during thetransform in `preprocessing_exc_tuple` in IPython 7.17 and above.\n",
            "  and should_run_async(code)\n"
          ]
        }
      ],
      "source": [
        "vocab = vect.get_feature_names()\n",
        "for i, comp in enumerate(lda_model.components_):\n",
        "     vocab_comp = zip(vocab, comp)\n",
        "     sorted_words = sorted(vocab_comp, key= lambda x:x[1], reverse=True)[:10]\n",
        "     print('\\n')\n",
        "     print(\"Topic \"+str(i)+\": \")\n",
        "     for t in sorted_words:\n",
        "            print(t[0],end=\" \")"
      ]
    },
    {
      "cell_type": "code",
      "execution_count": null,
      "metadata": {},
      "outputs": [
        {
          "name": "stderr",
          "output_type": "stream",
          "text": [
            "c:\\Users\\NAJMA\\AppData\\Local\\Programs\\Python\\Python39\\lib\\site-packages\\ipykernel\\ipkernel.py:283: DeprecationWarning: `should_run_async` will not call `transform_cell` automatically in the future. Please pass the result to `transformed_cell` argument and any exception that happen during thetransform in `preprocessing_exc_tuple` in IPython 7.17 and above.\n",
            "  and should_run_async(code)\n"
          ]
        }
      ],
      "source": [
        "topic_results=lda_model.transform(vect_text)"
      ]
    },
    {
      "cell_type": "code",
      "execution_count": null,
      "metadata": {},
      "outputs": [
        {
          "name": "stderr",
          "output_type": "stream",
          "text": [
            "c:\\Users\\NAJMA\\AppData\\Local\\Programs\\Python\\Python39\\lib\\site-packages\\ipykernel\\ipkernel.py:283: DeprecationWarning: `should_run_async` will not call `transform_cell` automatically in the future. Please pass the result to `transformed_cell` argument and any exception that happen during thetransform in `preprocessing_exc_tuple` in IPython 7.17 and above.\n",
            "  and should_run_async(code)\n"
          ]
        },
        {
          "data": {
            "text/plain": [
              "6"
            ]
          },
          "execution_count": 43,
          "metadata": {},
          "output_type": "execute_result"
        }
      ],
      "source": [
        "topic_results[0].argmax()"
      ]
    },
    {
      "cell_type": "code",
      "execution_count": null,
      "metadata": {},
      "outputs": [
        {
          "name": "stderr",
          "output_type": "stream",
          "text": [
            "c:\\Users\\NAJMA\\AppData\\Local\\Programs\\Python\\Python39\\lib\\site-packages\\ipykernel\\ipkernel.py:283: DeprecationWarning: `should_run_async` will not call `transform_cell` automatically in the future. Please pass the result to `transformed_cell` argument and any exception that happen during thetransform in `preprocessing_exc_tuple` in IPython 7.17 and above.\n",
            "  and should_run_async(code)\n"
          ]
        }
      ],
      "source": [
        "df['topic'] = topic_results.argmax(axis=1)"
      ]
    },
    {
      "cell_type": "code",
      "execution_count": null,
      "metadata": {},
      "outputs": [
        {
          "name": "stderr",
          "output_type": "stream",
          "text": [
            "c:\\Users\\NAJMA\\AppData\\Local\\Programs\\Python\\Python39\\lib\\site-packages\\ipykernel\\ipkernel.py:283: DeprecationWarning: `should_run_async` will not call `transform_cell` automatically in the future. Please pass the result to `transformed_cell` argument and any exception that happen during thetransform in `preprocessing_exc_tuple` in IPython 7.17 and above.\n",
            "  and should_run_async(code)\n"
          ]
        },
        {
          "data": {
            "text/html": [
              "<div>\n",
              "<style scoped>\n",
              "    .dataframe tbody tr th:only-of-type {\n",
              "        vertical-align: middle;\n",
              "    }\n",
              "\n",
              "    .dataframe tbody tr th {\n",
              "        vertical-align: top;\n",
              "    }\n",
              "\n",
              "    .dataframe thead th {\n",
              "        text-align: right;\n",
              "    }\n",
              "</style>\n",
              "<table border=\"1\" class=\"dataframe\">\n",
              "  <thead>\n",
              "    <tr style=\"text-align: right;\">\n",
              "      <th></th>\n",
              "      <th>name</th>\n",
              "      <th>name_casefold</th>\n",
              "      <th>name_cleaned</th>\n",
              "      <th>name_token</th>\n",
              "      <th>name_no_stopwords</th>\n",
              "      <th>name_unlisted</th>\n",
              "      <th>topic</th>\n",
              "    </tr>\n",
              "  </thead>\n",
              "  <tbody>\n",
              "    <tr>\n",
              "      <th>1</th>\n",
              "      <td>Menteri Marwan Imbau Pemda Segera Salurkan Dan...</td>\n",
              "      <td>menteri marwan imbau pemda segera salurkan dan...</td>\n",
              "      <td>menteri marwan imbau pemda segera salurkan dan...</td>\n",
              "      <td>[menteri, marwan, imbau, pemda, segera, salurk...</td>\n",
              "      <td>[menteri, marwan, imbau, pemda, salurkan, dana...</td>\n",
              "      <td>menteri marwan imbau pemda salurkan dana desa</td>\n",
              "      <td>6</td>\n",
              "    </tr>\n",
              "    <tr>\n",
              "      <th>2</th>\n",
              "      <td>Luncurkan Buku, Irjen Anton Charliyan Bicara 9...</td>\n",
              "      <td>luncurkan buku, irjen anton charliyan bicara 9...</td>\n",
              "      <td>luncurkan buku irjen anton charliyan bicara ra...</td>\n",
              "      <td>[luncurkan, buku, irjen, anton, charliyan, bic...</td>\n",
              "      <td>[luncurkan, buku, irjen, anton, charliyan, bic...</td>\n",
              "      <td>luncurkan buku irjen anton charliyan bicara ra...</td>\n",
              "      <td>3</td>\n",
              "    </tr>\n",
              "    <tr>\n",
              "      <th>3</th>\n",
              "      <td>Disuruh Buka Wajah, Guru Paskibra Pelaku Penca...</td>\n",
              "      <td>disuruh buka wajah, guru paskibra pelaku penca...</td>\n",
              "      <td>disuruh buka wajah guru paskibra pelaku pencab...</td>\n",
              "      <td>[disuruh, buka, wajah, guru, paskibra, pelaku,...</td>\n",
              "      <td>[disuruh, buka, wajah, guru, paskibra, pelaku,...</td>\n",
              "      <td>disuruh buka wajah guru paskibra pelaku pencab...</td>\n",
              "      <td>5</td>\n",
              "    </tr>\n",
              "    <tr>\n",
              "      <th>4</th>\n",
              "      <td>Pelaku Usaha: Solo Harus Bersih dari 'Polisi S...</td>\n",
              "      <td>pelaku usaha: solo harus bersih dari 'polisi s...</td>\n",
              "      <td>pelaku usaha solo harus bersih dari polisi swa...</td>\n",
              "      <td>[pelaku, usaha, solo, harus, bersih, dari, pol...</td>\n",
              "      <td>[pelaku, usaha, solo, bersih, polisi, swasta, ...</td>\n",
              "      <td>pelaku usaha solo bersih polisi swasta puasa</td>\n",
              "      <td>7</td>\n",
              "    </tr>\n",
              "    <tr>\n",
              "      <th>5</th>\n",
              "      <td>Komisi I Protes Australia Suap ABK untuk Halau...</td>\n",
              "      <td>komisi i protes australia suap abk untuk halau...</td>\n",
              "      <td>komisi  protes australia suap abk untuk halau ...</td>\n",
              "      <td>[komisi, protes, australia, suap, abk, untuk, ...</td>\n",
              "      <td>[komisi, protes, australia, suap, abk, halau, ...</td>\n",
              "      <td>komisi protes australia suap abk halau migran ...</td>\n",
              "      <td>4</td>\n",
              "    </tr>\n",
              "    <tr>\n",
              "      <th>...</th>\n",
              "      <td>...</td>\n",
              "      <td>...</td>\n",
              "      <td>...</td>\n",
              "      <td>...</td>\n",
              "      <td>...</td>\n",
              "      <td>...</td>\n",
              "      <td>...</td>\n",
              "    </tr>\n",
              "    <tr>\n",
              "      <th>19305</th>\n",
              "      <td>Faisal Amir Tak Tahu Sebab Luka di Kepala: Ini...</td>\n",
              "      <td>faisal amir tak tahu sebab luka di kepala: ini...</td>\n",
              "      <td>faisal amir tak tahu sebab luka di kepala ini ...</td>\n",
              "      <td>[faisal, amir, tak, tahu, sebab, luka, di, kep...</td>\n",
              "      <td>[faisal, amir, luka, kepala, risiko, demo]</td>\n",
              "      <td>faisal amir luka kepala risiko demo</td>\n",
              "      <td>3</td>\n",
              "    </tr>\n",
              "    <tr>\n",
              "      <th>19306</th>\n",
              "      <td>Kebakaran Hutan di Gunung Ringgit Belum Padam,...</td>\n",
              "      <td>kebakaran hutan di gunung ringgit belum padam,...</td>\n",
              "      <td>kebakaran hutan di gunung ringgit belum padam ...</td>\n",
              "      <td>[kebakaran, hutan, di, gunung, ringgit, belum,...</td>\n",
              "      <td>[kebakaran, hutan, gunung, ringgit, padam, mun...</td>\n",
              "      <td>kebakaran hutan gunung ringgit padam muncul ti...</td>\n",
              "      <td>2</td>\n",
              "    </tr>\n",
              "    <tr>\n",
              "      <th>19307</th>\n",
              "      <td>Sudah di Rumah, Faisal Amir Masih Pusing dan R...</td>\n",
              "      <td>sudah di rumah, faisal amir masih pusing dan r...</td>\n",
              "      <td>sudah di rumah faisal amir masih pusing dan ra...</td>\n",
              "      <td>[sudah, di, rumah, faisal, amir, masih, pusing...</td>\n",
              "      <td>[rumah, faisal, amir, pusing, rasakan, sakit]</td>\n",
              "      <td>rumah faisal amir pusing rasakan sakit</td>\n",
              "      <td>5</td>\n",
              "    </tr>\n",
              "    <tr>\n",
              "      <th>19308</th>\n",
              "      <td>Semangat WNI di Rusia Antarkan Tim Indonesia R...</td>\n",
              "      <td>semangat wni di rusia antarkan tim indonesia r...</td>\n",
              "      <td>semangat wni di rusia antarkan tim indonesia r...</td>\n",
              "      <td>[semangat, wni, di, rusia, antarkan, tim, indo...</td>\n",
              "      <td>[semangat, wni, rusia, antarkan, tim, indonesi...</td>\n",
              "      <td>semangat wni rusia antarkan tim indonesia raih...</td>\n",
              "      <td>4</td>\n",
              "    </tr>\n",
              "    <tr>\n",
              "      <th>19309</th>\n",
              "      <td>Mobil Jatuh dari Jalan Layang Lalu Terbakar, D...</td>\n",
              "      <td>mobil jatuh dari jalan layang lalu terbakar, d...</td>\n",
              "      <td>mobil jatuh dari jalan layang lalu terbakar du...</td>\n",
              "      <td>[mobil, jatuh, dari, jalan, layang, lalu, terb...</td>\n",
              "      <td>[mobil, jatuh, jalan, layang, terbakar, remaja...</td>\n",
              "      <td>mobil jatuh jalan layang terbakar remaja tewas</td>\n",
              "      <td>6</td>\n",
              "    </tr>\n",
              "  </tbody>\n",
              "</table>\n",
              "<p>19306 rows × 7 columns</p>\n",
              "</div>"
            ],
            "text/plain": [
              "                                                    name  \\\n",
              "1      Menteri Marwan Imbau Pemda Segera Salurkan Dan...   \n",
              "2      Luncurkan Buku, Irjen Anton Charliyan Bicara 9...   \n",
              "3      Disuruh Buka Wajah, Guru Paskibra Pelaku Penca...   \n",
              "4      Pelaku Usaha: Solo Harus Bersih dari 'Polisi S...   \n",
              "5      Komisi I Protes Australia Suap ABK untuk Halau...   \n",
              "...                                                  ...   \n",
              "19305  Faisal Amir Tak Tahu Sebab Luka di Kepala: Ini...   \n",
              "19306  Kebakaran Hutan di Gunung Ringgit Belum Padam,...   \n",
              "19307  Sudah di Rumah, Faisal Amir Masih Pusing dan R...   \n",
              "19308  Semangat WNI di Rusia Antarkan Tim Indonesia R...   \n",
              "19309  Mobil Jatuh dari Jalan Layang Lalu Terbakar, D...   \n",
              "\n",
              "                                           name_casefold  \\\n",
              "1      menteri marwan imbau pemda segera salurkan dan...   \n",
              "2      luncurkan buku, irjen anton charliyan bicara 9...   \n",
              "3      disuruh buka wajah, guru paskibra pelaku penca...   \n",
              "4      pelaku usaha: solo harus bersih dari 'polisi s...   \n",
              "5      komisi i protes australia suap abk untuk halau...   \n",
              "...                                                  ...   \n",
              "19305  faisal amir tak tahu sebab luka di kepala: ini...   \n",
              "19306  kebakaran hutan di gunung ringgit belum padam,...   \n",
              "19307  sudah di rumah, faisal amir masih pusing dan r...   \n",
              "19308  semangat wni di rusia antarkan tim indonesia r...   \n",
              "19309  mobil jatuh dari jalan layang lalu terbakar, d...   \n",
              "\n",
              "                                            name_cleaned  \\\n",
              "1      menteri marwan imbau pemda segera salurkan dan...   \n",
              "2      luncurkan buku irjen anton charliyan bicara ra...   \n",
              "3      disuruh buka wajah guru paskibra pelaku pencab...   \n",
              "4      pelaku usaha solo harus bersih dari polisi swa...   \n",
              "5      komisi  protes australia suap abk untuk halau ...   \n",
              "...                                                  ...   \n",
              "19305  faisal amir tak tahu sebab luka di kepala ini ...   \n",
              "19306  kebakaran hutan di gunung ringgit belum padam ...   \n",
              "19307  sudah di rumah faisal amir masih pusing dan ra...   \n",
              "19308  semangat wni di rusia antarkan tim indonesia r...   \n",
              "19309  mobil jatuh dari jalan layang lalu terbakar du...   \n",
              "\n",
              "                                              name_token  \\\n",
              "1      [menteri, marwan, imbau, pemda, segera, salurk...   \n",
              "2      [luncurkan, buku, irjen, anton, charliyan, bic...   \n",
              "3      [disuruh, buka, wajah, guru, paskibra, pelaku,...   \n",
              "4      [pelaku, usaha, solo, harus, bersih, dari, pol...   \n",
              "5      [komisi, protes, australia, suap, abk, untuk, ...   \n",
              "...                                                  ...   \n",
              "19305  [faisal, amir, tak, tahu, sebab, luka, di, kep...   \n",
              "19306  [kebakaran, hutan, di, gunung, ringgit, belum,...   \n",
              "19307  [sudah, di, rumah, faisal, amir, masih, pusing...   \n",
              "19308  [semangat, wni, di, rusia, antarkan, tim, indo...   \n",
              "19309  [mobil, jatuh, dari, jalan, layang, lalu, terb...   \n",
              "\n",
              "                                       name_no_stopwords  \\\n",
              "1      [menteri, marwan, imbau, pemda, salurkan, dana...   \n",
              "2      [luncurkan, buku, irjen, anton, charliyan, bic...   \n",
              "3      [disuruh, buka, wajah, guru, paskibra, pelaku,...   \n",
              "4      [pelaku, usaha, solo, bersih, polisi, swasta, ...   \n",
              "5      [komisi, protes, australia, suap, abk, halau, ...   \n",
              "...                                                  ...   \n",
              "19305         [faisal, amir, luka, kepala, risiko, demo]   \n",
              "19306  [kebakaran, hutan, gunung, ringgit, padam, mun...   \n",
              "19307      [rumah, faisal, amir, pusing, rasakan, sakit]   \n",
              "19308  [semangat, wni, rusia, antarkan, tim, indonesi...   \n",
              "19309  [mobil, jatuh, jalan, layang, terbakar, remaja...   \n",
              "\n",
              "                                           name_unlisted  topic  \n",
              "1          menteri marwan imbau pemda salurkan dana desa      6  \n",
              "2      luncurkan buku irjen anton charliyan bicara ra...      3  \n",
              "3      disuruh buka wajah guru paskibra pelaku pencab...      5  \n",
              "4           pelaku usaha solo bersih polisi swasta puasa      7  \n",
              "5      komisi protes australia suap abk halau migran ...      4  \n",
              "...                                                  ...    ...  \n",
              "19305                faisal amir luka kepala risiko demo      3  \n",
              "19306  kebakaran hutan gunung ringgit padam muncul ti...      2  \n",
              "19307             rumah faisal amir pusing rasakan sakit      5  \n",
              "19308  semangat wni rusia antarkan tim indonesia raih...      4  \n",
              "19309     mobil jatuh jalan layang terbakar remaja tewas      6  \n",
              "\n",
              "[19306 rows x 7 columns]"
            ]
          },
          "execution_count": 45,
          "metadata": {},
          "output_type": "execute_result"
        }
      ],
      "source": [
        "df"
      ]
    },
    {
      "cell_type": "markdown",
      "metadata": {},
      "source": [
        "Sumber Referensi\n",
        "\n",
        "- https://medium.com/@listari.tari/topic-modelling-menggunakan-latent-dirchlect-allocation-part-1-pre-processing-data-dengan-python-87bf5c580923\n",
        "- https://medium.com/@listari.tari/topic-modeling-menggunakan-latent-dirchlect-allocation-part-2-topic-modeling-with-gensim-c9ffd196cb87\n",
        "- https://towardsdatascience.com/topic-modeling-and-latent-dirichlet-allocation-in-python-9bf156893c24\n",
        "- https://towardsdatascience.com/end-to-end-topic-modeling-in-python-latent-dirichlet-allocation-lda-35ce4ed6b3e0 \n"
      ]
    }
  ],
  "metadata": {
    "colab": {
      "provenance": [],
      "toc_visible": true
    },
    "kernelspec": {
      "display_name": "Python 3.9.4 64-bit",
      "language": "python",
      "name": "python3"
    },
    "language_info": {
      "codemirror_mode": {
        "name": "ipython",
        "version": 3
      },
      "file_extension": ".py",
      "mimetype": "text/x-python",
      "name": "python",
      "nbconvert_exporter": "python",
      "pygments_lexer": "ipython3",
      "version": "3.9.4"
    },
    "vscode": {
      "interpreter": {
        "hash": "350a7158d5015cf8c851706f93f71e6eda52915e5b3d1d12b43b7d5cc9fbd2f8"
      }
    }
  },
  "nbformat": 4,
  "nbformat_minor": 0
}
