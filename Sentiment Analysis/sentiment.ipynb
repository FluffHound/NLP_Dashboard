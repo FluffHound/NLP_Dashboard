{
 "cells": [
  {
   "cell_type": "markdown",
   "metadata": {},
   "source": [
    "<div style='color: lightblue;\n",
    "           background-color: black;\n",
    "           font-size: 200%;\n",
    "           border-radius:15px;\n",
    "           text-align:center;\n",
    "           font-weight:600;\n",
    "           border-style: dashed;\n",
    "           border-color: lightblue;\n",
    "           font-family: \"Verdana\";'>\n",
    "Import Packages\n",
    "<a class=\"anchor\" id=\"1\"></a> "
   ]
  },
  {
   "cell_type": "code",
   "execution_count": 1,
   "metadata": {},
   "outputs": [],
   "source": [
    "import pandas as pd\n",
    "\n",
    "from transformers import pipeline, AutoTokenizer, AutoModelForSequenceClassification"
   ]
  },
  {
   "cell_type": "markdown",
   "metadata": {},
   "source": [
    "<div style='color: lightblue;\n",
    "           background-color: black;\n",
    "           font-size: 200%;\n",
    "           border-radius:15px;\n",
    "           text-align:center;\n",
    "           font-weight:600;\n",
    "           border-style: dashed;\n",
    "           border-color: lightblue;\n",
    "           font-family: \"Verdana\";'>\n",
    "Import Data\n",
    "<a class=\"anchor\" id=\"1\"></a> "
   ]
  },
  {
   "cell_type": "code",
   "execution_count": 6,
   "metadata": {},
   "outputs": [],
   "source": [
    "df_hashtag_ganjar = pd.read_csv(r\"..\\Scraper\\data_clean\\hashtag_ganjarpranowofor2024.csv\")\n",
    "df_hashtag_prabowo = pd.read_csv(r\"..\\Scraper\\data_clean\\hashtag_prabowo.csv\")\n",
    "df_hashtag_anies = pd.read_csv(r\"..\\Scraper\\data_clean\\hashtag_AniesPresiden2024.csv\")\n",
    "df_hashtag_ahy = pd.read_csv(r\"..\\Scraper\\data_clean\\hashtag_AHY.csv\")\n",
    "df_hashtag_ridwan = pd.read_csv(r\"..\\Scraper\\data_clean\\hashtag_RidwanKamil.csv\")\n",
    "\n",
    "df_mention_ganjar = pd.read_csv(r\"..\\Scraper\\data_clean\\userMention_@ganjarpranowo.csv\")\n",
    "df_mention_prabowo = pd.read_csv(r\"..\\Scraper\\data_clean\\userMention_@prabowo.csv\")\n",
    "df_mention_anies = pd.read_csv(r\"..\\Scraper\\data_clean\\userMention_@aniesbaswedan.csv\")\n",
    "df_mention_ahy = pd.read_csv(r\"..\\Scraper\\data_clean\\userMention_@AgusYudhoyono.csv\")\n",
    "df_mention_ridwan = pd.read_csv(r\"..\\Scraper\\data_clean\\userMention_@ridwankamil.csv\")"
   ]
  },
  {
   "cell_type": "code",
   "execution_count": 53,
   "metadata": {},
   "outputs": [],
   "source": [
    "# ___Concat Dataframe___\n",
    "df_ganjar = pd.concat([df_hashtag_ganjar, df_mention_ganjar], ignore_index=True)\n",
    "df_prabowo = pd.concat([df_hashtag_prabowo, df_mention_prabowo], ignore_index=True)\n",
    "df_anies = pd.concat([df_hashtag_anies, df_mention_anies], ignore_index=True)\n",
    "df_ahy = pd.concat([df_hashtag_ahy, df_mention_ahy], ignore_index=True)\n",
    "df_ridwan = pd.concat([df_hashtag_ridwan, df_mention_ridwan], ignore_index=True)"
   ]
  },
  {
   "cell_type": "markdown",
   "metadata": {},
   "source": [
    "<div style='color: lightblue;\n",
    "           background-color: black;\n",
    "           font-size: 200%;\n",
    "           border-radius:15px;\n",
    "           text-align:center;\n",
    "           font-weight:600;\n",
    "           border-style: dashed;\n",
    "           border-color: lightblue;\n",
    "           font-family: \"Verdana\";'>\n",
    "Import Model\n",
    "<a class=\"anchor\" id=\"1\"></a> "
   ]
  },
  {
   "cell_type": "code",
   "execution_count": 2,
   "metadata": {},
   "outputs": [
    {
     "data": {
      "application/vnd.jupyter.widget-view+json": {
       "model_id": "62980c2baa124dd7ae9242172dfe83ee",
       "version_major": 2,
       "version_minor": 0
      },
      "text/plain": [
       "Downloading:   0%|          | 0.00/1.17k [00:00<?, ?B/s]"
      ]
     },
     "metadata": {},
     "output_type": "display_data"
    },
    {
     "data": {
      "application/vnd.jupyter.widget-view+json": {
       "model_id": "28657e19202f461298fb3a0467af3ee4",
       "version_major": 2,
       "version_minor": 0
      },
      "text/plain": [
       "Downloading:   0%|          | 0.00/498M [00:00<?, ?B/s]"
      ]
     },
     "metadata": {},
     "output_type": "display_data"
    },
    {
     "data": {
      "application/vnd.jupyter.widget-view+json": {
       "model_id": "cc9fe86c97514acba9680df16c5d1290",
       "version_major": 2,
       "version_minor": 0
      },
      "text/plain": [
       "Downloading:   0%|          | 0.00/2.00 [00:00<?, ?B/s]"
      ]
     },
     "metadata": {},
     "output_type": "display_data"
    },
    {
     "data": {
      "application/vnd.jupyter.widget-view+json": {
       "model_id": "62aae1876eed4b97b2c0f0f1ccc723e7",
       "version_major": 2,
       "version_minor": 0
      },
      "text/plain": [
       "Downloading:   0%|          | 0.00/229k [00:00<?, ?B/s]"
      ]
     },
     "metadata": {},
     "output_type": "display_data"
    },
    {
     "data": {
      "application/vnd.jupyter.widget-view+json": {
       "model_id": "d0a72ca09fda49c5a0633a26d17d2477",
       "version_major": 2,
       "version_minor": 0
      },
      "text/plain": [
       "Downloading:   0%|          | 0.00/112 [00:00<?, ?B/s]"
      ]
     },
     "metadata": {},
     "output_type": "display_data"
    }
   ],
   "source": [
    "pretrained= \"mdhugol/indonesia-bert-sentiment-classification\"\n",
    "\n",
    "model = AutoModelForSequenceClassification.from_pretrained(pretrained)\n",
    "tokenizer = AutoTokenizer.from_pretrained(pretrained)"
   ]
  },
  {
   "cell_type": "markdown",
   "metadata": {},
   "source": [
    "<div style='color: lightblue;\n",
    "           background-color: black;\n",
    "           font-size: 200%;\n",
    "           border-radius:15px;\n",
    "           text-align:center;\n",
    "           font-weight:600;\n",
    "           border-style: dashed;\n",
    "           border-color: lightblue;\n",
    "           font-family: \"Verdana\";'>\n",
    "Model Definition\n",
    "<a class=\"anchor\" id=\"1\"></a> "
   ]
  },
  {
   "cell_type": "code",
   "execution_count": 3,
   "metadata": {},
   "outputs": [],
   "source": [
    "sentiment_analysis = pipeline(\"sentiment-analysis\", model=model, tokenizer=tokenizer)\n",
    "\n",
    "label_index = {'LABEL_0': 'positive', 'LABEL_1': 'neutral', 'LABEL_2': 'negative'}"
   ]
  },
  {
   "cell_type": "markdown",
   "metadata": {},
   "source": [
    "<div style='color: lightblue;\n",
    "           background-color: black;\n",
    "           font-size: 200%;\n",
    "           border-radius:15px;\n",
    "           text-align:center;\n",
    "           font-weight:600;\n",
    "           border-style: dashed;\n",
    "           border-color: lightblue;\n",
    "           font-family: \"Verdana\";'>\n",
    "Prediction\n",
    "<a class=\"anchor\" id=\"1\"></a> "
   ]
  },
  {
   "cell_type": "code",
   "execution_count": 4,
   "metadata": {},
   "outputs": [
    {
     "name": "stdout",
     "output_type": "stream",
     "text": [
      "Text: Sangat bahagia hari ini | Label : positive (99.481%)\n",
      "Text: Dasar anak sialan!! Kurang ajar!! | Label : negative (99.828%)\n"
     ]
    }
   ],
   "source": [
    "# Example\n",
    "pos_text = \"Sangat bahagia hari ini\"\n",
    "neg_text = \"Dasar anak sialan!! Kurang ajar!!\"\n",
    "\n",
    "result = sentiment_analysis(pos_text)\n",
    "status = label_index[result[0]['label']]\n",
    "score = result[0]['score']\n",
    "print(f'Text: {pos_text} | Label : {status} ({score * 100:.3f}%)')\n",
    "\n",
    "result = sentiment_analysis(neg_text)\n",
    "status = label_index[result[0]['label']]\n",
    "score = result[0]['score']\n",
    "print(f'Text: {neg_text} | Label : {status} ({score * 100:.3f}%)')"
   ]
  },
  {
   "cell_type": "code",
   "execution_count": 5,
   "metadata": {},
   "outputs": [
    {
     "data": {
      "text/plain": [
       "[{'label': 'LABEL_2', 'score': 0.9982811212539673}]"
      ]
     },
     "execution_count": 5,
     "metadata": {},
     "output_type": "execute_result"
    }
   ],
   "source": [
    "result"
   ]
  },
  {
   "cell_type": "code",
   "execution_count": 57,
   "metadata": {},
   "outputs": [],
   "source": [
    "# pred_text = df_hashtag_ahy['content'][14]\n",
    "pred_text = df_ahy['clean_text'][1541]"
   ]
  },
  {
   "cell_type": "code",
   "execution_count": 58,
   "metadata": {},
   "outputs": [
    {
     "name": "stdout",
     "output_type": "stream",
     "text": [
      "Text: knp timnya anies nasdem drama dizolimi diaceh pdhl aceh tdk melarang anies menunda mas aceh mayoritas pksknp anies playing victimapa menuduh pd nasdem nakal | Label : negative (98.783%)\n"
     ]
    }
   ],
   "source": [
    "result = sentiment_analysis(pred_text)\n",
    "status = label_index[result[0]['label']]\n",
    "score = result[0]['score']\n",
    "print(f'Text: {pred_text} | Label : {status} ({score * 100:.3f}%)')"
   ]
  },
  {
   "cell_type": "code",
   "execution_count": 63,
   "metadata": {},
   "outputs": [
    {
     "data": {
      "text/plain": [
       "'negative'"
      ]
     },
     "execution_count": 63,
     "metadata": {},
     "output_type": "execute_result"
    }
   ],
   "source": [
    "status"
   ]
  },
  {
   "cell_type": "markdown",
   "metadata": {},
   "source": [
    "# Turn to list"
   ]
  },
  {
   "cell_type": "code",
   "execution_count": 64,
   "metadata": {},
   "outputs": [],
   "source": [
    "pos_list = []\n",
    "neu_list = []\n",
    "neg_list = []\n",
    "\n",
    "for index, row in df_ahy.iterrows():\n",
    "    # print(row['clean_text'])\n",
    "    result = sentiment_analysis(row['clean_text'])\n",
    "    status = label_index[result[0]['label']]\n",
    "\n",
    "    if status == 'positive':\n",
    "        pos_list.append(row['clean_text'])\n",
    "    elif status == 'neutral':\n",
    "        neu_list.append(row['clean_text'])\n",
    "    else:\n",
    "        neg_list.append(row['clean_text'])\n",
    "\n",
    "pos_df = pd.DataFrame(pos_list)\n",
    "neu_df = pd.DataFrame(neu_list)\n",
    "neg_df = pd.DataFrame(neg_list)"
   ]
  },
  {
   "cell_type": "code",
   "execution_count": 72,
   "metadata": {},
   "outputs": [
    {
     "name": "stdout",
     "output_type": "stream",
     "text": [
      "pos_df 416\n",
      "neu_df 985\n",
      "neg_df 430\n"
     ]
    }
   ],
   "source": [
    "print('pos_df', len(pos_df))\n",
    "print('neu_df', len(neu_df))\n",
    "print('neg_df', len(neg_df))"
   ]
  },
  {
   "cell_type": "code",
   "execution_count": null,
   "metadata": {},
   "outputs": [],
   "source": []
  }
 ],
 "metadata": {
  "kernelspec": {
   "display_name": "Python 3.9.12 ('base')",
   "language": "python",
   "name": "python3"
  },
  "language_info": {
   "codemirror_mode": {
    "name": "ipython",
    "version": 3
   },
   "file_extension": ".py",
   "mimetype": "text/x-python",
   "name": "python",
   "nbconvert_exporter": "python",
   "pygments_lexer": "ipython3",
   "version": "3.9.12"
  },
  "orig_nbformat": 4,
  "vscode": {
   "interpreter": {
    "hash": "ae82f06a89716e6b1a9fb2502ea27dc09c8096cb49931e0059d2a90ded1719c1"
   }
  }
 },
 "nbformat": 4,
 "nbformat_minor": 2
}
