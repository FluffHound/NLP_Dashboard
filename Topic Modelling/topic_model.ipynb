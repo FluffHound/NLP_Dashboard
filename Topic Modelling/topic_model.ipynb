{
 "cells": [
  {
   "cell_type": "markdown",
   "metadata": {},
   "source": [
    "<div style='color: lightblue;\n",
    "           background-color: black;\n",
    "           font-size: 200%;\n",
    "           border-radius:15px;\n",
    "           text-align:center;\n",
    "           font-weight:600;\n",
    "           border-style: dashed;\n",
    "           border-color: lightblue;\n",
    "           font-family: \"Verdana\";'>\n",
    "Import Packages\n",
    "<a class=\"anchor\" id=\"1\"></a> "
   ]
  },
  {
   "cell_type": "code",
   "execution_count": 3,
   "metadata": {},
   "outputs": [],
   "source": [
    "import pandas as pd\n",
    "import numpy as np\n",
    "\n",
    "import matplotlib.pyplot as plt\n",
    "import seaborn as sns\n",
    "\n",
    "import string\n",
    "import re\n",
    "\n",
    "import gensim\n",
    "from gensim.models.ldamodel import LdaModel\n",
    "from gensim.models.coherencemodel import CoherenceModel\n",
    "from sklearn.decomposition import LatentDirichletAllocation\n",
    "from sklearn.feature_extraction.text import TfidfVectorizer\n",
    "import pyLDAvis"
   ]
  },
  {
   "cell_type": "markdown",
   "metadata": {},
   "source": [
    "<div style='color: lightblue;\n",
    "           background-color: black;\n",
    "           font-size: 200%;\n",
    "           border-radius:15px;\n",
    "           text-align:center;\n",
    "           font-weight:600;\n",
    "           border-style: dashed;\n",
    "           border-color: lightblue;\n",
    "           font-family: \"Verdana\";'>\n",
    "Import Data\n",
    "<a class=\"anchor\" id=\"1\"></a> "
   ]
  },
  {
   "cell_type": "code",
   "execution_count": 62,
   "metadata": {},
   "outputs": [],
   "source": [
    "df_ganjar = pd.read_json(r\"C:\\Users\\Zagreus\\Documents\\GitHub\\NLP_Dashboard\\Scraper\\data_clean\\userProfile_ganjarpranowo.json\")\n",
    "df_prabowo = pd.read_json(r\"C:\\Users\\Zagreus\\Documents\\GitHub\\NLP_Dashboard\\Scraper\\data_clean\\userProfile_prabowo.json\")\n",
    "df_anies = pd.read_json(r\"C:\\Users\\Zagreus\\Documents\\GitHub\\NLP_Dashboard\\Scraper\\data_clean\\userProfile_aniesbaswedan.json\")\n",
    "df_ahy = pd.read_json(r\"C:\\Users\\Zagreus\\Documents\\GitHub\\NLP_Dashboard\\Scraper\\data_clean\\userProfile_AgusYudhoyono.json\")\n",
    "df_ridwan = pd.read_json(r\"C:\\Users\\Zagreus\\Documents\\GitHub\\NLP_Dashboard\\Scraper\\data_clean\\userProfile_ridwankamil.json\")"
   ]
  },
  {
   "cell_type": "markdown",
   "metadata": {},
   "source": [
    "<div style='color: lightblue;\n",
    "           background-color: black;\n",
    "           font-size: 200%;\n",
    "           border-radius:15px;\n",
    "           text-align:center;\n",
    "           font-weight:600;\n",
    "           border-style: dashed;\n",
    "           border-color: lightblue;\n",
    "           font-family: \"Verdana\";'>\n",
    "LDA With SKlearn\n",
    "<a class=\"anchor\" id=\"1\"></a> "
   ]
  },
  {
   "cell_type": "code",
   "execution_count": 1,
   "metadata": {},
   "outputs": [],
   "source": [
    "def compute_coherence_values(dictionary, corpus, texts, limit, start, step):\n",
    "    coherence_values = []\n",
    "    model_list = []\n",
    "    for num_topics in range(start, limit, step):\n",
    "        model = LdaModel(corpus=corpus, id2word=dictionary, num_topics=num_topics, iterations=100)\n",
    "        model_list.append(model)\n",
    "        coherencemodel = CoherenceModel(model=model, texts=texts, dictionary=dictionary, coherence='c_v')\n",
    "        coherence_values.append(coherencemodel.get_coherence())\n",
    "        \n",
    "    return model_list, coherence_values"
   ]
  },
  {
   "cell_type": "code",
   "execution_count": 64,
   "metadata": {},
   "outputs": [
    {
     "name": "stdout",
     "output_type": "stream",
     "text": [
      "0 banget\n",
      "1 ireng\n",
      "2 jumat\n",
      "3 launching\n",
      "4 nari\n",
      "5 neng\n",
      "6 nusantara\n",
      "7 pakai\n",
      "8 selasela\n",
      "9 topeng\n",
      "10 tradisional\n"
     ]
    }
   ],
   "source": [
    "dictionary = gensim.corpora.Dictionary(df_ganjar['text_token'])\n",
    "count = 0\n",
    "for k, v in dictionary.iteritems():\n",
    "    print(k, v)\n",
    "    count += 1\n",
    "    if count > 10:\n",
    "        break"
   ]
  },
  {
   "cell_type": "code",
   "execution_count": 66,
   "metadata": {},
   "outputs": [],
   "source": [
    "bow_corpus = [dictionary.doc2bow(doc) for doc in df_ganjar['text_token']]\n",
    "\n",
    "tfidf = gensim.models.TfidfModel(bow_corpus)\n",
    "corpus_tfidf = tfidf[bow_corpus]"
   ]
  },
  {
   "cell_type": "code",
   "execution_count": 70,
   "metadata": {},
   "outputs": [
    {
     "data": {
      "image/png": "[encoded data removed]",
      "text/plain": [
       "<Figure size 432x288 with 1 Axes>"
      ]
     },
     "metadata": {
      "needs_background": "light"
     },
     "output_type": "display_data"
    }
   ],
   "source": [
    "start=1\n",
    "limit=11\n",
    "step=1\n",
    "model_list, coherence_values = compute_coherence_values(dictionary, corpus=corpus_tfidf, \n",
    "                                                        texts=df_ganjar['text_token'],\n",
    "                                                        start=start, limit=limit, step=step)\n",
    "\n",
    "x = range(start, limit, step)\n",
    "plt.plot(x, coherence_values)\n",
    "plt.xlabel(\"Num Topics\")\n",
    "plt.ylabel(\"Coherence score\")\n",
    "plt.legend((\"coherence_values\"), loc='best')\n",
    "plt.show()"
   ]
  },
  {
   "cell_type": "code",
   "execution_count": 71,
   "metadata": {},
   "outputs": [
    {
     "name": "stdout",
     "output_type": "stream",
     "text": [
      "Num Topics = 1  has Coherence Value of 0.57195\n",
      "Num Topics = 2  has Coherence Value of 0.620381\n",
      "Num Topics = 3  has Coherence Value of 0.556767\n",
      "Num Topics = 4  has Coherence Value of 0.5347\n",
      "Num Topics = 5  has Coherence Value of 0.517801\n",
      "Num Topics = 6  has Coherence Value of 0.492643\n",
      "Num Topics = 7  has Coherence Value of 0.446473\n",
      "Num Topics = 8  has Coherence Value of 0.372896\n",
      "Num Topics = 9  has Coherence Value of 0.358427\n",
      "Num Topics = 10  has Coherence Value of 0.351964\n"
     ]
    }
   ],
   "source": [
    "# Print the coherence scores\n",
    "for m, cv in zip(x, coherence_values):\n",
    "    print(\"Num Topics =\", m, \" has Coherence Value of\", round(cv, 6))"
   ]
  },
  {
   "cell_type": "code",
   "execution_count": 72,
   "metadata": {},
   "outputs": [],
   "source": [
    "model = LdaModel(corpus=corpus_tfidf, id2word=dictionary, num_topics=2) #num topic menyesuaikan hasil dari coherence value paling tinggi"
   ]
  },
  {
   "cell_type": "code",
   "execution_count": 75,
   "metadata": {},
   "outputs": [
    {
     "ename": "AttributeError",
     "evalue": "module 'pyLDAvis' has no attribute 'gensim'",
     "output_type": "error",
     "traceback": [
      "\u001b[1;31m---------------------------------------------------------------------------\u001b[0m",
      "\u001b[1;31mAttributeError\u001b[0m                            Traceback (most recent call last)",
      "\u001b[1;32mc:\\Users\\Zagreus\\Documents\\GitHub\\NLP_Dashboard\\Topic Modelling\\topic_model.ipynb Cell 12\u001b[0m in \u001b[0;36m<cell line: 1>\u001b[1;34m()\u001b[0m\n\u001b[1;32m----> <a href='vscode-notebook-cell:/c%3A/Users/Zagreus/Documents/GitHub/NLP_Dashboard/Topic%20Modelling/topic_model.ipynb#X44sZmlsZQ%3D%3D?line=0'>1</a>\u001b[0m data \u001b[39m=\u001b[39m pyLDAvis\u001b[39m.\u001b[39;49mgensim\u001b[39m.\u001b[39mprepare(model, corpus_tfidf, dictionary)\n\u001b[0;32m      <a href='vscode-notebook-cell:/c%3A/Users/Zagreus/Documents/GitHub/NLP_Dashboard/Topic%20Modelling/topic_model.ipynb#X44sZmlsZQ%3D%3D?line=1'>2</a>\u001b[0m pyLDAvis\u001b[39m.\u001b[39msave_html(data, \u001b[39m'\u001b[39m\u001b[39mlda-gensim-tfidf.html\u001b[39m\u001b[39m'\u001b[39m)\n",
      "\u001b[1;31mAttributeError\u001b[0m: module 'pyLDAvis' has no attribute 'gensim'"
     ]
    }
   ],
   "source": [
    "data = pyLDAvis.gensim.prepare(model, corpus_tfidf, dictionary)\n",
    "pyLDAvis.save_html(data, 'lda-gensim-tfidf.html')"
   ]
  },
  {
   "cell_type": "code",
   "execution_count": 4,
   "metadata": {},
   "outputs": [
    {
     "ename": "TypeError",
     "evalue": "prepare() missing 5 required positional arguments: 'topic_term_dists', 'doc_topic_dists', 'doc_lengths', 'vocab', and 'term_frequency'",
     "output_type": "error",
     "traceback": [
      "\u001b[1;31m---------------------------------------------------------------------------\u001b[0m",
      "\u001b[1;31mTypeError\u001b[0m                                 Traceback (most recent call last)",
      "\u001b[1;32mc:\\Users\\Zagreus\\Documents\\GitHub\\NLP_Dashboard\\Topic Modelling\\topic_model.ipynb Cell 13\u001b[0m in \u001b[0;36m<cell line: 1>\u001b[1;34m()\u001b[0m\n\u001b[1;32m----> <a href='vscode-notebook-cell:/c%3A/Users/Zagreus/Documents/GitHub/NLP_Dashboard/Topic%20Modelling/topic_model.ipynb#X45sZmlsZQ%3D%3D?line=0'>1</a>\u001b[0m pyLDAvis\u001b[39m.\u001b[39;49mprepare()\n",
      "\u001b[1;31mTypeError\u001b[0m: prepare() missing 5 required positional arguments: 'topic_term_dists', 'doc_topic_dists', 'doc_lengths', 'vocab', and 'term_frequency'"
     ]
    }
   ],
   "source": [
    "pyLDAvis.prepare()"
   ]
  },
  {
   "cell_type": "code",
   "execution_count": 5,
   "metadata": {},
   "outputs": [
    {
     "data": {
      "text/plain": [
       "'3.3.0'"
      ]
     },
     "execution_count": 5,
     "metadata": {},
     "output_type": "execute_result"
    }
   ],
   "source": [
    "pyLDAvis.__version__"
   ]
  },
  {
   "cell_type": "code",
   "execution_count": null,
   "metadata": {},
   "outputs": [],
   "source": []
  }
 ],
 "metadata": {
  "kernelspec": {
   "display_name": "Python 3.9.12 ('base')",
   "language": "python",
   "name": "python3"
  },
  "language_info": {
   "codemirror_mode": {
    "name": "ipython",
    "version": 3
   },
   "file_extension": ".py",
   "mimetype": "text/x-python",
   "name": "python",
   "nbconvert_exporter": "python",
   "pygments_lexer": "ipython3",
   "version": "3.9.12"
  },
  "orig_nbformat": 4,
  "vscode": {
   "interpreter": {
    "hash": "ae82f06a89716e6b1a9fb2502ea27dc09c8096cb49931e0059d2a90ded1719c1"
   }
  }
 },
 "nbformat": 4,
 "nbformat_minor": 2
}
