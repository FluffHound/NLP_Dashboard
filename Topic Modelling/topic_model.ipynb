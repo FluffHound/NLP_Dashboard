{
 "cells": [
  {
   "cell_type": "markdown",
   "metadata": {},
   "source": [
    "<div style='color: lightblue;\n",
    "           background-color: black;\n",
    "           font-size: 200%;\n",
    "           border-radius:15px;\n",
    "           text-align:center;\n",
    "           font-weight:600;\n",
    "           border-style: dashed;\n",
    "           border-color: lightblue;\n",
    "           font-family: \"Verdana\";'>\n",
    "Import Packages\n",
    "<a class=\"anchor\" id=\"1\"></a> "
   ]
  },
  {
   "cell_type": "code",
   "execution_count": 5,
   "metadata": {},
   "outputs": [],
   "source": [
    "import pandas as pd\n",
    "import numpy as np\n",
    "\n",
    "import matplotlib.pyplot as plt\n",
    "import seaborn as sns\n",
    "\n",
    "import string\n",
    "import re\n",
    "import gensim\n",
    "import pyLDAvis"
   ]
  },
  {
   "cell_type": "markdown",
   "metadata": {},
   "source": [
    "<div style='color: lightblue;\n",
    "           background-color: black;\n",
    "           font-size: 200%;\n",
    "           border-radius:15px;\n",
    "           text-align:center;\n",
    "           font-weight:600;\n",
    "           border-style: dashed;\n",
    "           border-color: lightblue;\n",
    "           font-family: \"Verdana\";'>\n",
    "Import Data\n",
    "<a class=\"anchor\" id=\"1\"></a> "
   ]
  },
  {
   "cell_type": "code",
   "execution_count": 3,
   "metadata": {},
   "outputs": [],
   "source": [
    "df_ganjar = pd.read_csv(r\"C:\\Users\\Zagreus\\Documents\\GitHub\\NLP_Dashboard\\Scraper\\data_clean\\userProfile_ganjarpranowo.csv\", sep=';')\n",
    "df_prabowo = pd.read_csv(r\"C:\\Users\\Zagreus\\Documents\\GitHub\\NLP_Dashboard\\Scraper\\data_clean\\userProfile_prabowo.csv\", sep=';')\n",
    "df_anies = pd.read_csv(r\"C:\\Users\\Zagreus\\Documents\\GitHub\\NLP_Dashboard\\Scraper\\data_clean\\userProfile_aniesbaswedan.csv\", sep=';')\n",
    "df_ahy = pd.read_csv(r\"C:\\Users\\Zagreus\\Documents\\GitHub\\NLP_Dashboard\\Scraper\\data_clean\\userProfile_AgusYudhoyono.csv\", sep=';')\n",
    "df_ridwan = pd.read_csv(r\"C:\\Users\\Zagreus\\Documents\\GitHub\\NLP_Dashboard\\Scraper\\data_clean\\userProfile_ridwankamil.csv\", sep=';')"
   ]
  },
  {
   "cell_type": "markdown",
   "metadata": {},
   "source": [
    "<div style='color: lightblue;\n",
    "           background-color: black;\n",
    "           font-size: 200%;\n",
    "           border-radius:15px;\n",
    "           text-align:center;\n",
    "           font-weight:600;\n",
    "           border-style: dashed;\n",
    "           border-color: lightblue;\n",
    "           font-family: \"Verdana\";'>\n",
    "LDA With Gensim\n",
    "<a class=\"anchor\" id=\"1\"></a> "
   ]
  },
  {
   "cell_type": "markdown",
   "metadata": {},
   "source": [
    "## Dictionary"
   ]
  },
  {
   "cell_type": "code",
   "execution_count": null,
   "metadata": {},
   "outputs": [],
   "source": [
    "dictionary = gensim.corpora.Dictionary(df['name_no_stopwords'])\n",
    "count = 0\n",
    "for k, v in dictionary.iteritems():\n",
    "    print(k, v)\n",
    "    count += 1\n",
    "    if count > 10:\n",
    "        break"
   ]
  },
  {
   "cell_type": "code",
   "execution_count": null,
   "metadata": {},
   "outputs": [],
   "source": []
  }
 ],
 "metadata": {
  "kernelspec": {
   "display_name": "Python 3.9.12 ('base')",
   "language": "python",
   "name": "python3"
  },
  "language_info": {
   "codemirror_mode": {
    "name": "ipython",
    "version": 3
   },
   "file_extension": ".py",
   "mimetype": "text/x-python",
   "name": "python",
   "nbconvert_exporter": "python",
   "pygments_lexer": "ipython3",
   "version": "3.9.12"
  },
  "orig_nbformat": 4,
  "vscode": {
   "interpreter": {
    "hash": "ae82f06a89716e6b1a9fb2502ea27dc09c8096cb49931e0059d2a90ded1719c1"
   }
  }
 },
 "nbformat": 4,
 "nbformat_minor": 2
}
